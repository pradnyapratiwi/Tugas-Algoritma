{
 "cells": [
  {
   "cell_type": "markdown",
   "id": "c0826d2f",
   "metadata": {},
   "source": [
    "# 5.16 List Dua Dimensi\n",
    "####            List 2 dimensi pada umumnya adalah menempatkan sebuah list di dalam list. Penggambarannya seperti sebuah matriks, yaitu terdapat indeks kolo dan baris."
   ]
  },
  {
   "cell_type": "code",
   "execution_count": 1,
   "id": "4d09f678",
   "metadata": {},
   "outputs": [
    {
     "name": "stdout",
     "output_type": "stream",
     "text": [
      "[[1, 2, 3, 4, 5], [5, 6, 7, 8, 9, 10], [11, 12, 13, 14, 15], [16, 17, 18, 19, 20], [21, 22, 23, 24, 25]]\n"
     ]
    }
   ],
   "source": [
    "nim = [\n",
    "    [1,2,3,4,5],\n",
    "    [5,6,7,8,9,10],\n",
    "    [11,12,13,14,15],\n",
    "    [16,17,18,19,20],\n",
    "    [21,22,23,24,25]\n",
    "]\n",
    "print(nim)\n",
    "#list ini terdiri dari 4 baris dan masing-masing terdiri dari 4  kolom (dihitung mulai dari 0)"
   ]
  },
  {
   "cell_type": "code",
   "execution_count": 2,
   "id": "99bbbf6a",
   "metadata": {},
   "outputs": [
    {
     "data": {
      "text/plain": [
       "[1, 2, 3, 4, 5]"
      ]
     },
     "execution_count": 2,
     "metadata": {},
     "output_type": "execute_result"
    }
   ],
   "source": [
    "nim [0]\n",
    "#variabel nim dengan indeks baris ke-0"
   ]
  },
  {
   "cell_type": "code",
   "execution_count": 3,
   "id": "54890ae5",
   "metadata": {},
   "outputs": [
    {
     "data": {
      "text/plain": [
       "[5, 6, 7, 8, 9, 10]"
      ]
     },
     "execution_count": 3,
     "metadata": {},
     "output_type": "execute_result"
    }
   ],
   "source": [
    "nim [1]\n",
    "#variabel nim dengan indeks baris ke-1"
   ]
  },
  {
   "cell_type": "code",
   "execution_count": 4,
   "id": "5f6e5144",
   "metadata": {},
   "outputs": [
    {
     "data": {
      "text/plain": [
       "1"
      ]
     },
     "execution_count": 4,
     "metadata": {},
     "output_type": "execute_result"
    }
   ],
   "source": [
    "nim [0][0]\n",
    "# variabel nim dengan indeks baris ke-0 dan kolom ke-0"
   ]
  },
  {
   "cell_type": "code",
   "execution_count": 5,
   "id": "d855aa97",
   "metadata": {},
   "outputs": [
    {
     "data": {
      "text/plain": [
       "25"
      ]
     },
     "execution_count": 5,
     "metadata": {},
     "output_type": "execute_result"
    }
   ],
   "source": [
    "nim [4][4]\n",
    "# variabel nim dengan indeks baris ke-4 dan kolom ke-4"
   ]
  },
  {
   "cell_type": "code",
   "execution_count": 6,
   "id": "3a3d29fa",
   "metadata": {},
   "outputs": [
    {
     "data": {
      "text/plain": [
       "14"
      ]
     },
     "execution_count": 6,
     "metadata": {},
     "output_type": "execute_result"
    }
   ],
   "source": [
    "nim [2][3]\n",
    "# variabel nim dengan indeks baris ke-2 dan kolom ke-3"
   ]
  },
  {
   "cell_type": "code",
   "execution_count": 7,
   "id": "3fa20807",
   "metadata": {},
   "outputs": [
    {
     "name": "stdout",
     "output_type": "stream",
     "text": [
      "26\n"
     ]
    }
   ],
   "source": [
    "nim[4][4]=26\n",
    "print(nim[4][4])\n",
    "#merubah isi list pada indeks baris ke-4 dan kolom ke-4"
   ]
  },
  {
   "cell_type": "code",
   "execution_count": 8,
   "id": "822b2926",
   "metadata": {},
   "outputs": [
    {
     "data": {
      "text/plain": [
       "[[1, 2, 3, 4, 5],\n",
       " [5, 6, 7, 8, 9, 10],\n",
       " [11, 12, 13, 14, 15],\n",
       " [16, 17, 18, 19, 20],\n",
       " [21, 22, 23, 24, 26]]"
      ]
     },
     "execution_count": 8,
     "metadata": {},
     "output_type": "execute_result"
    }
   ],
   "source": [
    "nim\n",
    "#menampilkan isi list yang baru"
   ]
  },
  {
   "cell_type": "code",
   "execution_count": 9,
   "id": "d61242b8",
   "metadata": {},
   "outputs": [
    {
     "name": "stdout",
     "output_type": "stream",
     "text": [
      "[1, 2, 3, 4, 5]\n",
      "1\n",
      "2\n",
      "3\n",
      "4\n",
      "5\n",
      "[5, 6, 7, 8, 9, 10]\n",
      "5\n",
      "6\n",
      "7\n",
      "8\n",
      "9\n",
      "10\n",
      "[11, 12, 13, 14, 15]\n",
      "11\n",
      "12\n",
      "13\n",
      "14\n",
      "15\n",
      "[16, 17, 18, 19, 20]\n",
      "16\n",
      "17\n",
      "18\n",
      "19\n",
      "20\n",
      "[21, 22, 23, 24, 26]\n",
      "21\n",
      "22\n",
      "23\n",
      "24\n",
      "26\n"
     ]
    }
   ],
   "source": [
    "for baris in nim:\n",
    "    print(baris)\n",
    "    for kolom in baris:\n",
    "        print (kolom)\n",
    "#untuk menampilkan list dan anggotanya dapat juga menggunakan dengan perintah for"
   ]
  },
  {
   "cell_type": "code",
   "execution_count": 10,
   "id": "656b59c1",
   "metadata": {},
   "outputs": [
    {
     "name": "stdout",
     "output_type": "stream",
     "text": [
      "[1, 2, 3, 4, 5]\n",
      "[5, 6, 7, 8, 9, 10]\n",
      "[11, 12, 13, 14, 15]\n",
      "[16, 17, 18, 19, 20]\n",
      "[21, 22, 23, 24, 26]\n",
      "21\n",
      "22\n",
      "23\n",
      "24\n",
      "26\n"
     ]
    }
   ],
   "source": [
    "for baris in nim:\n",
    "    print(baris)\n",
    "for kolom in baris:\n",
    "        print (kolom)\n",
    "#perlu diperhatikan cara penulisan for. Bandingkan kode ini dengan kode sebelumnya.\n",
    "#"
   ]
  },
  {
   "cell_type": "markdown",
   "id": "36297677",
   "metadata": {},
   "source": [
    "# 5.17 Tuples\n",
    "#### Tuples tidak jauh berbeda dengan list, perbedaannya adalah pada tuples isinya tidak dapat dirubah, sedangkan list bisa. Penulisannya juga menggunakan kurung biasa. Untuk mengakses nilai tuples, gunakan indeks seperti pada list."
   ]
  },
  {
   "cell_type": "code",
   "execution_count": 11,
   "id": "76b7a690",
   "metadata": {},
   "outputs": [],
   "source": [
    "brand = (69, 'gucci', 'hm', 'colorbox', 'uniqlo')\n",
    "#anggotanya dapat berupa angka maupun string, demikian juga pada list"
   ]
  },
  {
   "cell_type": "code",
   "execution_count": 12,
   "id": "752ef677",
   "metadata": {},
   "outputs": [
    {
     "name": "stdout",
     "output_type": "stream",
     "text": [
      "69\n"
     ]
    }
   ],
   "source": [
    "print(brand[0])"
   ]
  },
  {
   "cell_type": "code",
   "execution_count": 13,
   "id": "3a720255",
   "metadata": {},
   "outputs": [
    {
     "name": "stdout",
     "output_type": "stream",
     "text": [
      "(69, 'gucci', 'hm')\n"
     ]
    }
   ],
   "source": [
    "print(brand[0:3])"
   ]
  },
  {
   "cell_type": "code",
   "execution_count": 14,
   "id": "00e1f902",
   "metadata": {},
   "outputs": [
    {
     "name": "stdout",
     "output_type": "stream",
     "text": [
      "('gucci', 'hm')\n"
     ]
    }
   ],
   "source": [
    "print (brand[1:3])"
   ]
  },
  {
   "cell_type": "code",
   "execution_count": 15,
   "id": "e8612833",
   "metadata": {},
   "outputs": [
    {
     "name": "stdout",
     "output_type": "stream",
     "text": [
      "('gucci',)\n"
     ]
    }
   ],
   "source": [
    "print (brand[1:2])"
   ]
  },
  {
   "cell_type": "code",
   "execution_count": 16,
   "id": "ba909f88",
   "metadata": {},
   "outputs": [
    {
     "name": "stdout",
     "output_type": "stream",
     "text": [
      "69\n",
      "gucci\n",
      "hm\n",
      "colorbox\n"
     ]
    }
   ],
   "source": [
    "for isi in brand[0:4]:\n",
    "    print(isi)"
   ]
  },
  {
   "cell_type": "code",
   "execution_count": 17,
   "id": "87a024cf",
   "metadata": {},
   "outputs": [
    {
     "ename": "TypeError",
     "evalue": "'tuple' object does not support item assignment",
     "output_type": "error",
     "traceback": [
      "\u001b[1;31m---------------------------------------------------------------------------\u001b[0m",
      "\u001b[1;31mTypeError\u001b[0m                                 Traceback (most recent call last)",
      "\u001b[1;32m~\\AppData\\Local\\Temp\\ipykernel_9768\\1047778076.py\u001b[0m in \u001b[0;36m<module>\u001b[1;34m\u001b[0m\n\u001b[1;32m----> 1\u001b[1;33m \u001b[0mbrand\u001b[0m\u001b[1;33m[\u001b[0m\u001b[1;36m1\u001b[0m\u001b[1;33m]\u001b[0m\u001b[1;33m=\u001b[0m \u001b[1;34m'chanel'\u001b[0m\u001b[1;33m\u001b[0m\u001b[1;33m\u001b[0m\u001b[0m\n\u001b[0m\u001b[0;32m      2\u001b[0m \u001b[1;31m#mecoba untuk mengganti isi dari tuples\u001b[0m\u001b[1;33m\u001b[0m\u001b[1;33m\u001b[0m\u001b[0m\n",
      "\u001b[1;31mTypeError\u001b[0m: 'tuple' object does not support item assignment"
     ]
    }
   ],
   "source": [
    "brand[1]= 'chanel'\n",
    "#mecoba untuk mengganti isi dari tuples"
   ]
  },
  {
   "cell_type": "code",
   "execution_count": 18,
   "id": "c7e6fbd0",
   "metadata": {},
   "outputs": [
    {
     "ename": "AttributeError",
     "evalue": "'tuple' object has no attribute 'append'",
     "output_type": "error",
     "traceback": [
      "\u001b[1;31m---------------------------------------------------------------------------\u001b[0m",
      "\u001b[1;31mAttributeError\u001b[0m                            Traceback (most recent call last)",
      "\u001b[1;32m~\\AppData\\Local\\Temp\\ipykernel_9768\\1584831500.py\u001b[0m in \u001b[0;36m<module>\u001b[1;34m\u001b[0m\n\u001b[1;32m----> 1\u001b[1;33m \u001b[0mbrand\u001b[0m\u001b[1;33m.\u001b[0m\u001b[0mappend\u001b[0m\u001b[1;33m(\u001b[0m\u001b[1;34m'zara'\u001b[0m\u001b[1;33m)\u001b[0m\u001b[1;33m\u001b[0m\u001b[1;33m\u001b[0m\u001b[0m\n\u001b[0m\u001b[0;32m      2\u001b[0m \u001b[1;31m#append digunakan untuk menambahkan anggota, maka hal ini tidak berlaku pada tuples\u001b[0m\u001b[1;33m\u001b[0m\u001b[1;33m\u001b[0m\u001b[0m\n",
      "\u001b[1;31mAttributeError\u001b[0m: 'tuple' object has no attribute 'append'"
     ]
    }
   ],
   "source": [
    "brand.append('zara')\n",
    "#append digunakan untuk menambahkan anggota, maka hal ini tidak berlaku pada tuples"
   ]
  },
  {
   "cell_type": "code",
   "execution_count": 19,
   "id": "c1289d57",
   "metadata": {},
   "outputs": [
    {
     "ename": "AttributeError",
     "evalue": "'tuple' object has no attribute 'remove'",
     "output_type": "error",
     "traceback": [
      "\u001b[1;31m---------------------------------------------------------------------------\u001b[0m",
      "\u001b[1;31mAttributeError\u001b[0m                            Traceback (most recent call last)",
      "\u001b[1;32m~\\AppData\\Local\\Temp\\ipykernel_9768\\646753151.py\u001b[0m in \u001b[0;36m<module>\u001b[1;34m\u001b[0m\n\u001b[1;32m----> 1\u001b[1;33m \u001b[0mbrand\u001b[0m\u001b[1;33m.\u001b[0m\u001b[0mremove\u001b[0m\u001b[1;33m(\u001b[0m\u001b[1;36m69\u001b[0m\u001b[1;33m)\u001b[0m\u001b[1;33m\u001b[0m\u001b[1;33m\u001b[0m\u001b[0m\n\u001b[0m\u001b[0;32m      2\u001b[0m \u001b[1;31m#remove digunakan untuk menghilangkan atau menghapus anggota,\u001b[0m\u001b[1;33m\u001b[0m\u001b[1;33m\u001b[0m\u001b[0m\n\u001b[0;32m      3\u001b[0m \u001b[1;31m#pada tuples selain tidak dapat menambahkan, juga tidak dapat mengurangi karena tuples tidak dapat diubah anggotanya\u001b[0m\u001b[1;33m\u001b[0m\u001b[1;33m\u001b[0m\u001b[0m\n",
      "\u001b[1;31mAttributeError\u001b[0m: 'tuple' object has no attribute 'remove'"
     ]
    }
   ],
   "source": [
    "brand.remove(69)\n",
    "#remove digunakan untuk menghilangkan atau menghapus anggota, \n",
    "#pada tuples selain tidak dapat menambahkan, juga tidak dapat mengurangi karena tuples tidak dapat diubah anggotanya"
   ]
  },
  {
   "cell_type": "code",
   "execution_count": 20,
   "id": "7e38b4cd",
   "metadata": {},
   "outputs": [
    {
     "data": {
      "text/plain": [
       "1"
      ]
     },
     "execution_count": 20,
     "metadata": {},
     "output_type": "execute_result"
    }
   ],
   "source": [
    "brand.count(69)\n",
    "#menghitung berapa ada nilai yang akan dicari, pada kode ini kita menghitung berapa ada merk 69"
   ]
  },
  {
   "cell_type": "code",
   "execution_count": 21,
   "id": "97353a01",
   "metadata": {},
   "outputs": [
    {
     "data": {
      "text/plain": [
       "2"
      ]
     },
     "execution_count": 21,
     "metadata": {},
     "output_type": "execute_result"
    }
   ],
   "source": [
    "brand.index('hm')\n",
    "#digunakan untuk melihat anggota dari tuples berada pada indeks keberapa, \n",
    "#pada kode ini kita ingin mencari tau hm berada pada indeks keberapa"
   ]
  },
  {
   "cell_type": "markdown",
   "id": "cef9bd03",
   "metadata": {},
   "source": [
    "# 5.18 Dictionaries\n",
    "#### Dictionaries memiliki perbedaan dengan list dan tuples. Pada dictionaries setiap urutanya berisi key dan value. Setiap key dipisahkan dari value-nya oleh titik dua (:), item dipisahkan oleh koma.  Key merupakan nama atribut suatu item pada dictionary, sedangkan value adalah nilai yang disimpan pada suatu atribut."
   ]
  },
  {
   "cell_type": "code",
   "execution_count": 22,
   "id": "d5037181",
   "metadata": {},
   "outputs": [],
   "source": [
    "data_pendonor_darah_mhs_mat={\n",
    "    'nama' : 'Anya Tentria',\n",
    "    'usia' : 19,\n",
    "    'golongan_darah' : 'O',\n",
    "    'berat_badan' : 50,\n",
    "    'memiliki_riwayat_covid_19' : False\n",
    "}\n",
    "# Terdiri dari 5 buah “key” atau “atribut”, yaitu:\n",
    "#nama\n",
    "#usia\n",
    "#golongan darah\n",
    "#berat badan\n",
    "#memiliki riwayat covid 19\n",
    "#Yang mana masing-masing atribut tersebut memiliki informasi/nilai sendiri-sendiri sesuai dengan namanya."
   ]
  },
  {
   "cell_type": "code",
   "execution_count": 23,
   "id": "e5f95100",
   "metadata": {},
   "outputs": [
    {
     "name": "stdout",
     "output_type": "stream",
     "text": [
      "Anya Tentria\n"
     ]
    }
   ],
   "source": [
    "print(data_pendonor_darah_mhs_mat['nama'])"
   ]
  },
  {
   "cell_type": "code",
   "execution_count": 24,
   "id": "31be600f",
   "metadata": {},
   "outputs": [
    {
     "name": "stdout",
     "output_type": "stream",
     "text": [
      "O\n"
     ]
    }
   ],
   "source": [
    "print(data_pendonor_darah_mhs_mat['golongan_darah'])"
   ]
  },
  {
   "cell_type": "code",
   "execution_count": 25,
   "id": "7f47f83e",
   "metadata": {},
   "outputs": [
    {
     "name": "stdout",
     "output_type": "stream",
     "text": [
      "Anya Tentria\n"
     ]
    }
   ],
   "source": [
    "print(data_pendonor_darah_mhs_mat.get('nama'))\n",
    "#get digunakan jika kita ingin mendapatkan salah satu informasi atau nilai dari setiap elemen yang terdapat pada dictionaries."
   ]
  },
  {
   "cell_type": "code",
   "execution_count": 26,
   "id": "f06f8fc2",
   "metadata": {},
   "outputs": [
    {
     "name": "stdout",
     "output_type": "stream",
     "text": [
      "None\n"
     ]
    }
   ],
   "source": [
    "print(data_pendonor_darah_mhs_mat.get('Nama'))\n",
    "#jika kode tidak dapat menemukan atau terjadi suatu kesalahan dalam penulisan kode \n",
    "#(pada contoh di atas kesalahan terletak pada variabel)\n",
    "#maka output yang dihasilkan adalah None"
   ]
  },
  {
   "cell_type": "code",
   "execution_count": 27,
   "id": "e52a0303",
   "metadata": {},
   "outputs": [
    {
     "name": "stdout",
     "output_type": "stream",
     "text": [
      "None\n"
     ]
    }
   ],
   "source": [
    "print(data_pendonor_darah_mhs_mat.get('tanggal_lahir'))\n",
    "#karena pada dictionaries tidak terdapat tanggaln lahir maka output yang muncul adalah None"
   ]
  },
  {
   "cell_type": "code",
   "execution_count": 28,
   "id": "b6f76a57",
   "metadata": {},
   "outputs": [
    {
     "name": "stdout",
     "output_type": "stream",
     "text": [
      "2-2-2010\n"
     ]
    }
   ],
   "source": [
    "print(data_pendonor_darah_mhs_mat.get('tanggal_lahir', '2-2-2010'))"
   ]
  },
  {
   "cell_type": "code",
   "execution_count": 29,
   "id": "8d7c3cad",
   "metadata": {},
   "outputs": [
    {
     "name": "stdout",
     "output_type": "stream",
     "text": [
      "None\n"
     ]
    }
   ],
   "source": [
    "print(data_pendonor_darah_mhs_mat.get('tanggal_lahir'))"
   ]
  },
  {
   "cell_type": "code",
   "execution_count": 30,
   "id": "31399400",
   "metadata": {},
   "outputs": [
    {
     "name": "stdout",
     "output_type": "stream",
     "text": [
      "{'nama': 'Anya Tentria', 'usia': 19, 'golongan_darah': 'O', 'berat_badan': 50, 'memiliki_riwayat_covid_19': False}\n"
     ]
    }
   ],
   "source": [
    "print(data_pendonor_darah_mhs_mat)"
   ]
  },
  {
   "cell_type": "code",
   "execution_count": 31,
   "id": "1639009b",
   "metadata": {},
   "outputs": [
    {
     "ename": "KeyError",
     "evalue": "'tanggal_lahir'",
     "output_type": "error",
     "traceback": [
      "\u001b[1;31m---------------------------------------------------------------------------\u001b[0m",
      "\u001b[1;31mKeyError\u001b[0m                                  Traceback (most recent call last)",
      "\u001b[1;32m~\\AppData\\Local\\Temp\\ipykernel_9768\\1416873140.py\u001b[0m in \u001b[0;36m<module>\u001b[1;34m\u001b[0m\n\u001b[1;32m----> 1\u001b[1;33m \u001b[0mprint\u001b[0m\u001b[1;33m(\u001b[0m\u001b[0mdata_pendonor_darah_mhs_mat\u001b[0m\u001b[1;33m[\u001b[0m\u001b[1;34m'tanggal_lahir'\u001b[0m\u001b[1;33m]\u001b[0m\u001b[1;33m)\u001b[0m\u001b[1;33m\u001b[0m\u001b[1;33m\u001b[0m\u001b[0m\n\u001b[0m",
      "\u001b[1;31mKeyError\u001b[0m: 'tanggal_lahir'"
     ]
    }
   ],
   "source": [
    "print(data_pendonor_darah_mhs_mat['tanggal_lahir'])"
   ]
  },
  {
   "cell_type": "code",
   "execution_count": 34,
   "id": "c5e0886d",
   "metadata": {},
   "outputs": [],
   "source": [
    "#jika ingin menambahkan key dan value pada dictionaries maka kita harus menginisialisasi terlebih dahulu, \n",
    "#seperti contoh berikut."
   ]
  },
  {
   "cell_type": "code",
   "execution_count": 35,
   "id": "f82e75e2",
   "metadata": {},
   "outputs": [],
   "source": [
    "data_pendonor_darah_mhs_mat['tanggal_lahir']='14/11/2003'"
   ]
  },
  {
   "cell_type": "code",
   "execution_count": 36,
   "id": "c45a59b6",
   "metadata": {},
   "outputs": [],
   "source": [
    "data_pendonor_darah_mhs_mat['HP']='081987654321'"
   ]
  },
  {
   "cell_type": "code",
   "execution_count": 37,
   "id": "867682eb",
   "metadata": {},
   "outputs": [
    {
     "name": "stdout",
     "output_type": "stream",
     "text": [
      "081987654321\n"
     ]
    }
   ],
   "source": [
    "print(data_pendonor_darah_mhs_mat['HP'])"
   ]
  },
  {
   "cell_type": "code",
   "execution_count": 38,
   "id": "ef05952f",
   "metadata": {},
   "outputs": [
    {
     "name": "stdout",
     "output_type": "stream",
     "text": [
      "{'nama': 'Anya Tentria', 'usia': 19, 'golongan_darah': 'O', 'berat_badan': 50, 'memiliki_riwayat_covid_19': False, 'tanggal_lahir': '14/11/2003', 'HP': '081987654321'}\n"
     ]
    }
   ],
   "source": [
    "print(data_pendonor_darah_mhs_mat)"
   ]
  },
  {
   "cell_type": "markdown",
   "id": "7948b58c",
   "metadata": {},
   "source": [
    "# 5.19 Fungsi dalam Python\n",
    "#### Pada dasarnya fungsi diciptakan untuk menghidari pengulangan pembuatan program secara manual dimana fungsi tersebut memiliki pengulangan yang tinggi atau sering pada program yang kita buat. Jadi untuk mempermudah dan meringkas program, dibutuhkan suatu fungsi, sehingga kita dapat langsung memanggilnya jika diperlukan"
   ]
  },
  {
   "cell_type": "code",
   "execution_count": 39,
   "id": "a6bcf979",
   "metadata": {},
   "outputs": [],
   "source": [
    "def greeting():\n",
    "    print ('Good Morning!')\n",
    "#Fungsi di atas (def), jika dipanggil akan mengeksekusi perintah print() yang ada di dalamnya"
   ]
  },
  {
   "cell_type": "code",
   "execution_count": 40,
   "id": "8e064724",
   "metadata": {},
   "outputs": [
    {
     "name": "stdout",
     "output_type": "stream",
     "text": [
      "Good Morning!\n"
     ]
    }
   ],
   "source": [
    "greeting()\n",
    "#jika ingin memanggil fungsi, cukup ketik nama fungsinya"
   ]
  },
  {
   "cell_type": "code",
   "execution_count": 41,
   "id": "f85b8402",
   "metadata": {},
   "outputs": [],
   "source": [
    "def full_name(first_name,last_name):\n",
    "    print(f'Nama lengkap Anda adalah {first_name} {last_name}')\n",
    "#penulisannya sedikit berbeda dengan kode sebelumnya, karena setelah nama fungsi 'full_name'\n",
    "#berisi parameter '(first_name,last_name)'"
   ]
  },
  {
   "cell_type": "code",
   "execution_count": 42,
   "id": "b8cc7fe0",
   "metadata": {},
   "outputs": [
    {
     "name": "stdout",
     "output_type": "stream",
     "text": [
      "Masukkan nama depan Anda : anya\n",
      "Masukkan nama belakang Anda : pratiwi\n",
      "Nama lengkap Anda adalah anya pratiwi\n"
     ]
    }
   ],
   "source": [
    "first_name = input('Masukkan nama depan Anda : ')\n",
    "last_name = input('Masukkan nama belakang Anda : ')\n",
    "full_name(first_name,last_name) #yang dieksekusi adalah perintah printnya"
   ]
  },
  {
   "cell_type": "markdown",
   "id": "32ea600b",
   "metadata": {},
   "source": [
    "# 5.19.1 Tugas Fungsi pada Python\n",
    "#### Ada dua jenis tugas fungsi pada Python yaitu: \n",
    "####  Menjalankan perintah.\n",
    "####  Menampilkan hasil perhitungan"
   ]
  },
  {
   "cell_type": "code",
   "execution_count": 43,
   "id": "e3de8ffb",
   "metadata": {},
   "outputs": [],
   "source": [
    "def waktu_sampai(jarak,kecepatan):\n",
    "    waktu = jarak/kecepatan\n",
    "    print(waktu)"
   ]
  },
  {
   "cell_type": "code",
   "execution_count": 44,
   "id": "a82c31f4",
   "metadata": {},
   "outputs": [],
   "source": [
    "def waktu_tempuh(jarak,kecepatan):\n",
    "    waktu = jarak/kecepatan\n",
    "    return waktu"
   ]
  },
  {
   "cell_type": "code",
   "execution_count": 45,
   "id": "dcaa2bf9",
   "metadata": {},
   "outputs": [
    {
     "name": "stdout",
     "output_type": "stream",
     "text": [
      "1.3333333333333333\n"
     ]
    }
   ],
   "source": [
    "waktu_sampai(80,60)\n",
    "# tugas fungsi menjalankan perintah sekaligus menampilkan hasil perhitungan"
   ]
  },
  {
   "cell_type": "code",
   "execution_count": 46,
   "id": "a62051ca",
   "metadata": {},
   "outputs": [
    {
     "data": {
      "text/plain": [
       "1.3333333333333333"
      ]
     },
     "execution_count": 46,
     "metadata": {},
     "output_type": "execute_result"
    }
   ],
   "source": [
    "waktu_tempuh(80,60)"
   ]
  },
  {
   "cell_type": "code",
   "execution_count": 47,
   "id": "2cc83043",
   "metadata": {},
   "outputs": [
    {
     "name": "stdout",
     "output_type": "stream",
     "text": [
      "1.3333333333333333\n",
      "None\n"
     ]
    }
   ],
   "source": [
    "a = waktu_sampai(80,60)\n",
    "print(a)"
   ]
  },
  {
   "cell_type": "code",
   "execution_count": 48,
   "id": "07dd947b",
   "metadata": {},
   "outputs": [
    {
     "name": "stdout",
     "output_type": "stream",
     "text": [
      "1.3333333333333333\n"
     ]
    }
   ],
   "source": [
    "b = waktu_tempuh(80,60)\n",
    "print(b)"
   ]
  },
  {
   "cell_type": "code",
   "execution_count": 49,
   "id": "f2ded64a",
   "metadata": {},
   "outputs": [],
   "source": [
    "def peluang_A(jumlah_data,banyak_data):\n",
    "    peluang = jumlah_data/banyak_data\n",
    "    print (peluang)"
   ]
  },
  {
   "cell_type": "code",
   "execution_count": 50,
   "id": "125db5ee",
   "metadata": {},
   "outputs": [],
   "source": [
    "def peluang_B(jumlah_data,banyak_data):\n",
    "    peluang = jumlah_data/banyak_data\n",
    "    print (peluang)"
   ]
  },
  {
   "cell_type": "code",
   "execution_count": 51,
   "id": "1d83edcb",
   "metadata": {},
   "outputs": [
    {
     "name": "stdout",
     "output_type": "stream",
     "text": [
      "1.0\n"
     ]
    }
   ],
   "source": [
    "peluang_A (3,3)"
   ]
  },
  {
   "cell_type": "code",
   "execution_count": 52,
   "id": "9a538134",
   "metadata": {},
   "outputs": [
    {
     "name": "stdout",
     "output_type": "stream",
     "text": [
      "4.0\n"
     ]
    }
   ],
   "source": [
    "peluang_B (24,6)"
   ]
  },
  {
   "cell_type": "code",
   "execution_count": 53,
   "id": "fe1253cd",
   "metadata": {},
   "outputs": [],
   "source": [
    "import numpy as np\n",
    "def luas_segitiga(alas,tinggi):\n",
    "    luas =(1/2)*alas*tinggi\n",
    "    return luas\n",
    "def luas_lingkaran(jari_jari) : \n",
    "    luas = np.pi*(jari-jari**2)\n",
    "    return luas\n",
    "def luas_persegi(sisi):\n",
    "    luas = sisi**2\n",
    "    return luas\n",
    "def luas_persegi_panjang(panjang,lebar):\n",
    "    luas = panjang*lebar\n",
    "    return luas\n",
    "#return artinya keluar dan mengembalikan nilai terkait sesegera mungkin. \n",
    "#Karena sudah ada nilai yang dikembalikan, maka eksekusi fungsi dinyatakan selesai, sehingga seluruh kode selanjutnya tidak akan dieksekusi.\n"
   ]
  },
  {
   "cell_type": "code",
   "execution_count": 54,
   "id": "79f5ae76",
   "metadata": {},
   "outputs": [
    {
     "name": "stdout",
     "output_type": "stream",
     "text": [
      "Tulis jenis bidangnya : segitiga\n",
      "Alas : 12\n",
      "Tinggi : 3\n",
      "Luas segitiga adalah 18.0\n"
     ]
    }
   ],
   "source": [
    "jenis_bidang = input('Tulis jenis bidangnya : ')\n",
    "if jenis_bidang == 'segitiga':\n",
    "    alas = float (input('Alas : '))\n",
    "    tinggi = float (input('Tinggi : '))\n",
    "    luas = luas_segitiga(alas,tinggi)\n",
    "    print(f'Luas {jenis_bidang} adalah {luas}')\n",
    "elif jenis_bidang == 'lingkaran':\n",
    "    jari_jari = float (input('Jari-Jari : '))\n",
    "    luas = luas_lingakran(jari_jari)\n",
    "    print(f'Luas {jenis_bidang} adalah {luas}')\n",
    "elif jenis_bidang == 'persegi':\n",
    "    sisi = float (input('Sisi : '))\n",
    "    luas = luas_persegi(sisi)\n",
    "elif jenis_bidang == 'persegi panjang':\n",
    "    panjang = float (input('Panjang : '))\n",
    "    lebar = float (input('Lebar : '))\n",
    "    luas = luas_persegi_panjang(panjang,lebar)\n",
    "    print(f'Luas {jenis_bidang} adalah {luas}')\n",
    "else :\n",
    "    print(f'Maaf bidang {jenis_bidang} yang anda masukkan salah.')\n",
    "    print('Hanya ada pilihan segitiga, lingkaran, persegi dan persegi panjang')\n",
    "    print('Mohon periksa kembali input anda')"
   ]
  },
  {
   "cell_type": "code",
   "execution_count": 55,
   "id": "6c65930c",
   "metadata": {},
   "outputs": [
    {
     "name": "stdout",
     "output_type": "stream",
     "text": [
      "Tulis jenis bidangnya : trapesium\n",
      "Mohon periksa kembali input anda, bidang trapesium yang anda masukkan salah.\n",
      "Hanya ada pilihan segitiga, lingkaran, persegi dan persegi panjang\n"
     ]
    }
   ],
   "source": [
    "jenis_bidang = input('Tulis jenis bidangnya : ')\n",
    "if jenis_bidang == 'segitiga':\n",
    "    alas = float (input('Alas : '))\n",
    "    tinggi = float (input('Tinggi : '))\n",
    "    luas = luas_segitiga(alas,tinggi)\n",
    "    print(f'Luas {jenis_bidang} adalah {luas}')\n",
    "elif jenis_bidang == 'lingkaran':\n",
    "    jari_jari = float (input('Jari-Jari : '))\n",
    "    luas = luas_lingakran(jari_jari)\n",
    "    print(f'Luas {jenis_bidang} adalah {luas}')\n",
    "elif jenis_bidang == 'persegi':\n",
    "    sisi = float (input('Sisi : '))\n",
    "    luas = luas_persegi(sisi)\n",
    "elif jenis_bidang == 'persegi panjang':\n",
    "    panjang = float (input('Panjang : '))\n",
    "    lebar = float (input('Lebar : '))\n",
    "    luas = luas_persegi_panjang(panjang,lebar)\n",
    "    print(f'Luas {jenis_bidang} adalah {luas}')\n",
    "else :\n",
    "    print(f'Mohon periksa kembali input anda, bidang {jenis_bidang} yang anda masukkan salah.')\n",
    "    print('Hanya ada pilihan segitiga, lingkaran, persegi dan persegi panjang')\n"
   ]
  },
  {
   "cell_type": "markdown",
   "id": "0e1fd620",
   "metadata": {},
   "source": [
    "# 5.20 Numpy\n",
    "#### Numpy merupakan salah satu Library dalam Python yang memiliki keunggulan dalam perhitungan menggunakan vektor dam matrik dalam berbagai dimensi."
   ]
  },
  {
   "cell_type": "code",
   "execution_count": 56,
   "id": "cf669c4c",
   "metadata": {},
   "outputs": [],
   "source": [
    "# Hal yang harus dilakukan untuk memanggil library Numpy, yaitu sebagai berikut."
   ]
  },
  {
   "cell_type": "code",
   "execution_count": 57,
   "id": "af3d43db",
   "metadata": {},
   "outputs": [],
   "source": [
    "import pandas as pd\n",
    "#pandas adalah salah satu library seperti numpy"
   ]
  },
  {
   "cell_type": "code",
   "execution_count": 58,
   "id": "8e759985",
   "metadata": {},
   "outputs": [],
   "source": [
    "import numpy as np"
   ]
  },
  {
   "cell_type": "markdown",
   "id": "21f51d09",
   "metadata": {},
   "source": [
    "# 5.20.1 Perintah Dasar pada Numpy"
   ]
  },
  {
   "cell_type": "code",
   "execution_count": 59,
   "id": "8c0cb7bc",
   "metadata": {},
   "outputs": [],
   "source": [
    "import numpy as np"
   ]
  },
  {
   "cell_type": "code",
   "execution_count": 60,
   "id": "d1a8416e",
   "metadata": {},
   "outputs": [
    {
     "name": "stdout",
     "output_type": "stream",
     "text": [
      "[0 1 2 3 4 5]\n"
     ]
    }
   ],
   "source": [
    "j = np.array ([0,1,2,3,4,5])\n",
    "print(j)\n",
    "#membuat numpy format kodenya adalah np.array"
   ]
  },
  {
   "cell_type": "code",
   "execution_count": 61,
   "id": "a1731fa2",
   "metadata": {},
   "outputs": [
    {
     "name": "stdout",
     "output_type": "stream",
     "text": [
      "[[5 6 7 8 9]\n",
      " [9 8 7 6 5]]\n"
     ]
    }
   ],
   "source": [
    "k = np.array([[5,6,7,8,9],[9,8,7,6,5]])\n",
    "print(k)"
   ]
  },
  {
   "cell_type": "code",
   "execution_count": 62,
   "id": "19928dcb",
   "metadata": {},
   "outputs": [
    {
     "name": "stdout",
     "output_type": "stream",
     "text": [
      "[[[ 0  1  2  3]\n",
      "  [ 4  5  6  7]]\n",
      "\n",
      " [[ 8  9 10 11]\n",
      "  [ 1  2  3  4]]\n",
      "\n",
      " [[ 4  3  2  1]\n",
      "  [ 5  6  7  8]]]\n"
     ]
    }
   ],
   "source": [
    "l = np.array([[[0,1,2,3],[4,5,6,7]],[[8,9,10,11],[1,2,3,4]],\n",
    "              [[4,3,2,1],[5,6,7,8]]])\n",
    "print(l)"
   ]
  },
  {
   "cell_type": "code",
   "execution_count": 63,
   "id": "563aed2e",
   "metadata": {},
   "outputs": [
    {
     "data": {
      "text/plain": [
       "1"
      ]
     },
     "execution_count": 63,
     "metadata": {},
     "output_type": "execute_result"
    }
   ],
   "source": [
    "j.ndim\n",
    "# ndim menyatakan jumlah dimensi "
   ]
  },
  {
   "cell_type": "code",
   "execution_count": 64,
   "id": "72b8c4a9",
   "metadata": {},
   "outputs": [
    {
     "data": {
      "text/plain": [
       "2"
      ]
     },
     "execution_count": 64,
     "metadata": {},
     "output_type": "execute_result"
    }
   ],
   "source": [
    "k.ndim"
   ]
  },
  {
   "cell_type": "code",
   "execution_count": 65,
   "id": "5d11ec14",
   "metadata": {},
   "outputs": [
    {
     "data": {
      "text/plain": [
       "3"
      ]
     },
     "execution_count": 65,
     "metadata": {},
     "output_type": "execute_result"
    }
   ],
   "source": [
    "l.ndim"
   ]
  },
  {
   "cell_type": "code",
   "execution_count": 66,
   "id": "988f4fd2",
   "metadata": {},
   "outputs": [
    {
     "data": {
      "text/plain": [
       "(6,)"
      ]
     },
     "execution_count": 66,
     "metadata": {},
     "output_type": "execute_result"
    }
   ],
   "source": [
    "j.shape\n",
    "# Shape digunakan untuk mengetahui ordo matriks\n",
    "# Terlihat bahwa ordo yang dihasilkan adalah (6, ) artinya hanya ada 6 kolom"
   ]
  },
  {
   "cell_type": "code",
   "execution_count": 67,
   "id": "7bbdabe9",
   "metadata": {},
   "outputs": [
    {
     "data": {
      "text/plain": [
       "(2, 5)"
      ]
     },
     "execution_count": 67,
     "metadata": {},
     "output_type": "execute_result"
    }
   ],
   "source": [
    "k.shape\n",
    "# ordonya (2,5) artinya ada 2 baris dan  5 kolom"
   ]
  },
  {
   "cell_type": "code",
   "execution_count": 68,
   "id": "3d3825ac",
   "metadata": {},
   "outputs": [
    {
     "data": {
      "text/plain": [
       "(3, 2, 4)"
      ]
     },
     "execution_count": 68,
     "metadata": {},
     "output_type": "execute_result"
    }
   ],
   "source": [
    "l.shape\n",
    "# artinya array terbagi menjadi 3 dimensi yang mana masing-masing berisi matriks 2 baris dan 4 kolom"
   ]
  },
  {
   "cell_type": "markdown",
   "id": "e962db19",
   "metadata": {},
   "source": [
    "# 5.20.2 Memanggil Anggota, Kolom dan Baris dengan Numpy\n",
    "#### Memanggil anggota, kolom dan baris dalam list menggunakan Numpy dilakukan dengan contoh di bawah ini."
   ]
  },
  {
   "cell_type": "code",
   "execution_count": 69,
   "id": "250e58c4",
   "metadata": {},
   "outputs": [],
   "source": [
    "import numpy as np"
   ]
  },
  {
   "cell_type": "code",
   "execution_count": 70,
   "id": "a092feae",
   "metadata": {},
   "outputs": [
    {
     "name": "stdout",
     "output_type": "stream",
     "text": [
      "[[[0 1 2 3]\n",
      "  [4 5 6 7]]\n",
      "\n",
      " [[7 6 5 4]\n",
      "  [3 2 1 0]]]\n"
     ]
    }
   ],
   "source": [
    "c = np.array([[[0,1,2,3],[4,5,6,7]],[[7,6,5,4],[3,2,1,0]]])\n",
    "print(c)"
   ]
  },
  {
   "cell_type": "code",
   "execution_count": 71,
   "id": "98b71631",
   "metadata": {},
   "outputs": [
    {
     "data": {
      "text/plain": [
       "array([[0, 1, 2, 3],\n",
       "       [4, 5, 6, 7]])"
      ]
     },
     "execution_count": 71,
     "metadata": {},
     "output_type": "execute_result"
    }
   ],
   "source": [
    "c[0]\n",
    "#numpy urutan ke-0"
   ]
  },
  {
   "cell_type": "code",
   "execution_count": 72,
   "id": "aa70baaf",
   "metadata": {},
   "outputs": [
    {
     "data": {
      "text/plain": [
       "array([4, 5, 6, 7])"
      ]
     },
     "execution_count": 72,
     "metadata": {},
     "output_type": "execute_result"
    }
   ],
   "source": [
    "c[0,1]\n",
    "#baris 0, kolom 1"
   ]
  },
  {
   "cell_type": "code",
   "execution_count": 73,
   "id": "796b359f",
   "metadata": {},
   "outputs": [
    {
     "data": {
      "text/plain": [
       "array([[7, 6, 5, 4],\n",
       "       [3, 2, 1, 0]])"
      ]
     },
     "execution_count": 73,
     "metadata": {},
     "output_type": "execute_result"
    }
   ],
   "source": [
    "c[1,:]\n",
    "#baris 1 dan semua kolom"
   ]
  },
  {
   "cell_type": "code",
   "execution_count": 74,
   "id": "bd8acbe8",
   "metadata": {},
   "outputs": [
    {
     "data": {
      "text/plain": [
       "array([[4, 5, 6, 7],\n",
       "       [3, 2, 1, 0]])"
      ]
     },
     "execution_count": 74,
     "metadata": {},
     "output_type": "execute_result"
    }
   ],
   "source": [
    "c[:,1]\n",
    "#pada baris 0 posisinya dibalik, dan pada kolom 1 urutannya dibalik\n",
    "#mohon maaf apabila salah, karena saya kurang paham dengan hasilnya mengapa bisa demikian."
   ]
  },
  {
   "cell_type": "markdown",
   "id": "84b1c0d9",
   "metadata": {},
   "source": [
    "# 5.20.3 Matrix pada Numpy\n"
   ]
  },
  {
   "cell_type": "code",
   "execution_count": 75,
   "id": "18b18ca3",
   "metadata": {},
   "outputs": [],
   "source": [
    "# Beberapa perintah dalam Numpy untuk membuat matriks :\n",
    "#np.ones()\n",
    "#np.zeros()\n",
    "#np.identity()\n",
    "#np.ones()\n",
    "#np.full()\n",
    "#np.random.rand()\n",
    "#np.random.randint()"
   ]
  },
  {
   "cell_type": "code",
   "execution_count": 76,
   "id": "3021dc1b",
   "metadata": {},
   "outputs": [],
   "source": [
    "import numpy as np"
   ]
  },
  {
   "cell_type": "code",
   "execution_count": 77,
   "id": "eb3ac745",
   "metadata": {},
   "outputs": [
    {
     "name": "stdout",
     "output_type": "stream",
     "text": [
      "[[0. 0. 0. 0. 0. 0. 0. 0. 0. 0. 0. 0.]\n",
      " [0. 0. 0. 0. 0. 0. 0. 0. 0. 0. 0. 0.]\n",
      " [0. 0. 0. 0. 0. 0. 0. 0. 0. 0. 0. 0.]\n",
      " [0. 0. 0. 0. 0. 0. 0. 0. 0. 0. 0. 0.]\n",
      " [0. 0. 0. 0. 0. 0. 0. 0. 0. 0. 0. 0.]\n",
      " [0. 0. 0. 0. 0. 0. 0. 0. 0. 0. 0. 0.]\n",
      " [0. 0. 0. 0. 0. 0. 0. 0. 0. 0. 0. 0.]\n",
      " [0. 0. 0. 0. 0. 0. 0. 0. 0. 0. 0. 0.]\n",
      " [0. 0. 0. 0. 0. 0. 0. 0. 0. 0. 0. 0.]\n",
      " [0. 0. 0. 0. 0. 0. 0. 0. 0. 0. 0. 0.]\n",
      " [0. 0. 0. 0. 0. 0. 0. 0. 0. 0. 0. 0.]\n",
      " [0. 0. 0. 0. 0. 0. 0. 0. 0. 0. 0. 0.]]\n"
     ]
    }
   ],
   "source": [
    "#Mencoba membuat matriks berukuran 12 x 12\n",
    "a=np.zeros((12,12)) \n",
    "#artinya diisi dengan angka 0 dengan ukuran 12 x 12\n",
    "print(a)"
   ]
  },
  {
   "cell_type": "code",
   "execution_count": 78,
   "id": "73250778",
   "metadata": {},
   "outputs": [
    {
     "name": "stdout",
     "output_type": "stream",
     "text": [
      "[[1. 0. 0. 0. 0. 0. 0. 0. 0. 0. 0. 0.]\n",
      " [0. 1. 0. 0. 0. 0. 0. 0. 0. 0. 0. 0.]\n",
      " [0. 0. 1. 0. 0. 0. 0. 0. 0. 0. 0. 0.]\n",
      " [0. 0. 0. 1. 0. 0. 0. 0. 0. 0. 0. 0.]\n",
      " [0. 0. 0. 0. 1. 0. 0. 0. 0. 0. 0. 0.]\n",
      " [0. 0. 0. 0. 0. 1. 0. 0. 0. 0. 0. 0.]\n",
      " [0. 0. 0. 0. 0. 0. 1. 0. 0. 0. 0. 0.]\n",
      " [0. 0. 0. 0. 0. 0. 0. 1. 0. 0. 0. 0.]\n",
      " [0. 0. 0. 0. 0. 0. 0. 0. 1. 0. 0. 0.]\n",
      " [0. 0. 0. 0. 0. 0. 0. 0. 0. 1. 0. 0.]\n",
      " [0. 0. 0. 0. 0. 0. 0. 0. 0. 0. 1. 0.]\n",
      " [0. 0. 0. 0. 0. 0. 0. 0. 0. 0. 0. 1.]]\n"
     ]
    }
   ],
   "source": [
    "b=np.identity(12)\n",
    "print(b)\n",
    "#elemen identitas matriks"
   ]
  },
  {
   "cell_type": "code",
   "execution_count": 79,
   "id": "d390fa24",
   "metadata": {},
   "outputs": [
    {
     "name": "stdout",
     "output_type": "stream",
     "text": [
      "[[5. 0. 0. 0. 0. 0. 0. 0. 0. 0. 0. 0.]\n",
      " [0. 5. 0. 0. 0. 0. 0. 0. 0. 0. 0. 0.]\n",
      " [0. 0. 5. 0. 0. 0. 0. 0. 0. 0. 0. 0.]\n",
      " [0. 0. 0. 5. 0. 0. 0. 0. 0. 0. 0. 0.]\n",
      " [0. 0. 0. 0. 5. 0. 0. 0. 0. 0. 0. 0.]\n",
      " [0. 0. 0. 0. 0. 5. 0. 0. 0. 0. 0. 0.]\n",
      " [0. 0. 0. 0. 0. 0. 5. 0. 0. 0. 0. 0.]\n",
      " [0. 0. 0. 0. 0. 0. 0. 5. 0. 0. 0. 0.]\n",
      " [0. 0. 0. 0. 0. 0. 0. 0. 5. 0. 0. 0.]\n",
      " [0. 0. 0. 0. 0. 0. 0. 0. 0. 5. 0. 0.]\n",
      " [0. 0. 0. 0. 0. 0. 0. 0. 0. 0. 5. 0.]\n",
      " [0. 0. 0. 0. 0. 0. 0. 0. 0. 0. 0. 5.]]\n"
     ]
    }
   ],
   "source": [
    "c=5*b\n",
    "print(c)\n",
    "#elemen identitas diganti dengan 5"
   ]
  },
  {
   "cell_type": "code",
   "execution_count": 80,
   "id": "949efedb",
   "metadata": {},
   "outputs": [
    {
     "name": "stdout",
     "output_type": "stream",
     "text": [
      "[[13.  1.  1.  1.  1.  1.  1.  1.  1.  1.  1.  1.]\n",
      " [ 1. 13.  1.  1.  1.  1.  1.  1.  1.  1.  1.  1.]\n",
      " [ 1.  1. 13.  1.  1.  1.  1.  1.  1.  1.  1.  1.]\n",
      " [ 1.  1.  1. 13.  1.  1.  1.  1.  1.  1.  1.  1.]\n",
      " [ 1.  1.  1.  1. 13.  1.  1.  1.  1.  1.  1.  1.]\n",
      " [ 1.  1.  1.  1.  1. 13.  1.  1.  1.  1.  1.  1.]\n",
      " [ 1.  1.  1.  1.  1.  1. 13.  1.  1.  1.  1.  1.]\n",
      " [ 1.  1.  1.  1.  1.  1.  1. 13.  1.  1.  1.  1.]\n",
      " [ 1.  1.  1.  1.  1.  1.  1.  1. 13.  1.  1.  1.]\n",
      " [ 1.  1.  1.  1.  1.  1.  1.  1.  1. 13.  1.  1.]\n",
      " [ 1.  1.  1.  1.  1.  1.  1.  1.  1.  1. 13.  1.]\n",
      " [ 1.  1.  1.  1.  1.  1.  1.  1.  1.  1.  1. 13.]]\n"
     ]
    }
   ],
   "source": [
    "d = np.ones((12,12)) #mengganti anggota matriks dengan angka 1\n",
    "e = np.identity(12)*12 #elemen identitas 12\n",
    "f = d+e #ditambahkan\n",
    "print (f)"
   ]
  },
  {
   "cell_type": "code",
   "execution_count": 81,
   "id": "92ab17ef",
   "metadata": {},
   "outputs": [
    {
     "ename": "ValueError",
     "evalue": "could not broadcast input array from shape (12,12) into shape (10,10)",
     "output_type": "error",
     "traceback": [
      "\u001b[1;31m---------------------------------------------------------------------------\u001b[0m",
      "\u001b[1;31mValueError\u001b[0m                                Traceback (most recent call last)",
      "\u001b[1;32m~\\AppData\\Local\\Temp\\ipykernel_9768\\4218542954.py\u001b[0m in \u001b[0;36m<module>\u001b[1;34m\u001b[0m\n\u001b[1;32m----> 1\u001b[1;33m \u001b[0mc\u001b[0m\u001b[1;33m[\u001b[0m\u001b[1;36m1\u001b[0m\u001b[1;33m:\u001b[0m\u001b[1;33m-\u001b[0m\u001b[1;36m1\u001b[0m\u001b[1;33m,\u001b[0m\u001b[1;36m1\u001b[0m\u001b[1;33m:\u001b[0m\u001b[1;33m-\u001b[0m\u001b[1;36m1\u001b[0m\u001b[1;33m]\u001b[0m \u001b[1;33m=\u001b[0m \u001b[0mf\u001b[0m\u001b[1;33m\u001b[0m\u001b[1;33m\u001b[0m\u001b[0m\n\u001b[0m\u001b[0;32m      2\u001b[0m \u001b[0mprint\u001b[0m \u001b[1;33m(\u001b[0m\u001b[0mc\u001b[0m\u001b[1;33m)\u001b[0m\u001b[1;33m\u001b[0m\u001b[1;33m\u001b[0m\u001b[0m\n\u001b[0;32m      3\u001b[0m \u001b[1;31m# karena matriks berukuran 12x12, maka tidak dapat diubah menjadi matriks 10x10\u001b[0m\u001b[1;33m\u001b[0m\u001b[1;33m\u001b[0m\u001b[0m\n",
      "\u001b[1;31mValueError\u001b[0m: could not broadcast input array from shape (12,12) into shape (10,10)"
     ]
    }
   ],
   "source": [
    "c[1:-1,1:-1] = f\n",
    "print (c)\n",
    "# karena matriks berukuran 12x12, maka tidak dapat diubah menjadi matriks 10x10"
   ]
  },
  {
   "cell_type": "code",
   "execution_count": 82,
   "id": "413b1d51",
   "metadata": {},
   "outputs": [
    {
     "name": "stdout",
     "output_type": "stream",
     "text": [
      "[[11.  1.  1.  1.  1.  1.  1.  1.  1.  1.]\n",
      " [ 1. 11.  1.  1.  1.  1.  1.  1.  1.  1.]\n",
      " [ 1.  1. 11.  1.  1.  1.  1.  1.  1.  1.]\n",
      " [ 1.  1.  1. 11.  1.  1.  1.  1.  1.  1.]\n",
      " [ 1.  1.  1.  1. 11.  1.  1.  1.  1.  1.]\n",
      " [ 1.  1.  1.  1.  1. 11.  1.  1.  1.  1.]\n",
      " [ 1.  1.  1.  1.  1.  1. 11.  1.  1.  1.]\n",
      " [ 1.  1.  1.  1.  1.  1.  1. 11.  1.  1.]\n",
      " [ 1.  1.  1.  1.  1.  1.  1.  1. 11.  1.]\n",
      " [ 1.  1.  1.  1.  1.  1.  1.  1.  1. 11.]]\n"
     ]
    }
   ],
   "source": [
    "d = np.ones((10,10)) #mengganti anggota matriks dengan angka 1\n",
    "e = np.identity(10)*10 #elemen identitas 12\n",
    "f = d+e\n",
    "print (f)"
   ]
  },
  {
   "cell_type": "code",
   "execution_count": 83,
   "id": "01b9e56d",
   "metadata": {},
   "outputs": [
    {
     "name": "stdout",
     "output_type": "stream",
     "text": [
      "[[ 5.  0.  0.  0.  0.  0.  0.  0.  0.  0.  0.  0.]\n",
      " [ 0. 11.  1.  1.  1.  1.  1.  1.  1.  1.  1.  0.]\n",
      " [ 0.  1. 11.  1.  1.  1.  1.  1.  1.  1.  1.  0.]\n",
      " [ 0.  1.  1. 11.  1.  1.  1.  1.  1.  1.  1.  0.]\n",
      " [ 0.  1.  1.  1. 11.  1.  1.  1.  1.  1.  1.  0.]\n",
      " [ 0.  1.  1.  1.  1. 11.  1.  1.  1.  1.  1.  0.]\n",
      " [ 0.  1.  1.  1.  1.  1. 11.  1.  1.  1.  1.  0.]\n",
      " [ 0.  1.  1.  1.  1.  1.  1. 11.  1.  1.  1.  0.]\n",
      " [ 0.  1.  1.  1.  1.  1.  1.  1. 11.  1.  1.  0.]\n",
      " [ 0.  1.  1.  1.  1.  1.  1.  1.  1. 11.  1.  0.]\n",
      " [ 0.  1.  1.  1.  1.  1.  1.  1.  1.  1. 11.  0.]\n",
      " [ 0.  0.  0.  0.  0.  0.  0.  0.  0.  0.  0.  5.]]\n"
     ]
    }
   ],
   "source": [
    "c[1:-1,1:-1] = f\n",
    "print (c)"
   ]
  },
  {
   "cell_type": "code",
   "execution_count": 84,
   "id": "f24fde8f",
   "metadata": {},
   "outputs": [
    {
     "name": "stdout",
     "output_type": "stream",
     "text": [
      "[[ 5.  0.  0.  0.  0.  0.  0.  0.  0.  0.  0.  0.]\n",
      " [ 0. 11.  1.  1.  1.  1.  1.  1.  1.  1.  1.  0.]\n",
      " [ 0.  1. 11.  1.  1.  1.  1.  1.  1.  1.  1.  0.]\n",
      " [ 0.  1.  1. 11.  1.  1.  1.  1.  1.  1.  1.  0.]\n",
      " [ 0.  1.  1.  1. 11.  1.  1.  1.  1.  1.  1.  0.]\n",
      " [ 0.  1.  1.  1.  1. 11.  1.  1.  1.  1.  1.  0.]\n",
      " [ 0.  1.  1.  1.  1.  1. 11.  1.  1.  1.  1.  0.]\n",
      " [ 0.  1.  1.  1.  1.  1.  1. 11.  1.  1.  1.  0.]\n",
      " [ 0.  1.  1.  1.  1.  1.  1.  1. 11.  1.  1.  0.]\n",
      " [ 0.  1.  1.  1.  1.  1.  1.  1.  1. 11.  1.  0.]\n",
      " [ 0.  1.  1.  1.  1.  1.  1.  1.  1.  1. 11.  0.]\n",
      " [ 0.  0.  0.  0.  0.  0.  0.  0.  0.  0.  0.  5.]]\n"
     ]
    }
   ],
   "source": [
    "k = np.identity(6)*9\n",
    "c[2:-2,2:-2]\n",
    "print(c)"
   ]
  },
  {
   "cell_type": "code",
   "execution_count": 85,
   "id": "cd46e2fd",
   "metadata": {},
   "outputs": [
    {
     "name": "stdout",
     "output_type": "stream",
     "text": [
      "[[9. 3. 3. 3.]\n",
      " [3. 9. 3. 3.]\n",
      " [3. 3. 9. 3.]\n",
      " [3. 3. 3. 9.]]\n"
     ]
    }
   ],
   "source": [
    "h = np.ones((4,4))*3 #ordo 4x4, dengan anggota 2\n",
    "i = np.identity(4)*6 #(identitasnya 7)\n",
    "j = h+i #3+6=9 \n",
    "print (j)"
   ]
  },
  {
   "cell_type": "code",
   "execution_count": 86,
   "id": "82d0d075",
   "metadata": {},
   "outputs": [
    {
     "ename": "ValueError",
     "evalue": "could not broadcast input array from shape (4,4) into shape (6,6)",
     "output_type": "error",
     "traceback": [
      "\u001b[1;31m---------------------------------------------------------------------------\u001b[0m",
      "\u001b[1;31mValueError\u001b[0m                                Traceback (most recent call last)",
      "\u001b[1;32m~\\AppData\\Local\\Temp\\ipykernel_9768\\1971438327.py\u001b[0m in \u001b[0;36m<module>\u001b[1;34m\u001b[0m\n\u001b[1;32m----> 1\u001b[1;33m \u001b[0mc\u001b[0m\u001b[1;33m[\u001b[0m\u001b[1;36m3\u001b[0m\u001b[1;33m:\u001b[0m\u001b[1;33m-\u001b[0m\u001b[1;36m3\u001b[0m\u001b[1;33m,\u001b[0m\u001b[1;36m3\u001b[0m\u001b[1;33m:\u001b[0m\u001b[1;33m-\u001b[0m\u001b[1;36m3\u001b[0m\u001b[1;33m]\u001b[0m\u001b[1;33m=\u001b[0m\u001b[0mj\u001b[0m\u001b[1;33m\u001b[0m\u001b[1;33m\u001b[0m\u001b[0m\n\u001b[0m\u001b[0;32m      2\u001b[0m \u001b[0mprint\u001b[0m \u001b[1;33m(\u001b[0m\u001b[0mc\u001b[0m\u001b[1;33m)\u001b[0m\u001b[1;33m\u001b[0m\u001b[1;33m\u001b[0m\u001b[0m\n\u001b[0;32m      3\u001b[0m \u001b[1;31m# tidak dapat mengubah matriks 4x4 menjadi 6x6\u001b[0m\u001b[1;33m\u001b[0m\u001b[1;33m\u001b[0m\u001b[0m\n",
      "\u001b[1;31mValueError\u001b[0m: could not broadcast input array from shape (4,4) into shape (6,6)"
     ]
    }
   ],
   "source": [
    "c[3:-3,3:-3]=j\n",
    "print (c)\n",
    "# tidak dapat mengubah matriks 4x4 menjadi 6x6"
   ]
  },
  {
   "cell_type": "code",
   "execution_count": 87,
   "id": "b0e301fb",
   "metadata": {},
   "outputs": [
    {
     "ename": "ValueError",
     "evalue": "could not broadcast input array from shape (2,2) into shape (4,4)",
     "output_type": "error",
     "traceback": [
      "\u001b[1;31m---------------------------------------------------------------------------\u001b[0m",
      "\u001b[1;31mValueError\u001b[0m                                Traceback (most recent call last)",
      "\u001b[1;32m~\\AppData\\Local\\Temp\\ipykernel_9768\\1369285793.py\u001b[0m in \u001b[0;36m<module>\u001b[1;34m\u001b[0m\n\u001b[0;32m      1\u001b[0m \u001b[0mk\u001b[0m \u001b[1;33m=\u001b[0m \u001b[0mnp\u001b[0m\u001b[1;33m.\u001b[0m\u001b[0midentity\u001b[0m\u001b[1;33m(\u001b[0m\u001b[1;36m2\u001b[0m\u001b[1;33m)\u001b[0m\u001b[1;33m*\u001b[0m\u001b[1;36m9\u001b[0m\u001b[1;33m\u001b[0m\u001b[1;33m\u001b[0m\u001b[0m\n\u001b[1;32m----> 2\u001b[1;33m \u001b[0mc\u001b[0m\u001b[1;33m[\u001b[0m\u001b[1;36m4\u001b[0m\u001b[1;33m:\u001b[0m\u001b[1;33m-\u001b[0m\u001b[1;36m4\u001b[0m\u001b[1;33m,\u001b[0m\u001b[1;36m4\u001b[0m\u001b[1;33m:\u001b[0m\u001b[1;33m-\u001b[0m\u001b[1;36m4\u001b[0m\u001b[1;33m]\u001b[0m \u001b[1;33m=\u001b[0m \u001b[0mk\u001b[0m\u001b[1;33m\u001b[0m\u001b[1;33m\u001b[0m\u001b[0m\n\u001b[0m\u001b[0;32m      3\u001b[0m \u001b[0mprint\u001b[0m \u001b[1;33m(\u001b[0m\u001b[0mc\u001b[0m\u001b[1;33m)\u001b[0m\u001b[1;33m\u001b[0m\u001b[1;33m\u001b[0m\u001b[0m\n\u001b[0;32m      4\u001b[0m \u001b[1;31m#tidak dapat mengubah matriks 2x2 menjadi 4x4\u001b[0m\u001b[1;33m\u001b[0m\u001b[1;33m\u001b[0m\u001b[0m\n",
      "\u001b[1;31mValueError\u001b[0m: could not broadcast input array from shape (2,2) into shape (4,4)"
     ]
    }
   ],
   "source": [
    "k = np.identity(2)*9\n",
    "c[4:-4,4:-4] = k\n",
    "print (c)\n",
    "#tidak dapat mengubah matriks 2x2 menjadi 4x4"
   ]
  },
  {
   "cell_type": "code",
   "execution_count": 88,
   "id": "a453d8b6",
   "metadata": {},
   "outputs": [
    {
     "data": {
      "text/plain": [
       "array([[9., 3., 3., 3.],\n",
       "       [3., 9., 3., 3.],\n",
       "       [3., 3., 9., 3.],\n",
       "       [3., 3., 3., 9.]])"
      ]
     },
     "execution_count": 88,
     "metadata": {},
     "output_type": "execute_result"
    }
   ],
   "source": [
    "j.T\n",
    "# T digunakan untuk mencari transpos matriks"
   ]
  },
  {
   "cell_type": "markdown",
   "id": "5b3ac34d",
   "metadata": {},
   "source": [
    "# 5.20.4 Copy pada Numpy\n",
    "#### Biasanya menduplikat suatu variabel dengan maksud untuk mempercepat pekerjaan kita. Akan tetapi hubungan dari  persamaan dalam Numpy sangat erat, sehingga saat anggota variabel baru dirubah, dampaknya juga akan merubah variabel asalnya. Untuk menghindari perubahan variabel awal yang tidak dikehendaki maka diperlukan perintah copy"
   ]
  },
  {
   "cell_type": "code",
   "execution_count": 89,
   "id": "eb835e24",
   "metadata": {},
   "outputs": [],
   "source": [
    "import numpy as np"
   ]
  },
  {
   "cell_type": "code",
   "execution_count": 90,
   "id": "86346114",
   "metadata": {},
   "outputs": [
    {
     "name": "stdout",
     "output_type": "stream",
     "text": [
      "[0 1 2 3 4]\n"
     ]
    }
   ],
   "source": [
    "h= np.array([0,1,2,3,4])\n",
    "print(h)"
   ]
  },
  {
   "cell_type": "code",
   "execution_count": 91,
   "id": "b17becf7",
   "metadata": {},
   "outputs": [
    {
     "name": "stdout",
     "output_type": "stream",
     "text": [
      "[0 1 2 3 4]\n"
     ]
    }
   ],
   "source": [
    "g=h\n",
    "print (g)"
   ]
  },
  {
   "cell_type": "code",
   "execution_count": 92,
   "id": "809ed427",
   "metadata": {},
   "outputs": [
    {
     "name": "stdout",
     "output_type": "stream",
     "text": [
      "[  0   1   2   3 100]\n"
     ]
    }
   ],
   "source": [
    "g[4]=100\n",
    "print (g)\n",
    "# mengubah anggota numpy pada indeks 0"
   ]
  },
  {
   "cell_type": "code",
   "execution_count": 93,
   "id": "3342dfc7",
   "metadata": {},
   "outputs": [
    {
     "name": "stdout",
     "output_type": "stream",
     "text": [
      "[  0   1   2   3 100]\n"
     ]
    }
   ],
   "source": [
    "print(h)\n",
    "#numpy akan berubah anggotanya"
   ]
  },
  {
   "cell_type": "code",
   "execution_count": 94,
   "id": "4a6f3021",
   "metadata": {},
   "outputs": [
    {
     "name": "stdout",
     "output_type": "stream",
     "text": [
      "[0 1 2 3 4]\n"
     ]
    }
   ],
   "source": [
    "i= np.array([0,1,2,3,4])\n",
    "print(i)"
   ]
  },
  {
   "cell_type": "code",
   "execution_count": 95,
   "id": "2d121390",
   "metadata": {},
   "outputs": [
    {
     "name": "stdout",
     "output_type": "stream",
     "text": [
      "[0 1 2 3 4]\n"
     ]
    }
   ],
   "source": [
    "j=i.copy()\n",
    "print(j)"
   ]
  },
  {
   "cell_type": "code",
   "execution_count": 96,
   "id": "e927085e",
   "metadata": {},
   "outputs": [
    {
     "name": "stdout",
     "output_type": "stream",
     "text": [
      "[  0   1   2   3 100]\n"
     ]
    }
   ],
   "source": [
    "j[4]=100\n",
    "print(j)"
   ]
  },
  {
   "cell_type": "code",
   "execution_count": 97,
   "id": "9175f1e8",
   "metadata": {},
   "outputs": [
    {
     "name": "stdout",
     "output_type": "stream",
     "text": [
      "[0 1 2 3 4]\n"
     ]
    }
   ],
   "source": [
    "print(i)\n",
    "#numpy tidak berubah, karena pada j sudah berisi perintah copy"
   ]
  },
  {
   "cell_type": "markdown",
   "id": "71e5d60e",
   "metadata": {},
   "source": [
    "# 5.20.5 Operasi Matematika pada Numpy\n",
    "#### Beberapa operasi matematika pada Numpy yaitu sebagai berikut."
   ]
  },
  {
   "cell_type": "code",
   "execution_count": 98,
   "id": "430b899d",
   "metadata": {},
   "outputs": [],
   "source": [
    "import numpy as np"
   ]
  },
  {
   "cell_type": "code",
   "execution_count": 99,
   "id": "88c13b1d",
   "metadata": {},
   "outputs": [
    {
     "name": "stdout",
     "output_type": "stream",
     "text": [
      "[1 2 3 4]\n"
     ]
    }
   ],
   "source": [
    "x = np.array([1,2,3,4])\n",
    "print(x)"
   ]
  },
  {
   "cell_type": "code",
   "execution_count": 100,
   "id": "1e251237",
   "metadata": {},
   "outputs": [
    {
     "name": "stdout",
     "output_type": "stream",
     "text": [
      "[4 3 2 1]\n"
     ]
    }
   ],
   "source": [
    "y = np.array([4,3,2,1])\n",
    "print(y)"
   ]
  },
  {
   "cell_type": "code",
   "execution_count": 101,
   "id": "0c6d7636",
   "metadata": {},
   "outputs": [
    {
     "data": {
      "text/plain": [
       "array([2, 3, 4, 5])"
      ]
     },
     "execution_count": 101,
     "metadata": {},
     "output_type": "execute_result"
    }
   ],
   "source": [
    "x+1\n",
    "#pada variabel x masing-masing anggota numpy ditambah 1"
   ]
  },
  {
   "cell_type": "code",
   "execution_count": 102,
   "id": "4f7055cf",
   "metadata": {},
   "outputs": [
    {
     "data": {
      "text/plain": [
       "array([-2, -1,  0,  1])"
      ]
     },
     "execution_count": 102,
     "metadata": {},
     "output_type": "execute_result"
    }
   ],
   "source": [
    "x-3\n",
    "#pada variabel x masing-masing anggota numpy dikurang 3"
   ]
  },
  {
   "cell_type": "code",
   "execution_count": 103,
   "id": "69d0e60f",
   "metadata": {},
   "outputs": [
    {
     "data": {
      "text/plain": [
       "array([20, 15, 10,  5])"
      ]
     },
     "execution_count": 103,
     "metadata": {},
     "output_type": "execute_result"
    }
   ],
   "source": [
    "y*5\n",
    "#pada variabel y masing-masing anggota numpy dikali 5"
   ]
  },
  {
   "cell_type": "code",
   "execution_count": 104,
   "id": "0cc1f2b1",
   "metadata": {},
   "outputs": [
    {
     "data": {
      "text/plain": [
       "array([2. , 1.5, 1. , 0.5])"
      ]
     },
     "execution_count": 104,
     "metadata": {},
     "output_type": "execute_result"
    }
   ],
   "source": [
    "y/2\n",
    "#pada variabel y masing-masing anggota numpy dibagi 2"
   ]
  },
  {
   "cell_type": "code",
   "execution_count": 105,
   "id": "931598cf",
   "metadata": {},
   "outputs": [
    {
     "data": {
      "text/plain": [
       "array([16,  9,  4,  1], dtype=int32)"
      ]
     },
     "execution_count": 105,
     "metadata": {},
     "output_type": "execute_result"
    }
   ],
   "source": [
    "y**2\n",
    "#pada variabel y masing-masing anggota numpy dipangkatkan 2"
   ]
  },
  {
   "cell_type": "code",
   "execution_count": 106,
   "id": "d4f44609",
   "metadata": {},
   "outputs": [
    {
     "data": {
      "text/plain": [
       "array([5, 5, 5, 5])"
      ]
     },
     "execution_count": 106,
     "metadata": {},
     "output_type": "execute_result"
    }
   ],
   "source": [
    "x+y\n",
    "#variabel x + variabel y"
   ]
  },
  {
   "cell_type": "code",
   "execution_count": 107,
   "id": "04fe50fa",
   "metadata": {},
   "outputs": [
    {
     "data": {
      "text/plain": [
       "array([-3, -1,  1,  3])"
      ]
     },
     "execution_count": 107,
     "metadata": {},
     "output_type": "execute_result"
    }
   ],
   "source": [
    "x-y\n",
    "#variabel x - variabel y"
   ]
  },
  {
   "cell_type": "code",
   "execution_count": 108,
   "id": "34286b26",
   "metadata": {},
   "outputs": [
    {
     "data": {
      "text/plain": [
       "array([4, 6, 6, 4])"
      ]
     },
     "execution_count": 108,
     "metadata": {},
     "output_type": "execute_result"
    }
   ],
   "source": [
    "x*y\n",
    "#variabel x dikali variabel y"
   ]
  },
  {
   "cell_type": "code",
   "execution_count": 109,
   "id": "5203eac5",
   "metadata": {},
   "outputs": [
    {
     "data": {
      "text/plain": [
       "array([4.        , 1.5       , 0.66666667, 0.25      ])"
      ]
     },
     "execution_count": 109,
     "metadata": {},
     "output_type": "execute_result"
    }
   ],
   "source": [
    "y/x\n",
    "#variabel y : variabel x"
   ]
  },
  {
   "cell_type": "code",
   "execution_count": 110,
   "id": "280ba9e7",
   "metadata": {},
   "outputs": [
    {
     "data": {
      "text/plain": [
       "array([4, 9, 8, 1], dtype=int32)"
      ]
     },
     "execution_count": 110,
     "metadata": {},
     "output_type": "execute_result"
    }
   ],
   "source": [
    "y**x\n",
    "#variabel y pangkat variabel x"
   ]
  },
  {
   "cell_type": "markdown",
   "id": "8dbd0c98",
   "metadata": {},
   "source": [
    "# 5.20.6 Perkalian Matriks pada Numpy\n",
    "#### Dapat diamati bahwa operasi matematika pada suatu matrik dengan Numpy akan mengoperaikan elemen yang baris dan kolomnya sama. Tentunya hal ini akan memberikan hasil berbeda jika yang kita kehendaki adalah perkalian dua matrik. Perkalian matrik pada Numpy dapat menggunakan perintah matmul. Perlu dijadikan perhatian tentang ukuran matrik yang akan dikalikan harus sesuai dengan persyaratan. Misalnya matrik ukuran (2x3) dapat dikalikan dengan matrik ukuran (3x4)"
   ]
  },
  {
   "cell_type": "code",
   "execution_count": 111,
   "id": "647c75ff",
   "metadata": {},
   "outputs": [],
   "source": [
    "import numpy as np"
   ]
  },
  {
   "cell_type": "code",
   "execution_count": 112,
   "id": "c9c6d6de",
   "metadata": {},
   "outputs": [
    {
     "name": "stdout",
     "output_type": "stream",
     "text": [
      "[[1 3 5 7]\n",
      " [2 4 6 8]]\n"
     ]
    }
   ],
   "source": [
    "k = np.array([[1,3,5,7],[2,4,6,8]])\n",
    "print(k)\n",
    "#matriks 2x4"
   ]
  },
  {
   "cell_type": "code",
   "execution_count": 113,
   "id": "590a88b7",
   "metadata": {},
   "outputs": [
    {
     "name": "stdout",
     "output_type": "stream",
     "text": [
      "[[2 3 5 7]\n",
      " [0 1 2 3]]\n"
     ]
    }
   ],
   "source": [
    "l = np.array([[2,3,5,7],[0,1,2,3]])\n",
    "print(l)\n",
    "#matriks 2x4"
   ]
  },
  {
   "cell_type": "code",
   "execution_count": 114,
   "id": "28e0aa80",
   "metadata": {
    "scrolled": true
   },
   "outputs": [
    {
     "name": "stdout",
     "output_type": "stream",
     "text": [
      "[[ 2  9 25 49]\n",
      " [ 0  4 12 24]]\n"
     ]
    }
   ],
   "source": [
    "m = k*l\n",
    "print(m)\n",
    "#mengalikan anggota variabel k dan l"
   ]
  },
  {
   "cell_type": "code",
   "execution_count": 115,
   "id": "d12f4e06",
   "metadata": {},
   "outputs": [
    {
     "ename": "ValueError",
     "evalue": "matmul: Input operand 1 has a mismatch in its core dimension 0, with gufunc signature (n?,k),(k,m?)->(n?,m?) (size 2 is different from 4)",
     "output_type": "error",
     "traceback": [
      "\u001b[1;31m---------------------------------------------------------------------------\u001b[0m",
      "\u001b[1;31mValueError\u001b[0m                                Traceback (most recent call last)",
      "\u001b[1;32m~\\AppData\\Local\\Temp\\ipykernel_9768\\431285167.py\u001b[0m in \u001b[0;36m<module>\u001b[1;34m\u001b[0m\n\u001b[1;32m----> 1\u001b[1;33m \u001b[0mn\u001b[0m \u001b[1;33m=\u001b[0m \u001b[0mnp\u001b[0m\u001b[1;33m.\u001b[0m\u001b[0mmatmul\u001b[0m\u001b[1;33m(\u001b[0m\u001b[0mk\u001b[0m\u001b[1;33m,\u001b[0m\u001b[0ml\u001b[0m\u001b[1;33m)\u001b[0m\u001b[1;33m\u001b[0m\u001b[1;33m\u001b[0m\u001b[0m\n\u001b[0m\u001b[0;32m      2\u001b[0m \u001b[1;31m#perintah matmul digunakan untuk mengalikan matriks pada numpy\u001b[0m\u001b[1;33m\u001b[0m\u001b[1;33m\u001b[0m\u001b[0m\n\u001b[0;32m      3\u001b[0m \u001b[1;31m#terjadi error karena pada kolom dan baris yang akan dikalikan tersebut jumlahnya berbeda\u001b[0m\u001b[1;33m\u001b[0m\u001b[1;33m\u001b[0m\u001b[0m\n",
      "\u001b[1;31mValueError\u001b[0m: matmul: Input operand 1 has a mismatch in its core dimension 0, with gufunc signature (n?,k),(k,m?)->(n?,m?) (size 2 is different from 4)"
     ]
    }
   ],
   "source": [
    "n = np.matmul(k,l)\n",
    "#perintah matmul digunakan untuk mengalikan matriks pada numpy\n",
    "#terjadi error karena pada kolom dan baris yang akan dikalikan tersebut jumlahnya berbeda"
   ]
  },
  {
   "cell_type": "code",
   "execution_count": 116,
   "id": "ef3c2b79",
   "metadata": {},
   "outputs": [
    {
     "name": "stdout",
     "output_type": "stream",
     "text": [
      "[[1 2]\n",
      " [3 4]\n",
      " [5 6]\n",
      " [7 8]]\n"
     ]
    }
   ],
   "source": [
    "o = np.array([[1,2],[3,4],[5,6],[7,8]])\n",
    "print (o)\n",
    "#matriks 4x2"
   ]
  },
  {
   "cell_type": "code",
   "execution_count": 117,
   "id": "c8903313",
   "metadata": {},
   "outputs": [
    {
     "name": "stdout",
     "output_type": "stream",
     "text": [
      "[[ 84 100]\n",
      " [100 120]]\n"
     ]
    }
   ],
   "source": [
    "p = np.matmul(k,o)\n",
    "print (p)\n",
    "#jika matriks k dikali o dengan perintah matmul maka akan ada hasilnya, karena sudah memenuhi aturan perkalian matriks"
   ]
  },
  {
   "cell_type": "markdown",
   "id": "77040835",
   "metadata": {},
   "source": [
    "# 5.20.7 Min, Max dan Sum pada Numpy\n",
    "#### Perintah min, max dan sum cukup sering digunakan untuk mengetahui nilai minimum, maksimum dan penjumlahan."
   ]
  },
  {
   "cell_type": "code",
   "execution_count": 118,
   "id": "70cdcf1a",
   "metadata": {},
   "outputs": [],
   "source": [
    "import numpy as np"
   ]
  },
  {
   "cell_type": "code",
   "execution_count": 119,
   "id": "c0187100",
   "metadata": {},
   "outputs": [
    {
     "name": "stdout",
     "output_type": "stream",
     "text": [
      "[[ 5  6  7  8]\n",
      " [ 9 10 11 12]\n",
      " [13 14 15 16]]\n"
     ]
    }
   ],
   "source": [
    "k = np.array ([[5,6,7,8],\n",
    "               [9,10,11,12],\n",
    "               [13,14,15,16]])\n",
    "print(k)"
   ]
  },
  {
   "cell_type": "code",
   "execution_count": 120,
   "id": "4066d661",
   "metadata": {},
   "outputs": [
    {
     "name": "stdout",
     "output_type": "stream",
     "text": [
      "5\n"
     ]
    }
   ],
   "source": [
    "l = np.min(k)\n",
    "print(l)\n",
    "#menampilkan nilai minimmum dari matriks k"
   ]
  },
  {
   "cell_type": "code",
   "execution_count": 121,
   "id": "c4714395",
   "metadata": {},
   "outputs": [
    {
     "name": "stdout",
     "output_type": "stream",
     "text": [
      "[5 6 7 8]\n"
     ]
    }
   ],
   "source": [
    "m = np.min(k,axis=0)\n",
    "#axis=0 digunakan untuk menerapkan metode di setiap kolom, atau ke label baris (indeks), \n",
    "#disertai perintah min artinya baris yang paling kecil\n",
    "print(m)"
   ]
  },
  {
   "cell_type": "code",
   "execution_count": 122,
   "id": "b68136cc",
   "metadata": {},
   "outputs": [
    {
     "name": "stdout",
     "output_type": "stream",
     "text": [
      "[ 5  9 13]\n"
     ]
    }
   ],
   "source": [
    "n =np.min(k,axis=1)\n",
    "print(n)\n",
    "#axis=1 digunakan untuk menerapkan metode di setiap baris, atau ke label kolom.\n",
    "#disertai perintah min artinya kolom yang paling kecil"
   ]
  },
  {
   "cell_type": "code",
   "execution_count": 123,
   "id": "ea0e3b63",
   "metadata": {},
   "outputs": [
    {
     "name": "stdout",
     "output_type": "stream",
     "text": [
      "16\n"
     ]
    }
   ],
   "source": [
    "o = np.max(k)\n",
    "print(o)\n",
    "#menampilkan nilai maksimum dari matriks k"
   ]
  },
  {
   "cell_type": "code",
   "execution_count": 124,
   "id": "14237960",
   "metadata": {},
   "outputs": [
    {
     "name": "stdout",
     "output_type": "stream",
     "text": [
      "[13 14 15 16]\n"
     ]
    }
   ],
   "source": [
    "p = np.max(k,axis=0)\n",
    "print(p)\n",
    "#axis=0 digunakan untuk menerapkan metode di setiap kolom, atau ke label baris (indeks), \n",
    "#disertai perintah max artinya baris yang paling besar"
   ]
  },
  {
   "cell_type": "code",
   "execution_count": 125,
   "id": "7e45fea3",
   "metadata": {},
   "outputs": [
    {
     "name": "stdout",
     "output_type": "stream",
     "text": [
      "[ 8 12 16]\n"
     ]
    }
   ],
   "source": [
    "q = np.max(k,axis=1)\n",
    "print(q)\n",
    "#axis=1 digunakan untuk menerapkan metode di setiap baris, atau ke label kolom.\n",
    "#disertai perintah max artinya kolom yang paling besar"
   ]
  },
  {
   "cell_type": "code",
   "execution_count": 126,
   "id": "90b48698",
   "metadata": {},
   "outputs": [
    {
     "name": "stdout",
     "output_type": "stream",
     "text": [
      "126\n"
     ]
    }
   ],
   "source": [
    "r = np.sum(k)\n",
    "print(r)\n",
    "#menjumlahkan anggota variabel k"
   ]
  },
  {
   "cell_type": "code",
   "execution_count": 127,
   "id": "56102f3f",
   "metadata": {},
   "outputs": [
    {
     "name": "stdout",
     "output_type": "stream",
     "text": [
      "[27 30 33 36]\n"
     ]
    }
   ],
   "source": [
    "s = np.sum(k,axis=0)\n",
    "print(s)\n",
    "#axis=0 digunakan untuk menerapkan metode di setiap kolom, atau ke label baris (indeks), \n",
    "#disertai perintah sum artinya jumlahkan semua anggota pada tiap kolom"
   ]
  },
  {
   "cell_type": "code",
   "execution_count": 128,
   "id": "e78c4821",
   "metadata": {},
   "outputs": [
    {
     "name": "stdout",
     "output_type": "stream",
     "text": [
      "[26 42 58]\n"
     ]
    }
   ],
   "source": [
    "s = np.sum(k,axis=1)\n",
    "print(s)\n",
    "#axis=1 digunakan untuk menerapkan metode di setiap baris, atau ke label kolom.\n",
    "#disertai perintah sum artinya jumlahkan semua anggota pada tiap baris"
   ]
  }
 ],
 "metadata": {
  "kernelspec": {
   "display_name": "Python 3 (ipykernel)",
   "language": "python",
   "name": "python3"
  },
  "language_info": {
   "codemirror_mode": {
    "name": "ipython",
    "version": 3
   },
   "file_extension": ".py",
   "mimetype": "text/x-python",
   "name": "python",
   "nbconvert_exporter": "python",
   "pygments_lexer": "ipython3",
   "version": "3.9.13"
  }
 },
 "nbformat": 4,
 "nbformat_minor": 5
}
