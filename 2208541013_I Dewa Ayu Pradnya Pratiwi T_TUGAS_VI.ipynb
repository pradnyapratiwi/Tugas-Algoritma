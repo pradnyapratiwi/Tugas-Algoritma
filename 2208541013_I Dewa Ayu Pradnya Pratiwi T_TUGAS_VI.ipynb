{
 "cells": [
  {
   "cell_type": "markdown",
   "id": "ca414f21",
   "metadata": {},
   "source": [
    "# 5.21 Pandas\n",
    "#### Pandas juga merupakan Library pada python. Pandas digunakan untuk menganalisa data atau data analisis. Tahap pertama yang harus dilakukan untuk memanggil Library ini adalah seperti program berikut ini"
   ]
  },
  {
   "cell_type": "code",
   "execution_count": 1,
   "id": "39bde45d",
   "metadata": {},
   "outputs": [],
   "source": [
    "import pandas as pd"
   ]
  },
  {
   "cell_type": "markdown",
   "id": "4aa40fc5",
   "metadata": {},
   "source": [
    "# 5.21.1 Membaca File Data pada Pandas\n",
    "#### Terdapat beberapat format file data yang dapat dibaca oleh Pandas seperti .csv, .txt, .xlsx. Berikut beberapa perintah untuk membaca data masing-masing format file."
   ]
  },
  {
   "cell_type": "markdown",
   "id": "8b46d1cb",
   "metadata": {},
   "source": [
    "## Memanggil Pandas melalui Link"
   ]
  },
  {
   "cell_type": "code",
   "execution_count": 2,
   "id": "f572800f",
   "metadata": {},
   "outputs": [
    {
     "name": "stdout",
     "output_type": "stream",
     "text": [
      "     sepal length (cm)  sepal width (cm)  petal length (cm)  petal width (cm)\n",
      "0                  5.1               3.5                1.4               0.2\n",
      "1                  4.9               3.0                1.4               0.2\n",
      "2                  4.7               3.2                1.3               0.2\n",
      "3                  4.6               3.1                1.5               0.2\n",
      "4                  5.0               3.6                1.4               0.2\n",
      "..                 ...               ...                ...               ...\n",
      "145                6.7               3.0                5.2               2.3\n",
      "146                6.3               2.5                5.0               1.9\n",
      "147                6.5               3.0                5.2               2.0\n",
      "148                6.2               3.4                5.4               2.3\n",
      "149                5.9               3.0                5.1               1.8\n",
      "\n",
      "[150 rows x 4 columns]\n"
     ]
    }
   ],
   "source": [
    "#data.csv\n",
    "#nama_variabel_data = pd.read_csv('copy link data yang digunakan')\n",
    "#link yang saya pakai adalah dari github Pak Eka, data yang digunakan yaitu klik raw setelah data yang dipilih muncul\n",
    "data_iris = pd.read_csv('https://raw.githubusercontent.com/imdwipayana/DATA/main/Bunga%20Iris/bunga_iris.csv')\n",
    "print(data_iris)"
   ]
  },
  {
   "cell_type": "code",
   "execution_count": 3,
   "id": "5c3b0bb3",
   "metadata": {},
   "outputs": [],
   "source": [
    "#karena format file link di atas adalah .csv maka untuk program format file .txt dan .xlsx kita gunakan link data yang lain\n",
    "#yang juga merupakan data dengan format .txt dan .xlsx\n",
    "#tetapi karena program ini adalah program untuk memanggil pandas melalui link, maka format .xlsx tidak dapat digunakan\n",
    "#data yang akan saya gunakan juga dari github Pak Eka"
   ]
  },
  {
   "cell_type": "code",
   "execution_count": 4,
   "id": "faf590f2",
   "metadata": {},
   "outputs": [
    {
     "name": "stdout",
     "output_type": "stream",
     "text": [
      "    No.              Nama Tanggal Lahir Jenis Kelamin Pekerjaan   Gaji  \\\n",
      "0     1        Putu Diana    1995-01-14     Perempuan    dokter   5000   \n",
      "1     2         Made Andi    1994-02-15     Laki-laki   perawat   4000   \n",
      "2     3      Komang Lukis    1993-03-16     Laki-laki     bidan   4000   \n",
      "3     4    Ketut Koncreng    1992-04-17     Perempuan     buruh   3000   \n",
      "4     5       Wayan Bagus    1991-05-18     Laki-laki    dagang  10000   \n",
      "5     6       Kadek Bocok    1990-03-19     Laki-laki     supir   6000   \n",
      "6     7      Nyoman Jegeg    1989-06-20     Perempuan     artis   3000   \n",
      "7     8        Ketut Lama    1988-07-21     Laki-laki     supir   4000   \n",
      "8     9           Luh Ani    1987-08-22     Perempuan    dagang   5000   \n",
      "9    10       Made Sengap    1986-09-23     Laki-laki     supir   3500   \n",
      "10   11        Made Santi    1995-01-01     Perempuan    dokter   6000   \n",
      "11   12    Luh Madeinbali    1994-01-02          None   perawat   7000   \n",
      "12   13  Ketut Kusumadewi    1990-01-03     Perempuan     bidan   8000   \n",
      "13   14       Komang Dewi    1993-02-05          None    dokter  10000   \n",
      "14   15    Kadek Dewiyani    1991-06-15     Perempuan     buruh  11000   \n",
      "15   16     Luh Santidewi    1991-07-15          None     artis   7000   \n",
      "16   17       Putu Medewi    1992-06-16     Perempuan     buruh   3500   \n",
      "17   18     Nyoman Madewi    1994-07-13     Perempuan    dagang   1500   \n",
      "18   19       Kadek Pekak    1992-05-14     Laki-laki     buruh   2500   \n",
      "19   20       Made Sengap    1991-06-15     Laki-laki     supir   4500   \n",
      "\n",
      "    Tabungan Menikah  Jumlah Anak  \n",
      "0     100000   tidak            0  \n",
      "1     150000      ya            4  \n",
      "2     200000      ya            3  \n",
      "3        500      ya            2  \n",
      "4     500000   tidak            0  \n",
      "5       1000   tidak            0  \n",
      "6      50000   tidak            0  \n",
      "7       2000      ya            1  \n",
      "8      50000      ya            2  \n",
      "9     700000      ya            2  \n",
      "10     20000   tidak            0  \n",
      "11       500      ya            4  \n",
      "12     10000   tidak            0  \n",
      "13     25000      ya            2  \n",
      "14     35000   tidak            0  \n",
      "15      7000      ya            3  \n",
      "16      5000   tidak            0  \n",
      "17     75000      ya            6  \n",
      "18      9000   tidak            0  \n",
      "19     15000      ya            5  \n"
     ]
    }
   ],
   "source": [
    "#data.txt\n",
    "#nama_variabel_data = pd.read_csv('copy link data yang digunakan')\n",
    "data_palsu = pd.read_csv('https://raw.githubusercontent.com/imdwipayana/DATA/main/Data%20Palsu%20Panda/data_palsu.txt')\n",
    "#walaupun filenya berformat .txt tetapi programnya tetap dengan .csv karena sama-sama bertipe text\n",
    "print(data_palsu)"
   ]
  },
  {
   "cell_type": "code",
   "execution_count": 5,
   "id": "e850cafc",
   "metadata": {},
   "outputs": [
    {
     "name": "stdout",
     "output_type": "stream",
     "text": [
      "  <!DOCTYPE html><html><head><meta http-equiv=\"X-UA-Compatible\" content=\"IE=Edge\" /><meta name=\"robots\" content=\"noindex\" /><style type=\"text/css\"> body { margin:0; overflow:hidden; background-color:#fff; background-repeat:no-repeat;} #wacframe { width:100%; height:100%; position:absolute; top:0; left:0; } </style><![if gte IE 8]><style type=\"text/css\"> .load_center img{margin:5px;} #load_img{width:100%;height:100%;position:absolute;text-align:center;} #load_img img{position:relative;} .load_center{position:absolute;left:0;right:0;bottom:50%;} .load_header { font-family: calibri  \\\n",
      "0  <input type=\"hidden\" name=\"__VIEWSTATE\" id=\"__...                                                                                                                                                                                                                                                                                                                                                                                                                                                                                                                                                        \n",
      "1  <script type=\"text/javascript\"> var _iframeUrl...                                                                                                                                                                                                                                                                                                                                                                                                                                                                                                                                                        \n",
      "\n",
      "                                              tahoma   verdana   arial  \\\n",
      "0                                                NaN       NaN     NaN   \n",
      "1   'true'); document.body.appendChild(iframe); v...       NaN     NaN   \n",
      "\n",
      "    sans serif; font-size: 18pt; color: #444444; line-height: 150% } .load_text { font-family: calibri  \\\n",
      "0                                                NaN                                                     \n",
      "1                                                NaN                                                     \n",
      "\n",
      "    tahoma.1   verdana.1   arial.1  \\\n",
      "0        NaN         NaN       NaN   \n",
      "1        NaN         NaN       NaN   \n",
      "\n",
      "    sans serif; font-size: 10pt; color: #444444; } </style><![endif]></head><body width=\"100%\" height=\"100%\" onload=\"OnLoad()\" ><![if gte IE 8]><div id=\"load_img\"><div class=\"load_center\"><div class=\"load_header\">We&#39;re fetching your file...</div><div class=\"load_text\">Please wait a moment while we retrieve your file from its home on the internet</div><img align=\"absmiddle\" src=\"data:image/gif;base64  \\\n",
      "0                                                NaN                                                                                                                                                                                                                                                                                                                                                                     \n",
      "1                                                NaN                                                                                                                                                                                                                                                                                                                                                                     \n",
      "\n",
      "   R0lGODlhGAAYAIABAJmZmf///yH/C05FVFNDQVBFMi4wAwEAAAAh+QQFCgABACwAAAAAGAAYAAACHYyPCZDtt9abMNIrr968+w+G4kiW5omm6sq27lYAACH5BAUKAAEALBQABgAEAAQAAAIFDGCnl1EAIfkEBQoAAQAsFAAOAAQABAAAAgUMYKeXUQAh+QQFCgABACwOABQABAAEAAACBQxgp5dRACH5BAUKAAEALAYAFAAEAAQAAAIFDGCnl1EAIfkEBQoAAQAsAAAOAAQABAAAAgUMYKeXUQAh+QQFCgABACwAAAYABAAEAAACBQxgp5dRACH5BAkKAAEALAYAAAAMAAQAAAILDBCperfb0GNyhgIAIfkECQoAAQAsAAAAABgAGAAAAh2MHwDI3aqcZHDNmyzevPsPhuJIluaJpurKtu47FgAh+QQJCgABACwAAAAAGAAYAAACMowfAMjdqpxkcM2bLN687+hRUIhUZKmd6sq2HhhG5luNtJx2sMs/ecaZGYQTIrH42x0KACH5BAkKAAEALAAAAAAYABgAAAIwjB8AyN2qnGRwzZss3rzv6FFQiFRkqZ3qyrYeqJrxuMLujWdPOsmG36P9hBfb0FEAACH5BAkKAAEALAAAAAAYABgAAAIqjB8AyN2qnGRwzZss3rzv6FFQiFRkqZ3qyrYeqJrxuMLujWesfPJ9iikAACH5BAkKAAEALAAAAAAYABgAAAImjB8AyN2qnGRwzZss3rzv6FFQiFRkqZ3qyrYeqJrxuMLujef6PhUAIfkECQoAAQAsAAAAABgAGAAAAiOMHwDI3aqcZHDNmyzevO/oUVCIVGSpnerKtu4Lx/JM1zZWAAAh+QQJCgABACwAAAAAGAAYAAACHYwfAMjdqpxkcM2bLN68+w+G4kiW5omm6sq27jsWADs=\"/></div></div><![endif]><form method=\"post\" action=\"./view.aspx?src=https%3a%2f%2fraw.githubusercontent.com%2fimdwipayana%2fDATA%2fmain%2fData%2520Palsu%2520Panda%2fdata_palsu.xlsx&amp;wdOrigin=BROWSELINK\" id=\"form1\">  \n",
      "0                                                NaN                                                                                                                                                                                                                                                                                                                                                                                                                                                                                                                                                                                                                                                                                                                                                                                                                                                                                                                                                                                                                                                                                                                                           \n",
      "1                                                NaN                                                                                                                                                                                                                                                                                                                                                                                                                                                                                                                                                                                                                                                                                                                                                                                                                                                                                                                                                                                                                                                                                                                                           \n"
     ]
    }
   ],
   "source": [
    "#data.xlsx\n",
    "#format file .xlsx tidak bisa digunakan pada program ini, tetapi   kita coba untuk menjalankan programnya\n",
    "data_palsu = pd.read_csv('https://view.officeapps.live.com/op/view.aspx?src=https%3A%2F%2Fraw.githubusercontent.com%2Fimdwipayana%2FDATA%2Fmain%2FData%2520Palsu%2520Panda%2Fdata_palsu.xlsx&wdOrigin=BROWSELINK')\n",
    "print(data_palsu)"
   ]
  },
  {
   "cell_type": "markdown",
   "id": "8cf5873d",
   "metadata": {},
   "source": [
    "## Memanggil Pandas di Folder yang Sama\n",
    "#### Jika file atau data yang ingin kita gunakan telah kita download dan tersimpan di sebuah folder di laptop, maka untuk memanggil atau menggunakannya, kita dapat menyimpannya terlebih dahulu dalam folder yang sama dengan tempat kita menyimpan file kode  yang kita gunakan untuk menganalisa file tersebut atau dengan kata lain ditempatkan di satu folder yang sama. Setelah itu, gunakan program berikut untuk memanggil data tersebut."
   ]
  },
  {
   "cell_type": "code",
   "execution_count": 6,
   "id": "d87a2786",
   "metadata": {},
   "outputs": [],
   "source": [
    "import pandas as pd"
   ]
  },
  {
   "cell_type": "code",
   "execution_count": 7,
   "id": "89765e2d",
   "metadata": {
    "scrolled": false
   },
   "outputs": [
    {
     "name": "stdout",
     "output_type": "stream",
     "text": [
      "     sepal length (cm)  sepal width (cm)  petal length (cm)  petal width (cm)\n",
      "0                  5.1               3.5                1.4               0.2\n",
      "1                  4.9               3.0                1.4               0.2\n",
      "2                  4.7               3.2                1.3               0.2\n",
      "3                  4.6               3.1                1.5               0.2\n",
      "4                  5.0               3.6                1.4               0.2\n",
      "..                 ...               ...                ...               ...\n",
      "145                6.7               3.0                5.2               2.3\n",
      "146                6.3               2.5                5.0               1.9\n",
      "147                6.5               3.0                5.2               2.0\n",
      "148                6.2               3.4                5.4               2.3\n",
      "149                5.9               3.0                5.1               1.8\n",
      "\n",
      "[150 rows x 4 columns]\n"
     ]
    }
   ],
   "source": [
    "data_iris = pd.read_csv('bunga_iris.csv')\n",
    "print(data_iris)"
   ]
  },
  {
   "cell_type": "code",
   "execution_count": 8,
   "id": "15cb28d3",
   "metadata": {},
   "outputs": [],
   "source": [
    "#sama seperti program memanggil pandas dengan link, \n",
    "#program memanggil pandas di folder yang sama juga harus disesuaikan dengan format filenya\n",
    "#karena data di atas formatnya .csv maka untuk .txt dan .xlsx digunakan data yang lain"
   ]
  },
  {
   "cell_type": "code",
   "execution_count": 9,
   "id": "cfa1b8d8",
   "metadata": {},
   "outputs": [
    {
     "name": "stdout",
     "output_type": "stream",
     "text": [
      "    No.              Nama Tanggal Lahir Jenis Kelamin Pekerjaan   Gaji  \\\n",
      "0     1        Putu Diana    1995-01-14     Perempuan    dokter   5000   \n",
      "1     2         Made Andi    1994-02-15     Laki-laki   perawat   4000   \n",
      "2     3      Komang Lukis    1993-03-16     Laki-laki     bidan   4000   \n",
      "3     4    Ketut Koncreng    1992-04-17     Perempuan     buruh   3000   \n",
      "4     5       Wayan Bagus    1991-05-18     Laki-laki    dagang  10000   \n",
      "5     6       Kadek Bocok    1990-03-19     Laki-laki     supir   6000   \n",
      "6     7      Nyoman Jegeg    1989-06-20     Perempuan     artis   3000   \n",
      "7     8        Ketut Lama    1988-07-21     Laki-laki     supir   4000   \n",
      "8     9           Luh Ani    1987-08-22     Perempuan    dagang   5000   \n",
      "9    10       Made Sengap    1986-09-23     Laki-laki     supir   3500   \n",
      "10   11        Made Santi    1995-01-01     Perempuan    dokter   6000   \n",
      "11   12    Luh Madeinbali    1994-01-02          None   perawat   7000   \n",
      "12   13  Ketut Kusumadewi    1990-01-03     Perempuan     bidan   8000   \n",
      "13   14       Komang Dewi    1993-02-05          None    dokter  10000   \n",
      "14   15    Kadek Dewiyani    1991-06-15     Perempuan     buruh  11000   \n",
      "15   16     Luh Santidewi    1991-07-15          None     artis   7000   \n",
      "16   17       Putu Medewi    1992-06-16     Perempuan     buruh   3500   \n",
      "17   18     Nyoman Madewi    1994-07-13     Perempuan    dagang   1500   \n",
      "18   19       Kadek Pekak    1992-05-14     Laki-laki     buruh   2500   \n",
      "19   20       Made Sengap    1991-06-15     Laki-laki     supir   4500   \n",
      "\n",
      "    Tabungan Menikah  Jumlah Anak  \n",
      "0     100000   tidak            0  \n",
      "1     150000      ya            4  \n",
      "2     200000      ya            3  \n",
      "3        500      ya            2  \n",
      "4     500000   tidak            0  \n",
      "5       1000   tidak            0  \n",
      "6      50000   tidak            0  \n",
      "7       2000      ya            1  \n",
      "8      50000      ya            2  \n",
      "9     700000      ya            2  \n",
      "10     20000   tidak            0  \n",
      "11       500      ya            4  \n",
      "12     10000   tidak            0  \n",
      "13     25000      ya            2  \n",
      "14     35000   tidak            0  \n",
      "15      7000      ya            3  \n",
      "16      5000   tidak            0  \n",
      "17     75000      ya            6  \n",
      "18      9000   tidak            0  \n",
      "19     15000      ya            5  \n"
     ]
    }
   ],
   "source": [
    "data_palsu = pd.read_csv('data_palsu.txt')\n",
    "print(data_palsu) "
   ]
  },
  {
   "cell_type": "code",
   "execution_count": 10,
   "id": "f2244f3e",
   "metadata": {},
   "outputs": [
    {
     "name": "stdout",
     "output_type": "stream",
     "text": [
      "    No.              Nama Tanggal Lahir Jenis Kelamin Pekerjaan   Gaji  \\\n",
      "0     1        Putu Diana    1995-01-14     Perempuan    dokter   5000   \n",
      "1     2         Made Andi    1994-02-15     Laki-laki   perawat   4000   \n",
      "2     3      Komang Lukis    1993-03-16     Laki-laki     bidan   4000   \n",
      "3     4    Ketut Koncreng    1992-04-17     Perempuan     buruh   3000   \n",
      "4     5       Wayan Bagus    1991-05-18     Laki-laki    dagang  10000   \n",
      "5     6       Kadek Bocok    1990-03-19     Laki-laki     supir   6000   \n",
      "6     7      Nyoman Jegeg    1989-06-20     Perempuan     artis   3000   \n",
      "7     8        Ketut Lama    1988-07-21     Laki-laki     supir   4000   \n",
      "8     9           Luh Ani    1987-08-22     Perempuan    dagang   5000   \n",
      "9    10       Made Sengap    1986-09-23     Laki-laki     supir   3500   \n",
      "10   11        Made Santi    1995-01-01     Perempuan    dokter   6000   \n",
      "11   12    Luh Madeinbali    1994-01-02          None   perawat   7000   \n",
      "12   13  Ketut Kusumadewi    1990-01-03     Perempuan     bidan   8000   \n",
      "13   14       Komang Dewi    1993-02-05          None    dokter  10000   \n",
      "14   15    Kadek Dewiyani    1991-06-15     Perempuan     buruh  11000   \n",
      "15   16     Luh Santidewi    1991-07-15          None     artis   7000   \n",
      "16   17       Putu Medewi    1992-06-16     Perempuan     buruh   3500   \n",
      "17   18     Nyoman Madewi    1994-07-13     Perempuan    dagang   1500   \n",
      "18   19       Kadek Pekak    1992-05-14     Laki-laki     buruh   2500   \n",
      "19   20       Made Sengap    1991-06-15     Laki-laki     supir   4500   \n",
      "\n",
      "    Tabungan Menikah  Jumlah Anak  \n",
      "0     100000   tidak            0  \n",
      "1     150000      ya            4  \n",
      "2     200000      ya            3  \n",
      "3        500      ya            2  \n",
      "4     500000   tidak            0  \n",
      "5       1000   tidak            0  \n",
      "6      50000   tidak            0  \n",
      "7       2000      ya            1  \n",
      "8      50000      ya            2  \n",
      "9     700000      ya            2  \n",
      "10     20000   tidak            0  \n",
      "11       500      ya            4  \n",
      "12     10000   tidak            0  \n",
      "13     25000      ya            2  \n",
      "14     35000   tidak            0  \n",
      "15      7000      ya            3  \n",
      "16      5000   tidak            0  \n",
      "17     75000      ya            6  \n",
      "18      9000   tidak            0  \n",
      "19     15000      ya            5  \n"
     ]
    }
   ],
   "source": [
    "data_palsu = pd.read_excel('data_palsu.xlsx')\n",
    "print(data_palsu) "
   ]
  },
  {
   "cell_type": "markdown",
   "id": "38c84f8a",
   "metadata": {},
   "source": [
    "# 5.21.2 Properti pada Pandas\n",
    "#### Pandas memiliki beberapa properti untuk memudahkan observasi atau pengamatan awal tentang data yang baru dipanggil. Berikut beberapa properti pada pandas."
   ]
  },
  {
   "cell_type": "code",
   "execution_count": 11,
   "id": "a3eaae8c",
   "metadata": {},
   "outputs": [
    {
     "name": "stdout",
     "output_type": "stream",
     "text": [
      "   sepal length (cm)  sepal width (cm)  petal length (cm)  petal width (cm)\n",
      "0                5.1               3.5                1.4               0.2\n",
      "1                4.9               3.0                1.4               0.2\n",
      "2                4.7               3.2                1.3               0.2\n",
      "3                4.6               3.1                1.5               0.2\n",
      "4                5.0               3.6                1.4               0.2\n",
      "5                5.4               3.9                1.7               0.4\n"
     ]
    }
   ],
   "source": [
    "print(data_iris.head(6))\n",
    "#head digunakan jika kita ingin melihat beberapa line saja dari sekian banyaknya data\n",
    "#head(6) berarti hanya menampilkan 6 line"
   ]
  },
  {
   "cell_type": "code",
   "execution_count": 12,
   "id": "23723471",
   "metadata": {},
   "outputs": [
    {
     "name": "stdout",
     "output_type": "stream",
     "text": [
      "Index(['sepal length (cm)', 'sepal width (cm)', 'petal length (cm)',\n",
      "       'petal width (cm)'],\n",
      "      dtype='object')\n"
     ]
    }
   ],
   "source": [
    "print(data_iris.columns)\n",
    "#program ini digunakan untuk melihat judul di setiap kolom"
   ]
  },
  {
   "cell_type": "code",
   "execution_count": 13,
   "id": "a7770f34",
   "metadata": {},
   "outputs": [
    {
     "name": "stdout",
     "output_type": "stream",
     "text": [
      "0      5.1\n",
      "1      4.9\n",
      "2      4.7\n",
      "3      4.6\n",
      "4      5.0\n",
      "      ... \n",
      "145    6.7\n",
      "146    6.3\n",
      "147    6.5\n",
      "148    6.2\n",
      "149    5.9\n",
      "Name: sepal length (cm), Length: 150, dtype: float64\n"
     ]
    }
   ],
   "source": [
    "print(data_iris['sepal length (cm)'])\n",
    "#digunakan untuk melihat isi dari kolom yang berjudul sepal length (cm)"
   ]
  },
  {
   "cell_type": "code",
   "execution_count": 14,
   "id": "cc717e7f",
   "metadata": {},
   "outputs": [
    {
     "name": "stdout",
     "output_type": "stream",
     "text": [
      "0      3.5\n",
      "1      3.0\n",
      "2      3.2\n",
      "3      3.1\n",
      "4      3.6\n",
      "      ... \n",
      "145    3.0\n",
      "146    2.5\n",
      "147    3.0\n",
      "148    3.4\n",
      "149    3.0\n",
      "Name: sepal width (cm), Length: 150, dtype: float64\n"
     ]
    }
   ],
   "source": [
    "print(data_iris['sepal width (cm)'])\n",
    "#menampilkan isi dari kolom yang berjudul sepal width (cm)"
   ]
  },
  {
   "cell_type": "code",
   "execution_count": 15,
   "id": "813fba1c",
   "metadata": {},
   "outputs": [
    {
     "name": "stdout",
     "output_type": "stream",
     "text": [
      "0      1.4\n",
      "1      1.4\n",
      "2      1.3\n",
      "3      1.5\n",
      "4      1.4\n",
      "      ... \n",
      "145    5.2\n",
      "146    5.0\n",
      "147    5.2\n",
      "148    5.4\n",
      "149    5.1\n",
      "Name: petal length (cm), Length: 150, dtype: float64\n"
     ]
    }
   ],
   "source": [
    "print(data_iris['petal length (cm)'])\n",
    "#menampilkan isi dari kolom yang berjudul petal length (cm)"
   ]
  },
  {
   "cell_type": "code",
   "execution_count": 16,
   "id": "c05ba9ab",
   "metadata": {},
   "outputs": [
    {
     "name": "stdout",
     "output_type": "stream",
     "text": [
      "0      0.2\n",
      "1      0.2\n",
      "2      0.2\n",
      "3      0.2\n",
      "4      0.2\n",
      "      ... \n",
      "145    2.3\n",
      "146    1.9\n",
      "147    2.0\n",
      "148    2.3\n",
      "149    1.8\n",
      "Name: petal width (cm), Length: 150, dtype: float64\n"
     ]
    }
   ],
   "source": [
    "print(data_iris['petal width (cm)'])\n",
    "#menampilkan isi dari kolom yang berjudul petal width (cm)"
   ]
  },
  {
   "cell_type": "code",
   "execution_count": 17,
   "id": "c6fb9ad2",
   "metadata": {},
   "outputs": [
    {
     "name": "stdout",
     "output_type": "stream",
     "text": [
      "1    4.9\n",
      "2    4.7\n",
      "3    4.6\n",
      "4    5.0\n",
      "Name: sepal length (cm), dtype: float64\n"
     ]
    }
   ],
   "source": [
    "print(data_iris['sepal length (cm)'][1:5])\n",
    "#untuk menampilkan isi dari sepal lenght (cm) indeks 1:5 \n",
    "#berarti baris 1 setelah judul sepal lenght (cm) tidak ikut, hitung dari baris 2-5\n",
    "#karena baris 1 setelah judul kolom indeksnya adalah 0, jadi baris ke-2 indeksnya adalah 1"
   ]
  },
  {
   "cell_type": "code",
   "execution_count": 18,
   "id": "583a6a52",
   "metadata": {},
   "outputs": [
    {
     "name": "stdout",
     "output_type": "stream",
     "text": [
      "2    4.7\n",
      "3    4.6\n",
      "4    5.0\n",
      "Name: sepal length (cm), dtype: float64\n"
     ]
    }
   ],
   "source": [
    "print(data_iris['sepal length (cm)'][2:5])\n",
    "#untuk menampilkan isi dari sepal lenght (cm) indeks 2:5\n",
    "#baris 1 dan 2 pada sepal lenght (cm) tidak ikut, hitung dari baris 3-5, jadi baris 3 indeksnya adalah 2"
   ]
  },
  {
   "cell_type": "code",
   "execution_count": 19,
   "id": "773190a1",
   "metadata": {},
   "outputs": [
    {
     "name": "stdout",
     "output_type": "stream",
     "text": [
      "3    1.5\n",
      "4    1.4\n",
      "5    1.7\n",
      "Name: petal length (cm), dtype: float64\n"
     ]
    }
   ],
   "source": [
    "print(data_iris['petal length (cm)'][3:6])\n",
    "#untuk menampilkan isi dari petal lenght (cm) indeks 3:6\n",
    "#baris 1,2,3 pada petal lenght (cm) tidak ikut, hitung dari baris 4-6, jadi baris ke-4 indeksnya adalah 3"
   ]
  },
  {
   "cell_type": "code",
   "execution_count": 20,
   "id": "7541fed0",
   "metadata": {},
   "outputs": [
    {
     "name": "stdout",
     "output_type": "stream",
     "text": [
      "4    1.4\n",
      "5    1.7\n",
      "6    1.4\n",
      "7    1.5\n",
      "8    1.4\n",
      "9    1.5\n",
      "Name: petal length (cm), dtype: float64\n"
     ]
    }
   ],
   "source": [
    "print(data_iris['petal length (cm)'][4:10])\n",
    "#untuk menampilkan isi dari sepal lenght (cm) indeks 4:10\n",
    "#baris 1,2,3,4 pada petal lenght (cm) tidak ikut, hitung dari baris 5-10, jadi baris ke-5 indeksnya adalah 4"
   ]
  },
  {
   "cell_type": "code",
   "execution_count": 21,
   "id": "9db35067",
   "metadata": {},
   "outputs": [
    {
     "name": "stdout",
     "output_type": "stream",
     "text": [
      "   sepal length (cm)  sepal width (cm)\n",
      "1                4.9               3.0\n",
      "2                4.7               3.2\n",
      "3                4.6               3.1\n",
      "4                5.0               3.6\n"
     ]
    }
   ],
   "source": [
    "print(data_iris[['sepal length (cm)','sepal width (cm)']][1:5])\n",
    "#digunakan jika ingin menampilkan lebih dari 1 misalnya kita ingin menampilkan isi dari sepal length dan sepal width\n",
    "#kita juga bisa menentukan data yang ingin ditampilkan dengan menggunakan indeks dari data tersebut\n",
    "#program ini menampilkan isi dari sepal length (cm) dan sepal width (cm) dengan indeks 1:5"
   ]
  },
  {
   "cell_type": "code",
   "execution_count": 22,
   "id": "25aa8758",
   "metadata": {},
   "outputs": [
    {
     "name": "stdout",
     "output_type": "stream",
     "text": [
      "   petal length (cm)  petal width (cm)\n",
      "2                1.3               0.2\n",
      "3                1.5               0.2\n",
      "4                1.4               0.2\n",
      "5                1.7               0.4\n",
      "6                1.4               0.3\n"
     ]
    }
   ],
   "source": [
    "print(data_iris[['petal length (cm)','petal width (cm)']][2:7])\n",
    "#menampilkan isi dari petal length (cm) dan sepal width (cm) dengan indeks 2:7"
   ]
  },
  {
   "cell_type": "code",
   "execution_count": 23,
   "id": "1b571e84",
   "metadata": {},
   "outputs": [
    {
     "name": "stdout",
     "output_type": "stream",
     "text": [
      "sepal length (cm)    4.9\n",
      "sepal width (cm)     3.0\n",
      "petal length (cm)    1.4\n",
      "petal width (cm)     0.2\n",
      "Name: 1, dtype: float64\n"
     ]
    }
   ],
   "source": [
    "print(data_iris.iloc[1])\n",
    "#iloc adalah kependekan dari index location. seperti arti dari iloc, iloc digunakan untuk menyeleksi data dengan konsep indeks \n",
    "#pada program ini artinya mencetak baris kedua (indeks 1) pada data_iris"
   ]
  },
  {
   "cell_type": "code",
   "execution_count": 24,
   "id": "c0805ea9",
   "metadata": {},
   "outputs": [
    {
     "name": "stdout",
     "output_type": "stream",
     "text": [
      "sepal length (cm)    4.7\n",
      "sepal width (cm)     3.2\n",
      "petal length (cm)    1.3\n",
      "petal width (cm)     0.2\n",
      "Name: 2, dtype: float64\n"
     ]
    }
   ],
   "source": [
    "print(data_iris.iloc[2])\n",
    "#program ini artinya mencetak baris ketiga (indeks 2) pada data_iris"
   ]
  },
  {
   "cell_type": "code",
   "execution_count": 25,
   "id": "55639b98",
   "metadata": {},
   "outputs": [
    {
     "name": "stdout",
     "output_type": "stream",
     "text": [
      "   sepal length (cm)  sepal width (cm)  petal length (cm)  petal width (cm)\n",
      "1                4.9               3.0                1.4               0.2\n",
      "2                4.7               3.2                1.3               0.2\n",
      "3                4.6               3.1                1.5               0.2\n",
      "4                5.0               3.6                1.4               0.2\n"
     ]
    }
   ],
   "source": [
    "print(data_iris.iloc[1:5])\n",
    "#program ini artinya mencetak baris kedua sampai kelima pada data_iris"
   ]
  },
  {
   "cell_type": "code",
   "execution_count": 26,
   "id": "7c1409d7",
   "metadata": {},
   "outputs": [
    {
     "name": "stdout",
     "output_type": "stream",
     "text": [
      "   sepal length (cm)  sepal width (cm)  petal length (cm)  petal width (cm)\n",
      "2                4.7               3.2                1.3               0.2\n",
      "3                4.6               3.1                1.5               0.2\n",
      "4                5.0               3.6                1.4               0.2\n",
      "5                5.4               3.9                1.7               0.4\n"
     ]
    }
   ],
   "source": [
    "print(data_iris.iloc[2:6])\n",
    "##program ini artinya mencetak baris ketiga sampai keenam pada data_iris"
   ]
  },
  {
   "cell_type": "code",
   "execution_count": 27,
   "id": "e52758d7",
   "metadata": {},
   "outputs": [
    {
     "name": "stdout",
     "output_type": "stream",
     "text": [
      "Empty DataFrame\n",
      "Columns: [sepal length (cm), sepal width (cm), petal length (cm), petal width (cm)]\n",
      "Index: []\n"
     ]
    }
   ],
   "source": [
    "print(data_iris.loc[data_iris['sepal length (cm)']=='5.1'])\n",
    "#loc adalah kependekan dari location, sesuai dengan namanya loc digunakan hanya untuk menyeleksi data di lokasi tertentu saja\n",
    "#loc hampir sama seperti iloc, bedanya loc tidak memakai indeks\n",
    "#loc digunakan untuk memilih baris yang memenuhi kriteria yang diberikan dalam tanda kurung siku. \n",
    "#Pada kasus ini, kita memilih baris dengan nilai kolom 'sepal length (cm)' yang sama dengan '5.1'"
   ]
  },
  {
   "cell_type": "code",
   "execution_count": 28,
   "id": "20c947c8",
   "metadata": {},
   "outputs": [
    {
     "name": "stdout",
     "output_type": "stream",
     "text": [
      "Empty DataFrame\n",
      "Columns: [sepal length (cm), sepal width (cm), petal length (cm), petal width (cm)]\n",
      "Index: []\n"
     ]
    }
   ],
   "source": [
    "print(data_iris.loc[data_iris['petal width (cm)']=='2.4'])\n",
    "#Pada kasus ini, kita memilih baris dengan nilai kolom 'petal width (cm)' yang sama dengan '2.4'"
   ]
  },
  {
   "cell_type": "code",
   "execution_count": 29,
   "id": "4ec5b0ed",
   "metadata": {},
   "outputs": [
    {
     "data": {
      "text/html": [
       "<div>\n",
       "<style scoped>\n",
       "    .dataframe tbody tr th:only-of-type {\n",
       "        vertical-align: middle;\n",
       "    }\n",
       "\n",
       "    .dataframe tbody tr th {\n",
       "        vertical-align: top;\n",
       "    }\n",
       "\n",
       "    .dataframe thead th {\n",
       "        text-align: right;\n",
       "    }\n",
       "</style>\n",
       "<table border=\"1\" class=\"dataframe\">\n",
       "  <thead>\n",
       "    <tr style=\"text-align: right;\">\n",
       "      <th></th>\n",
       "      <th>sepal width (cm)</th>\n",
       "      <th>petal length (cm)</th>\n",
       "      <th>petal width (cm)</th>\n",
       "    </tr>\n",
       "  </thead>\n",
       "  <tbody>\n",
       "    <tr>\n",
       "      <th>1</th>\n",
       "      <td>3.0</td>\n",
       "      <td>1.4</td>\n",
       "      <td>0.2</td>\n",
       "    </tr>\n",
       "    <tr>\n",
       "      <th>2</th>\n",
       "      <td>3.2</td>\n",
       "      <td>1.3</td>\n",
       "      <td>0.2</td>\n",
       "    </tr>\n",
       "    <tr>\n",
       "      <th>3</th>\n",
       "      <td>3.1</td>\n",
       "      <td>1.5</td>\n",
       "      <td>0.2</td>\n",
       "    </tr>\n",
       "  </tbody>\n",
       "</table>\n",
       "</div>"
      ],
      "text/plain": [
       "   sepal width (cm)  petal length (cm)  petal width (cm)\n",
       "1               3.0                1.4               0.2\n",
       "2               3.2                1.3               0.2\n",
       "3               3.1                1.5               0.2"
      ]
     },
     "execution_count": 29,
     "metadata": {},
     "output_type": "execute_result"
    }
   ],
   "source": [
    "data_iris.iloc[1:4,1:5]\n",
    "#Pada kasus ini, kita memilih baris ke-2 sampai ke-4 (1:4) dan kolom ke-2 sampai ke-5 (1:5), \n",
    "#maka kolom yang terpilih adalah 'sepal width (cm)', 'petal length (cm)', dan 'petal width (cm)'.\n",
    "#karena hanya ada 4 kolom bukan 5, maka untuk kasus ini kolom yang ditampilkan dari kolom 2-4."
   ]
  },
  {
   "cell_type": "code",
   "execution_count": 30,
   "id": "6245959e",
   "metadata": {},
   "outputs": [
    {
     "data": {
      "text/html": [
       "<div>\n",
       "<style scoped>\n",
       "    .dataframe tbody tr th:only-of-type {\n",
       "        vertical-align: middle;\n",
       "    }\n",
       "\n",
       "    .dataframe tbody tr th {\n",
       "        vertical-align: top;\n",
       "    }\n",
       "\n",
       "    .dataframe thead th {\n",
       "        text-align: right;\n",
       "    }\n",
       "</style>\n",
       "<table border=\"1\" class=\"dataframe\">\n",
       "  <thead>\n",
       "    <tr style=\"text-align: right;\">\n",
       "      <th></th>\n",
       "      <th>sepal length (cm)</th>\n",
       "      <th>sepal width (cm)</th>\n",
       "      <th>petal length (cm)</th>\n",
       "      <th>petal width (cm)</th>\n",
       "    </tr>\n",
       "  </thead>\n",
       "  <tbody>\n",
       "    <tr>\n",
       "      <th>1</th>\n",
       "      <td>4.9</td>\n",
       "      <td>3.0</td>\n",
       "      <td>1.4</td>\n",
       "      <td>0.2</td>\n",
       "    </tr>\n",
       "    <tr>\n",
       "      <th>2</th>\n",
       "      <td>4.7</td>\n",
       "      <td>3.2</td>\n",
       "      <td>1.3</td>\n",
       "      <td>0.2</td>\n",
       "    </tr>\n",
       "    <tr>\n",
       "      <th>3</th>\n",
       "      <td>4.6</td>\n",
       "      <td>3.1</td>\n",
       "      <td>1.5</td>\n",
       "      <td>0.2</td>\n",
       "    </tr>\n",
       "  </tbody>\n",
       "</table>\n",
       "</div>"
      ],
      "text/plain": [
       "   sepal length (cm)  sepal width (cm)  petal length (cm)  petal width (cm)\n",
       "1                4.9               3.0                1.4               0.2\n",
       "2                4.7               3.2                1.3               0.2\n",
       "3                4.6               3.1                1.5               0.2"
      ]
     },
     "execution_count": 30,
     "metadata": {},
     "output_type": "execute_result"
    }
   ],
   "source": [
    "data_iris.iloc[1:4]\n",
    "#karena iloc[] digunakan untuk memilih baris dan kolom dengan mengacu pada indeks numeriknya\n",
    "#maka program ini berarti menampilkan baris ke-2 hingga ke-4 (1:4) pada data_iris"
   ]
  },
  {
   "cell_type": "code",
   "execution_count": 31,
   "id": "28807a3f",
   "metadata": {
    "scrolled": true
   },
   "outputs": [
    {
     "data": {
      "text/html": [
       "<div>\n",
       "<style scoped>\n",
       "    .dataframe tbody tr th:only-of-type {\n",
       "        vertical-align: middle;\n",
       "    }\n",
       "\n",
       "    .dataframe tbody tr th {\n",
       "        vertical-align: top;\n",
       "    }\n",
       "\n",
       "    .dataframe thead th {\n",
       "        text-align: right;\n",
       "    }\n",
       "</style>\n",
       "<table border=\"1\" class=\"dataframe\">\n",
       "  <thead>\n",
       "    <tr style=\"text-align: right;\">\n",
       "      <th></th>\n",
       "      <th>petal length (cm)</th>\n",
       "      <th>petal width (cm)</th>\n",
       "    </tr>\n",
       "  </thead>\n",
       "  <tbody>\n",
       "    <tr>\n",
       "      <th>2</th>\n",
       "      <td>1.3</td>\n",
       "      <td>0.2</td>\n",
       "    </tr>\n",
       "    <tr>\n",
       "      <th>3</th>\n",
       "      <td>1.5</td>\n",
       "      <td>0.2</td>\n",
       "    </tr>\n",
       "  </tbody>\n",
       "</table>\n",
       "</div>"
      ],
      "text/plain": [
       "   petal length (cm)  petal width (cm)\n",
       "2                1.3               0.2\n",
       "3                1.5               0.2"
      ]
     },
     "execution_count": 31,
     "metadata": {},
     "output_type": "execute_result"
    }
   ],
   "source": [
    "data_iris.iloc[2:4,2:5]\n",
    "#program ini berarti menampilkan baris ke-3 sampai ke-4 dan \n",
    "#kolom ke-3 sampai ke-5 (karena tidak ada kolom 5, jadi yang ditampilkan sampai kolom 4 saja)"
   ]
  },
  {
   "cell_type": "code",
   "execution_count": 32,
   "id": "6d249496",
   "metadata": {},
   "outputs": [
    {
     "data": {
      "text/html": [
       "<div>\n",
       "<style scoped>\n",
       "    .dataframe tbody tr th:only-of-type {\n",
       "        vertical-align: middle;\n",
       "    }\n",
       "\n",
       "    .dataframe tbody tr th {\n",
       "        vertical-align: top;\n",
       "    }\n",
       "\n",
       "    .dataframe thead th {\n",
       "        text-align: right;\n",
       "    }\n",
       "</style>\n",
       "<table border=\"1\" class=\"dataframe\">\n",
       "  <thead>\n",
       "    <tr style=\"text-align: right;\">\n",
       "      <th></th>\n",
       "      <th>petal length (cm)</th>\n",
       "      <th>petal width (cm)</th>\n",
       "    </tr>\n",
       "  </thead>\n",
       "  <tbody>\n",
       "    <tr>\n",
       "      <th>2</th>\n",
       "      <td>1.3</td>\n",
       "      <td>0.2</td>\n",
       "    </tr>\n",
       "  </tbody>\n",
       "</table>\n",
       "</div>"
      ],
      "text/plain": [
       "   petal length (cm)  petal width (cm)\n",
       "2                1.3               0.2"
      ]
     },
     "execution_count": 32,
     "metadata": {},
     "output_type": "execute_result"
    }
   ],
   "source": [
    "data_iris.iloc[2:3,2:5]\n",
    "#program ini berarti menampilkan baris ke-3 sampai ke-3 atau dengan kata lain hanya baris ke-3 dan \n",
    "#kolom ke-3 sampai ke-5 (karena tidak ada kolom 5, jadi yang ditampilkan sampai kolom 4 saja)"
   ]
  },
  {
   "cell_type": "markdown",
   "id": "86f2678d",
   "metadata": {},
   "source": [
    "# 5.21.3 Mengurutkan Data pada Pandas\n",
    "#### Suatu data bisa berupa data angka ataupun data string. Jika data berupa angka, maka akan diurutkan mulai dari yang terkecil sampai terbesar atau sebaliknya. Jika data berupa string, maka akan diurutkan berdasarkan urutan abjad."
   ]
  },
  {
   "cell_type": "code",
   "execution_count": 33,
   "id": "9c46e2ec",
   "metadata": {},
   "outputs": [],
   "source": [
    "#Untuk mengurutkan data, kita menggunakan perintah sort\n",
    "#Terdapat beberapa perintah sort yaitu sort_values() dan sort_index()\n",
    "#sort_values() digunakan untuk mengurutkan nilai dalam data di sepanjang kolom ataupun baris. \n",
    "#Tetapi, biasanya data diurutkan berdasarkan nilai dari satu atau beberapa kolom\n",
    "#sort_index() digunakan untuk mengurutkan data berdasarkan indeks baris atau label/nama kolomnya."
   ]
  },
  {
   "cell_type": "code",
   "execution_count": 34,
   "id": "c41ccf05",
   "metadata": {},
   "outputs": [
    {
     "data": {
      "text/html": [
       "<div>\n",
       "<style scoped>\n",
       "    .dataframe tbody tr th:only-of-type {\n",
       "        vertical-align: middle;\n",
       "    }\n",
       "\n",
       "    .dataframe tbody tr th {\n",
       "        vertical-align: top;\n",
       "    }\n",
       "\n",
       "    .dataframe thead th {\n",
       "        text-align: right;\n",
       "    }\n",
       "</style>\n",
       "<table border=\"1\" class=\"dataframe\">\n",
       "  <thead>\n",
       "    <tr style=\"text-align: right;\">\n",
       "      <th></th>\n",
       "      <th>sepal length (cm)</th>\n",
       "      <th>sepal width (cm)</th>\n",
       "      <th>petal length (cm)</th>\n",
       "      <th>petal width (cm)</th>\n",
       "    </tr>\n",
       "  </thead>\n",
       "  <tbody>\n",
       "    <tr>\n",
       "      <th>60</th>\n",
       "      <td>5.0</td>\n",
       "      <td>2.0</td>\n",
       "      <td>3.5</td>\n",
       "      <td>1.0</td>\n",
       "    </tr>\n",
       "    <tr>\n",
       "      <th>62</th>\n",
       "      <td>6.0</td>\n",
       "      <td>2.2</td>\n",
       "      <td>4.0</td>\n",
       "      <td>1.0</td>\n",
       "    </tr>\n",
       "    <tr>\n",
       "      <th>119</th>\n",
       "      <td>6.0</td>\n",
       "      <td>2.2</td>\n",
       "      <td>5.0</td>\n",
       "      <td>1.5</td>\n",
       "    </tr>\n",
       "    <tr>\n",
       "      <th>68</th>\n",
       "      <td>6.2</td>\n",
       "      <td>2.2</td>\n",
       "      <td>4.5</td>\n",
       "      <td>1.5</td>\n",
       "    </tr>\n",
       "    <tr>\n",
       "      <th>41</th>\n",
       "      <td>4.5</td>\n",
       "      <td>2.3</td>\n",
       "      <td>1.3</td>\n",
       "      <td>0.3</td>\n",
       "    </tr>\n",
       "    <tr>\n",
       "      <th>...</th>\n",
       "      <td>...</td>\n",
       "      <td>...</td>\n",
       "      <td>...</td>\n",
       "      <td>...</td>\n",
       "    </tr>\n",
       "    <tr>\n",
       "      <th>16</th>\n",
       "      <td>5.4</td>\n",
       "      <td>3.9</td>\n",
       "      <td>1.3</td>\n",
       "      <td>0.4</td>\n",
       "    </tr>\n",
       "    <tr>\n",
       "      <th>14</th>\n",
       "      <td>5.8</td>\n",
       "      <td>4.0</td>\n",
       "      <td>1.2</td>\n",
       "      <td>0.2</td>\n",
       "    </tr>\n",
       "    <tr>\n",
       "      <th>32</th>\n",
       "      <td>5.2</td>\n",
       "      <td>4.1</td>\n",
       "      <td>1.5</td>\n",
       "      <td>0.1</td>\n",
       "    </tr>\n",
       "    <tr>\n",
       "      <th>33</th>\n",
       "      <td>5.5</td>\n",
       "      <td>4.2</td>\n",
       "      <td>1.4</td>\n",
       "      <td>0.2</td>\n",
       "    </tr>\n",
       "    <tr>\n",
       "      <th>15</th>\n",
       "      <td>5.7</td>\n",
       "      <td>4.4</td>\n",
       "      <td>1.5</td>\n",
       "      <td>0.4</td>\n",
       "    </tr>\n",
       "  </tbody>\n",
       "</table>\n",
       "<p>150 rows × 4 columns</p>\n",
       "</div>"
      ],
      "text/plain": [
       "     sepal length (cm)  sepal width (cm)  petal length (cm)  petal width (cm)\n",
       "60                 5.0               2.0                3.5               1.0\n",
       "62                 6.0               2.2                4.0               1.0\n",
       "119                6.0               2.2                5.0               1.5\n",
       "68                 6.2               2.2                4.5               1.5\n",
       "41                 4.5               2.3                1.3               0.3\n",
       "..                 ...               ...                ...               ...\n",
       "16                 5.4               3.9                1.3               0.4\n",
       "14                 5.8               4.0                1.2               0.2\n",
       "32                 5.2               4.1                1.5               0.1\n",
       "33                 5.5               4.2                1.4               0.2\n",
       "15                 5.7               4.4                1.5               0.4\n",
       "\n",
       "[150 rows x 4 columns]"
      ]
     },
     "execution_count": 34,
     "metadata": {},
     "output_type": "execute_result"
    }
   ],
   "source": [
    "data_iris.sort_values('sepal width (cm)')"
   ]
  },
  {
   "cell_type": "code",
   "execution_count": 35,
   "id": "c999045b",
   "metadata": {},
   "outputs": [
    {
     "data": {
      "text/html": [
       "<div>\n",
       "<style scoped>\n",
       "    .dataframe tbody tr th:only-of-type {\n",
       "        vertical-align: middle;\n",
       "    }\n",
       "\n",
       "    .dataframe tbody tr th {\n",
       "        vertical-align: top;\n",
       "    }\n",
       "\n",
       "    .dataframe thead th {\n",
       "        text-align: right;\n",
       "    }\n",
       "</style>\n",
       "<table border=\"1\" class=\"dataframe\">\n",
       "  <thead>\n",
       "    <tr style=\"text-align: right;\">\n",
       "      <th></th>\n",
       "      <th>sepal length (cm)</th>\n",
       "      <th>sepal width (cm)</th>\n",
       "      <th>petal length (cm)</th>\n",
       "      <th>petal width (cm)</th>\n",
       "    </tr>\n",
       "  </thead>\n",
       "  <tbody>\n",
       "    <tr>\n",
       "      <th>15</th>\n",
       "      <td>5.7</td>\n",
       "      <td>4.4</td>\n",
       "      <td>1.5</td>\n",
       "      <td>0.4</td>\n",
       "    </tr>\n",
       "    <tr>\n",
       "      <th>33</th>\n",
       "      <td>5.5</td>\n",
       "      <td>4.2</td>\n",
       "      <td>1.4</td>\n",
       "      <td>0.2</td>\n",
       "    </tr>\n",
       "    <tr>\n",
       "      <th>32</th>\n",
       "      <td>5.2</td>\n",
       "      <td>4.1</td>\n",
       "      <td>1.5</td>\n",
       "      <td>0.1</td>\n",
       "    </tr>\n",
       "    <tr>\n",
       "      <th>14</th>\n",
       "      <td>5.8</td>\n",
       "      <td>4.0</td>\n",
       "      <td>1.2</td>\n",
       "      <td>0.2</td>\n",
       "    </tr>\n",
       "    <tr>\n",
       "      <th>16</th>\n",
       "      <td>5.4</td>\n",
       "      <td>3.9</td>\n",
       "      <td>1.3</td>\n",
       "      <td>0.4</td>\n",
       "    </tr>\n",
       "    <tr>\n",
       "      <th>...</th>\n",
       "      <td>...</td>\n",
       "      <td>...</td>\n",
       "      <td>...</td>\n",
       "      <td>...</td>\n",
       "    </tr>\n",
       "    <tr>\n",
       "      <th>87</th>\n",
       "      <td>6.3</td>\n",
       "      <td>2.3</td>\n",
       "      <td>4.4</td>\n",
       "      <td>1.3</td>\n",
       "    </tr>\n",
       "    <tr>\n",
       "      <th>62</th>\n",
       "      <td>6.0</td>\n",
       "      <td>2.2</td>\n",
       "      <td>4.0</td>\n",
       "      <td>1.0</td>\n",
       "    </tr>\n",
       "    <tr>\n",
       "      <th>68</th>\n",
       "      <td>6.2</td>\n",
       "      <td>2.2</td>\n",
       "      <td>4.5</td>\n",
       "      <td>1.5</td>\n",
       "    </tr>\n",
       "    <tr>\n",
       "      <th>119</th>\n",
       "      <td>6.0</td>\n",
       "      <td>2.2</td>\n",
       "      <td>5.0</td>\n",
       "      <td>1.5</td>\n",
       "    </tr>\n",
       "    <tr>\n",
       "      <th>60</th>\n",
       "      <td>5.0</td>\n",
       "      <td>2.0</td>\n",
       "      <td>3.5</td>\n",
       "      <td>1.0</td>\n",
       "    </tr>\n",
       "  </tbody>\n",
       "</table>\n",
       "<p>150 rows × 4 columns</p>\n",
       "</div>"
      ],
      "text/plain": [
       "     sepal length (cm)  sepal width (cm)  petal length (cm)  petal width (cm)\n",
       "15                 5.7               4.4                1.5               0.4\n",
       "33                 5.5               4.2                1.4               0.2\n",
       "32                 5.2               4.1                1.5               0.1\n",
       "14                 5.8               4.0                1.2               0.2\n",
       "16                 5.4               3.9                1.3               0.4\n",
       "..                 ...               ...                ...               ...\n",
       "87                 6.3               2.3                4.4               1.3\n",
       "62                 6.0               2.2                4.0               1.0\n",
       "68                 6.2               2.2                4.5               1.5\n",
       "119                6.0               2.2                5.0               1.5\n",
       "60                 5.0               2.0                3.5               1.0\n",
       "\n",
       "[150 rows x 4 columns]"
      ]
     },
     "execution_count": 35,
     "metadata": {},
     "output_type": "execute_result"
    }
   ],
   "source": [
    "data_iris.sort_values('sepal width (cm)', ascending=False)\n",
    "#secara default, perintah sort akan mengurutkan data dari yang terkecil hingga terbesar \n",
    "#atau dengan kata lain ascending bernilai True\n",
    "#jika ingin mengurutkan data dari yang terbesar hingga terkecil, kita dapat mengubah ascending menjadi False."
   ]
  },
  {
   "cell_type": "code",
   "execution_count": 36,
   "id": "781a4225",
   "metadata": {},
   "outputs": [
    {
     "data": {
      "text/html": [
       "<div>\n",
       "<style scoped>\n",
       "    .dataframe tbody tr th:only-of-type {\n",
       "        vertical-align: middle;\n",
       "    }\n",
       "\n",
       "    .dataframe tbody tr th {\n",
       "        vertical-align: top;\n",
       "    }\n",
       "\n",
       "    .dataframe thead th {\n",
       "        text-align: right;\n",
       "    }\n",
       "</style>\n",
       "<table border=\"1\" class=\"dataframe\">\n",
       "  <thead>\n",
       "    <tr style=\"text-align: right;\">\n",
       "      <th></th>\n",
       "      <th>sepal length (cm)</th>\n",
       "      <th>sepal width (cm)</th>\n",
       "      <th>petal length (cm)</th>\n",
       "      <th>petal width (cm)</th>\n",
       "    </tr>\n",
       "  </thead>\n",
       "  <tbody>\n",
       "    <tr>\n",
       "      <th>13</th>\n",
       "      <td>4.3</td>\n",
       "      <td>3.0</td>\n",
       "      <td>1.1</td>\n",
       "      <td>0.1</td>\n",
       "    </tr>\n",
       "    <tr>\n",
       "      <th>38</th>\n",
       "      <td>4.4</td>\n",
       "      <td>3.0</td>\n",
       "      <td>1.3</td>\n",
       "      <td>0.2</td>\n",
       "    </tr>\n",
       "    <tr>\n",
       "      <th>42</th>\n",
       "      <td>4.4</td>\n",
       "      <td>3.2</td>\n",
       "      <td>1.3</td>\n",
       "      <td>0.2</td>\n",
       "    </tr>\n",
       "    <tr>\n",
       "      <th>8</th>\n",
       "      <td>4.4</td>\n",
       "      <td>2.9</td>\n",
       "      <td>1.4</td>\n",
       "      <td>0.2</td>\n",
       "    </tr>\n",
       "    <tr>\n",
       "      <th>41</th>\n",
       "      <td>4.5</td>\n",
       "      <td>2.3</td>\n",
       "      <td>1.3</td>\n",
       "      <td>0.3</td>\n",
       "    </tr>\n",
       "    <tr>\n",
       "      <th>...</th>\n",
       "      <td>...</td>\n",
       "      <td>...</td>\n",
       "      <td>...</td>\n",
       "      <td>...</td>\n",
       "    </tr>\n",
       "    <tr>\n",
       "      <th>135</th>\n",
       "      <td>7.7</td>\n",
       "      <td>3.0</td>\n",
       "      <td>6.1</td>\n",
       "      <td>2.3</td>\n",
       "    </tr>\n",
       "    <tr>\n",
       "      <th>117</th>\n",
       "      <td>7.7</td>\n",
       "      <td>3.8</td>\n",
       "      <td>6.7</td>\n",
       "      <td>2.2</td>\n",
       "    </tr>\n",
       "    <tr>\n",
       "      <th>122</th>\n",
       "      <td>7.7</td>\n",
       "      <td>2.8</td>\n",
       "      <td>6.7</td>\n",
       "      <td>2.0</td>\n",
       "    </tr>\n",
       "    <tr>\n",
       "      <th>118</th>\n",
       "      <td>7.7</td>\n",
       "      <td>2.6</td>\n",
       "      <td>6.9</td>\n",
       "      <td>2.3</td>\n",
       "    </tr>\n",
       "    <tr>\n",
       "      <th>131</th>\n",
       "      <td>7.9</td>\n",
       "      <td>3.8</td>\n",
       "      <td>6.4</td>\n",
       "      <td>2.0</td>\n",
       "    </tr>\n",
       "  </tbody>\n",
       "</table>\n",
       "<p>150 rows × 4 columns</p>\n",
       "</div>"
      ],
      "text/plain": [
       "     sepal length (cm)  sepal width (cm)  petal length (cm)  petal width (cm)\n",
       "13                 4.3               3.0                1.1               0.1\n",
       "38                 4.4               3.0                1.3               0.2\n",
       "42                 4.4               3.2                1.3               0.2\n",
       "8                  4.4               2.9                1.4               0.2\n",
       "41                 4.5               2.3                1.3               0.3\n",
       "..                 ...               ...                ...               ...\n",
       "135                7.7               3.0                6.1               2.3\n",
       "117                7.7               3.8                6.7               2.2\n",
       "122                7.7               2.8                6.7               2.0\n",
       "118                7.7               2.6                6.9               2.3\n",
       "131                7.9               3.8                6.4               2.0\n",
       "\n",
       "[150 rows x 4 columns]"
      ]
     },
     "execution_count": 36,
     "metadata": {},
     "output_type": "execute_result"
    }
   ],
   "source": [
    "#Sorting Mutiple Kolom\n",
    "#kita bisa lakukan sorting berdasarkan beberapa kolom dengan mengisi parameter kolom dalam list seperti program di bawah ini.\n",
    "data_iris.sort_values(['sepal length (cm)','petal length (cm)'])"
   ]
  },
  {
   "cell_type": "code",
   "execution_count": 37,
   "id": "603ea9ea",
   "metadata": {},
   "outputs": [
    {
     "data": {
      "text/html": [
       "<div>\n",
       "<style scoped>\n",
       "    .dataframe tbody tr th:only-of-type {\n",
       "        vertical-align: middle;\n",
       "    }\n",
       "\n",
       "    .dataframe tbody tr th {\n",
       "        vertical-align: top;\n",
       "    }\n",
       "\n",
       "    .dataframe thead th {\n",
       "        text-align: right;\n",
       "    }\n",
       "</style>\n",
       "<table border=\"1\" class=\"dataframe\">\n",
       "  <thead>\n",
       "    <tr style=\"text-align: right;\">\n",
       "      <th></th>\n",
       "      <th>sepal length (cm)</th>\n",
       "      <th>sepal width (cm)</th>\n",
       "      <th>petal length (cm)</th>\n",
       "      <th>petal width (cm)</th>\n",
       "    </tr>\n",
       "  </thead>\n",
       "  <tbody>\n",
       "    <tr>\n",
       "      <th>0</th>\n",
       "      <td>5.1</td>\n",
       "      <td>3.5</td>\n",
       "      <td>1.4</td>\n",
       "      <td>0.2</td>\n",
       "    </tr>\n",
       "    <tr>\n",
       "      <th>1</th>\n",
       "      <td>4.9</td>\n",
       "      <td>3.0</td>\n",
       "      <td>1.4</td>\n",
       "      <td>0.2</td>\n",
       "    </tr>\n",
       "    <tr>\n",
       "      <th>2</th>\n",
       "      <td>4.7</td>\n",
       "      <td>3.2</td>\n",
       "      <td>1.3</td>\n",
       "      <td>0.2</td>\n",
       "    </tr>\n",
       "    <tr>\n",
       "      <th>3</th>\n",
       "      <td>4.6</td>\n",
       "      <td>3.1</td>\n",
       "      <td>1.5</td>\n",
       "      <td>0.2</td>\n",
       "    </tr>\n",
       "    <tr>\n",
       "      <th>4</th>\n",
       "      <td>5.0</td>\n",
       "      <td>3.6</td>\n",
       "      <td>1.4</td>\n",
       "      <td>0.2</td>\n",
       "    </tr>\n",
       "    <tr>\n",
       "      <th>...</th>\n",
       "      <td>...</td>\n",
       "      <td>...</td>\n",
       "      <td>...</td>\n",
       "      <td>...</td>\n",
       "    </tr>\n",
       "    <tr>\n",
       "      <th>145</th>\n",
       "      <td>6.7</td>\n",
       "      <td>3.0</td>\n",
       "      <td>5.2</td>\n",
       "      <td>2.3</td>\n",
       "    </tr>\n",
       "    <tr>\n",
       "      <th>146</th>\n",
       "      <td>6.3</td>\n",
       "      <td>2.5</td>\n",
       "      <td>5.0</td>\n",
       "      <td>1.9</td>\n",
       "    </tr>\n",
       "    <tr>\n",
       "      <th>147</th>\n",
       "      <td>6.5</td>\n",
       "      <td>3.0</td>\n",
       "      <td>5.2</td>\n",
       "      <td>2.0</td>\n",
       "    </tr>\n",
       "    <tr>\n",
       "      <th>148</th>\n",
       "      <td>6.2</td>\n",
       "      <td>3.4</td>\n",
       "      <td>5.4</td>\n",
       "      <td>2.3</td>\n",
       "    </tr>\n",
       "    <tr>\n",
       "      <th>149</th>\n",
       "      <td>5.9</td>\n",
       "      <td>3.0</td>\n",
       "      <td>5.1</td>\n",
       "      <td>1.8</td>\n",
       "    </tr>\n",
       "  </tbody>\n",
       "</table>\n",
       "<p>150 rows × 4 columns</p>\n",
       "</div>"
      ],
      "text/plain": [
       "     sepal length (cm)  sepal width (cm)  petal length (cm)  petal width (cm)\n",
       "0                  5.1               3.5                1.4               0.2\n",
       "1                  4.9               3.0                1.4               0.2\n",
       "2                  4.7               3.2                1.3               0.2\n",
       "3                  4.6               3.1                1.5               0.2\n",
       "4                  5.0               3.6                1.4               0.2\n",
       "..                 ...               ...                ...               ...\n",
       "145                6.7               3.0                5.2               2.3\n",
       "146                6.3               2.5                5.0               1.9\n",
       "147                6.5               3.0                5.2               2.0\n",
       "148                6.2               3.4                5.4               2.3\n",
       "149                5.9               3.0                5.1               1.8\n",
       "\n",
       "[150 rows x 4 columns]"
      ]
     },
     "execution_count": 37,
     "metadata": {},
     "output_type": "execute_result"
    }
   ],
   "source": [
    "data_iris.sort_index(axis=0)\n",
    "#program ini artinya akan mengurutkan baris-baris data_iris secara ascending berdasarkan indeks barisnya. \n",
    "#Axis 0 pada metode sort_index() digunakan untuk menentukan sumbu baris (row axis).\n",
    "#Secara default, pengurutan dilakukan secara ascending (dari nilai terkecil ke nilai terbesar). "
   ]
  },
  {
   "cell_type": "code",
   "execution_count": 38,
   "id": "f096884a",
   "metadata": {},
   "outputs": [
    {
     "data": {
      "text/html": [
       "<div>\n",
       "<style scoped>\n",
       "    .dataframe tbody tr th:only-of-type {\n",
       "        vertical-align: middle;\n",
       "    }\n",
       "\n",
       "    .dataframe tbody tr th {\n",
       "        vertical-align: top;\n",
       "    }\n",
       "\n",
       "    .dataframe thead th {\n",
       "        text-align: right;\n",
       "    }\n",
       "</style>\n",
       "<table border=\"1\" class=\"dataframe\">\n",
       "  <thead>\n",
       "    <tr style=\"text-align: right;\">\n",
       "      <th></th>\n",
       "      <th>sepal length (cm)</th>\n",
       "      <th>sepal width (cm)</th>\n",
       "      <th>petal length (cm)</th>\n",
       "      <th>petal width (cm)</th>\n",
       "    </tr>\n",
       "  </thead>\n",
       "  <tbody>\n",
       "    <tr>\n",
       "      <th>149</th>\n",
       "      <td>5.9</td>\n",
       "      <td>3.0</td>\n",
       "      <td>5.1</td>\n",
       "      <td>1.8</td>\n",
       "    </tr>\n",
       "    <tr>\n",
       "      <th>148</th>\n",
       "      <td>6.2</td>\n",
       "      <td>3.4</td>\n",
       "      <td>5.4</td>\n",
       "      <td>2.3</td>\n",
       "    </tr>\n",
       "    <tr>\n",
       "      <th>147</th>\n",
       "      <td>6.5</td>\n",
       "      <td>3.0</td>\n",
       "      <td>5.2</td>\n",
       "      <td>2.0</td>\n",
       "    </tr>\n",
       "    <tr>\n",
       "      <th>146</th>\n",
       "      <td>6.3</td>\n",
       "      <td>2.5</td>\n",
       "      <td>5.0</td>\n",
       "      <td>1.9</td>\n",
       "    </tr>\n",
       "    <tr>\n",
       "      <th>145</th>\n",
       "      <td>6.7</td>\n",
       "      <td>3.0</td>\n",
       "      <td>5.2</td>\n",
       "      <td>2.3</td>\n",
       "    </tr>\n",
       "    <tr>\n",
       "      <th>...</th>\n",
       "      <td>...</td>\n",
       "      <td>...</td>\n",
       "      <td>...</td>\n",
       "      <td>...</td>\n",
       "    </tr>\n",
       "    <tr>\n",
       "      <th>4</th>\n",
       "      <td>5.0</td>\n",
       "      <td>3.6</td>\n",
       "      <td>1.4</td>\n",
       "      <td>0.2</td>\n",
       "    </tr>\n",
       "    <tr>\n",
       "      <th>3</th>\n",
       "      <td>4.6</td>\n",
       "      <td>3.1</td>\n",
       "      <td>1.5</td>\n",
       "      <td>0.2</td>\n",
       "    </tr>\n",
       "    <tr>\n",
       "      <th>2</th>\n",
       "      <td>4.7</td>\n",
       "      <td>3.2</td>\n",
       "      <td>1.3</td>\n",
       "      <td>0.2</td>\n",
       "    </tr>\n",
       "    <tr>\n",
       "      <th>1</th>\n",
       "      <td>4.9</td>\n",
       "      <td>3.0</td>\n",
       "      <td>1.4</td>\n",
       "      <td>0.2</td>\n",
       "    </tr>\n",
       "    <tr>\n",
       "      <th>0</th>\n",
       "      <td>5.1</td>\n",
       "      <td>3.5</td>\n",
       "      <td>1.4</td>\n",
       "      <td>0.2</td>\n",
       "    </tr>\n",
       "  </tbody>\n",
       "</table>\n",
       "<p>150 rows × 4 columns</p>\n",
       "</div>"
      ],
      "text/plain": [
       "     sepal length (cm)  sepal width (cm)  petal length (cm)  petal width (cm)\n",
       "149                5.9               3.0                5.1               1.8\n",
       "148                6.2               3.4                5.4               2.3\n",
       "147                6.5               3.0                5.2               2.0\n",
       "146                6.3               2.5                5.0               1.9\n",
       "145                6.7               3.0                5.2               2.3\n",
       "..                 ...               ...                ...               ...\n",
       "4                  5.0               3.6                1.4               0.2\n",
       "3                  4.6               3.1                1.5               0.2\n",
       "2                  4.7               3.2                1.3               0.2\n",
       "1                  4.9               3.0                1.4               0.2\n",
       "0                  5.1               3.5                1.4               0.2\n",
       "\n",
       "[150 rows x 4 columns]"
      ]
     },
     "execution_count": 38,
     "metadata": {},
     "output_type": "execute_result"
    }
   ],
   "source": [
    "data_iris.sort_index(axis=0, ascending=False)\n",
    "#Jika kita ingin mengurutkan dari nilai terbesar ke nilai terkecil, \n",
    "#maka kita dapat menambahkan ascending=False seperti berikut:"
   ]
  },
  {
   "cell_type": "markdown",
   "id": "5ddc9492",
   "metadata": {},
   "source": [
    "# 5.21.4 Mengubah Data pada Pandas\n",
    "#### Kita dapat mengubah data sesuai dengan kebutuhan dengan program seperti berikut ini."
   ]
  },
  {
   "cell_type": "code",
   "execution_count": 39,
   "id": "35fd225c",
   "metadata": {},
   "outputs": [
    {
     "name": "stdout",
     "output_type": "stream",
     "text": [
      "     sepal length (cm)  sepal width (cm)  petal length (cm)  petal width (cm)  \\\n",
      "0                  5.1               3.5                1.4               0.2   \n",
      "1                  4.9               3.0                1.4               0.2   \n",
      "2                  4.7               3.2                1.3               0.2   \n",
      "3                  4.6               3.1                1.5               0.2   \n",
      "4                  5.0               3.6                1.4               0.2   \n",
      "..                 ...               ...                ...               ...   \n",
      "145                6.7               3.0                5.2               2.3   \n",
      "146                6.3               2.5                5.0               1.9   \n",
      "147                6.5               3.0                5.2               2.0   \n",
      "148                6.2               3.4                5.4               2.3   \n",
      "149                5.9               3.0                5.1               1.8   \n",
      "\n",
      "     sepal length + widht (cm)  \n",
      "0                          8.6  \n",
      "1                          7.9  \n",
      "2                          7.9  \n",
      "3                          7.7  \n",
      "4                          8.6  \n",
      "..                         ...  \n",
      "145                        9.7  \n",
      "146                        8.8  \n",
      "147                        9.5  \n",
      "148                        9.6  \n",
      "149                        8.9  \n",
      "\n",
      "[150 rows x 5 columns]\n"
     ]
    }
   ],
   "source": [
    "data_iris = pd.read_csv('bunga_iris.csv')\n",
    "data_iris['sepal length + widht (cm)']=data_iris['sepal length (cm)'] + data_iris['sepal width (cm)']\n",
    "print(data_iris)\n",
    "#proram ini artinya akan menambahkan sebuah kolom baru pada data_iris dengan nama 'sepal length + widht (cm)'. \n",
    "#Isi dari kolom ini adalah hasil penjumlahan antara kolom 'sepal length (cm)' dan 'sepal width (cm)'."
   ]
  },
  {
   "cell_type": "code",
   "execution_count": 40,
   "id": "eed68c80",
   "metadata": {},
   "outputs": [
    {
     "name": "stdout",
     "output_type": "stream",
     "text": [
      "     sepal length (cm)  sepal width (cm)  petal length (cm)  petal width (cm)\n",
      "0                  5.1               3.5                1.4               0.2\n",
      "1                  4.9               3.0                1.4               0.2\n",
      "2                  4.7               3.2                1.3               0.2\n",
      "3                  4.6               3.1                1.5               0.2\n",
      "4                  5.0               3.6                1.4               0.2\n",
      "..                 ...               ...                ...               ...\n",
      "145                6.7               3.0                5.2               2.3\n",
      "146                6.3               2.5                5.0               1.9\n",
      "147                6.5               3.0                5.2               2.0\n",
      "148                6.2               3.4                5.4               2.3\n",
      "149                5.9               3.0                5.1               1.8\n",
      "\n",
      "[150 rows x 4 columns]\n"
     ]
    }
   ],
   "source": [
    "data_iris = data_iris.drop(columns=['sepal length + widht (cm)'])\n",
    "print(data_iris)\n",
    "#drop digunakan untuk menghapus kolom dari 'sepal length + widht (cm)'."
   ]
  },
  {
   "cell_type": "code",
   "execution_count": 41,
   "id": "ff261dbb",
   "metadata": {},
   "outputs": [
    {
     "name": "stdout",
     "output_type": "stream",
     "text": [
      "     sepal length (cm)  sepal width (cm)  petal length (cm)  petal width (cm)  \\\n",
      "0                  5.1               3.5                1.4               0.2   \n",
      "1                  4.9               3.0                1.4               0.2   \n",
      "2                  4.7               3.2                1.3               0.2   \n",
      "3                  4.6               3.1                1.5               0.2   \n",
      "4                  5.0               3.6                1.4               0.2   \n",
      "..                 ...               ...                ...               ...   \n",
      "145                6.7               3.0                5.2               2.3   \n",
      "146                6.3               2.5                5.0               1.9   \n",
      "147                6.5               3.0                5.2               2.0   \n",
      "148                6.2               3.4                5.4               2.3   \n",
      "149                5.9               3.0                5.1               1.8   \n",
      "\n",
      "     petal length x widht  \n",
      "0                    0.28  \n",
      "1                    0.28  \n",
      "2                    0.26  \n",
      "3                    0.30  \n",
      "4                    0.28  \n",
      "..                    ...  \n",
      "145                 11.96  \n",
      "146                  9.50  \n",
      "147                 10.40  \n",
      "148                 12.42  \n",
      "149                  9.18  \n",
      "\n",
      "[150 rows x 5 columns]\n"
     ]
    }
   ],
   "source": [
    "data_iris['petal length x widht'] = data_iris['petal length (cm)'] * data_iris['petal width (cm)']\n",
    "print(data_iris)\n",
    "#program ini berarti menambahkan kolom baru 'petal length x width' ke dalam data_iris.\n",
    "#Nilai pada kolom ini dihitung dari hasil perkalian antara kolom 'petal length (cm)' dan 'petal width (cm)'"
   ]
  },
  {
   "cell_type": "code",
   "execution_count": 42,
   "id": "6f15984f",
   "metadata": {},
   "outputs": [
    {
     "name": "stdout",
     "output_type": "stream",
     "text": [
      "     sepal length (cm)  sepal width (cm)  petal length (cm)  petal width (cm)  \\\n",
      "0                  5.1               3.5                1.4               0.2   \n",
      "1                  4.9               3.0                1.4               0.2   \n",
      "2                  4.7               3.2                1.3               0.2   \n",
      "3                  4.6               3.1                1.5               0.2   \n",
      "4                  5.0               3.6                1.4               0.2   \n",
      "..                 ...               ...                ...               ...   \n",
      "145                6.7               3.0                5.2               2.3   \n",
      "146                6.3               2.5                5.0               1.9   \n",
      "147                6.5               3.0                5.2               2.0   \n",
      "148                6.2               3.4                5.4               2.3   \n",
      "149                5.9               3.0                5.1               1.8   \n",
      "\n",
      "     petal length x widht  petal length x width  \n",
      "0                    0.28                  0.28  \n",
      "1                    0.28                  0.28  \n",
      "2                    0.26                  0.26  \n",
      "3                    0.30                  0.30  \n",
      "4                    0.28                  0.28  \n",
      "..                    ...                   ...  \n",
      "145                 11.96                   NaN  \n",
      "146                  9.50                   NaN  \n",
      "147                 10.40                   NaN  \n",
      "148                 12.42                   NaN  \n",
      "149                  9.18                   NaN  \n",
      "\n",
      "[150 rows x 6 columns]\n"
     ]
    }
   ],
   "source": [
    "data_iris['petal length x width'] = data_iris.iloc[:5, 2:4].prod(axis=1)\n",
    "print(data_iris)\n",
    "#pada program ini indeks kolom menggunakan fungsi iloc yaitu kolom 'petal length (cm)' dan 'petal width (cm)' dengan index 2:4.\n",
    "#fungsi prod pada kolom-kolom tersebut berfungsi untuk mengalikan nilai-nilainya pada setiap baris, \n",
    "#sehingga mendapatkan nilai kolom baru 'petal length x width'."
   ]
  },
  {
   "cell_type": "code",
   "execution_count": 43,
   "id": "a1e9c287",
   "metadata": {},
   "outputs": [
    {
     "name": "stdout",
     "output_type": "stream",
     "text": [
      "     sepal length (cm)  sepal width (cm)  petal length (cm)  petal width (cm)  \\\n",
      "0                  5.1               3.5                1.4               0.2   \n",
      "1                  4.9               3.0                1.4               0.2   \n",
      "2                  4.7               3.2                1.3               0.2   \n",
      "3                  4.6               3.1                1.5               0.2   \n",
      "4                  5.0               3.6                1.4               0.2   \n",
      "..                 ...               ...                ...               ...   \n",
      "145                6.7               3.0                5.2               2.3   \n",
      "146                6.3               2.5                5.0               1.9   \n",
      "147                6.5               3.0                5.2               2.0   \n",
      "148                6.2               3.4                5.4               2.3   \n",
      "149                5.9               3.0                5.1               1.8   \n",
      "\n",
      "     petal length x widht  petal length x width  \n",
      "0                    0.28                  0.28  \n",
      "1                    0.28                  0.28  \n",
      "2                    0.26                  0.26  \n",
      "3                    0.30                  0.30  \n",
      "4                    0.28                  0.28  \n",
      "..                    ...                   ...  \n",
      "145                 11.96                   NaN  \n",
      "146                  9.50                   NaN  \n",
      "147                 10.40                   NaN  \n",
      "148                 12.42                   NaN  \n",
      "149                  9.18                   NaN  \n",
      "\n",
      "[150 rows x 6 columns]\n"
     ]
    }
   ],
   "source": [
    "data_iris['petal width (cm)'] = data_iris['petal width (cm)'].replace(['0.2'], '0.20')\n",
    "print(data_iris)\n",
    "#pada program ini, terdapat perintah replace yaitu untuk mengganti nilai '0,2' pada kolom 'petal width' \n",
    "#dengan '0,20' pada data_iris."
   ]
  },
  {
   "cell_type": "code",
   "execution_count": 44,
   "id": "761a77ea",
   "metadata": {},
   "outputs": [
    {
     "name": "stdout",
     "output_type": "stream",
     "text": [
      "     sepal length (cm)  sepal width (cm)  petal length (cm)  petal width (cm)  \\\n",
      "0                  5.1               3.5                1.4               0.2   \n",
      "1                  4.9               3.0                1.4               0.2   \n",
      "2                  4.7               3.2                1.3               0.2   \n",
      "3                  4.6               3.1                1.5               0.2   \n",
      "4                  5.0               3.6                1.4               0.2   \n",
      "..                 ...               ...                ...               ...   \n",
      "145                6.7               3.0                5.2               2.3   \n",
      "146                6.3               2.5                5.0               1.9   \n",
      "147                6.5               3.0                5.2               2.0   \n",
      "148                6.2               3.4                5.4               2.3   \n",
      "149                5.9               3.0                5.1               1.8   \n",
      "\n",
      "     petal length x width  \n",
      "0                    0.28  \n",
      "1                    0.28  \n",
      "2                    0.26  \n",
      "3                    0.30  \n",
      "4                    0.28  \n",
      "..                    ...  \n",
      "145                   NaN  \n",
      "146                   NaN  \n",
      "147                   NaN  \n",
      "148                   NaN  \n",
      "149                   NaN  \n",
      "\n",
      "[150 rows x 5 columns]\n"
     ]
    }
   ],
   "source": [
    "data_iris = data_iris.drop(columns=['petal length x widht'])\n",
    "print(data_iris)"
   ]
  },
  {
   "cell_type": "code",
   "execution_count": 45,
   "id": "cc9a05c1",
   "metadata": {},
   "outputs": [
    {
     "name": "stdout",
     "output_type": "stream",
     "text": [
      "     sepal length (cm)  sepal width (cm)  petal length (cm)  petal width (cm)\n",
      "0                  5.1               3.5                1.4               0.2\n",
      "1                  4.9               3.0                1.4               0.2\n",
      "2                  4.7               3.2                1.3               0.2\n",
      "3                  4.6               3.1                1.5               0.2\n",
      "4                  5.0               3.6                1.4               0.2\n",
      "..                 ...               ...                ...               ...\n",
      "145                6.7               3.0                5.2               2.3\n",
      "146                6.3               2.5                5.0               1.9\n",
      "147                6.5               3.0                5.2               2.0\n",
      "148                6.2               3.4                5.4               2.3\n",
      "149                5.9               3.0                5.1               1.8\n",
      "\n",
      "[150 rows x 4 columns]\n"
     ]
    }
   ],
   "source": [
    "data_iris = data_iris.drop(columns=['petal length x width'])\n",
    "print(data_iris)"
   ]
  },
  {
   "cell_type": "markdown",
   "id": "7ca5f12d",
   "metadata": {},
   "source": [
    "# 5.21.5 Menyimpan Data Menggunakan Pandas\n",
    "#### Data yang telah dirubah sesuai dengan keperluan dapat disimpan menjadi tiga bentuk file yaitu .csv, .txt, .xlsx. Proses penyimpanan dapat dilakukan seperti program berikut ini."
   ]
  },
  {
   "cell_type": "code",
   "execution_count": 46,
   "id": "c29c551b",
   "metadata": {},
   "outputs": [],
   "source": [
    "data_iris.to_csv('data_iris_baru.csv',index=False)\n",
    "#program ini digunakan untuk menyimpan data_iris ke dalam format file CSV \n",
    "#dengan nama file data_iris_baru.csv dan indeks tidak akan disertakan."
   ]
  },
  {
   "cell_type": "code",
   "execution_count": 47,
   "id": "704cbc4a",
   "metadata": {},
   "outputs": [],
   "source": [
    "data_iris.to_csv('data_iris_baru.txt',index=False, sep= '\\t')\n",
    "#program ini digunakan untuk menyimpan data_iris ke dalam format file teks (txt) \n",
    "#dengan nama file data_iris_baru.txt dan indeks tidak akan disertakan. \n",
    "#Data akan dipisahkan dengan tanda tab '\\t' sebagai pemisah antar kolom."
   ]
  },
  {
   "cell_type": "code",
   "execution_count": 48,
   "id": "5b3d0e2d",
   "metadata": {},
   "outputs": [],
   "source": [
    "data_iris.to_excel('data_iris_baru.xlsx',index=False)\n",
    "#program ini digunakan untuk menyimpan data frame yang disebut data_iris ke dalam format file Excel \n",
    "#dengan nama file data_iris_baru.xlsx dan indeks tidak akan disertakan."
   ]
  },
  {
   "cell_type": "code",
   "execution_count": 49,
   "id": "4f114963",
   "metadata": {},
   "outputs": [],
   "source": [
    "data_iris1  = pd.read_csv('data_iris_baru.txt')"
   ]
  },
  {
   "cell_type": "code",
   "execution_count": 50,
   "id": "5629efd9",
   "metadata": {},
   "outputs": [
    {
     "name": "stdout",
     "output_type": "stream",
     "text": [
      "     sepal length (cm)  sepal width (cm)  petal length (cm)  petal width (cm)\n",
      "0                  5.1               3.5                1.4               0.2\n",
      "1                  4.9               3.0                1.4               0.2\n",
      "2                  4.7               3.2                1.3               0.2\n",
      "3                  4.6               3.1                1.5               0.2\n",
      "4                  5.0               3.6                1.4               0.2\n",
      "..                 ...               ...                ...               ...\n",
      "145                6.7               3.0                5.2               2.3\n",
      "146                6.3               2.5                5.0               1.9\n",
      "147                6.5               3.0                5.2               2.0\n",
      "148                6.2               3.4                5.4               2.3\n",
      "149                5.9               3.0                5.1               1.8\n",
      "\n",
      "[150 rows x 4 columns]\n"
     ]
    }
   ],
   "source": [
    "data_iris2 = pd.read_csv('data_iris_baru.txt',delimiter='\\t')\n",
    "print(data_iris2)\n",
    "#program ini membaca file dengan nama 'data_palsu_baru.txt' yang berformat teks dengan tanda tab \n",
    "#sebagai pemisah (delimiter='\\t') dan menyimpannya ke dalam sebuah data baru yang bernama data_iris2. "
   ]
  },
  {
   "cell_type": "markdown",
   "id": "9e7db29f",
   "metadata": {},
   "source": [
    "# 5.21.6 Menyaring Data Menggunakan Pandas\n",
    "#### Data yang telah dipanggil dapat disaring sesuai dengan kebutuhan analisis kedepannya.  Proses penyaringan data dapat dilakukan seperti program berikut ini."
   ]
  },
  {
   "cell_type": "code",
   "execution_count": 51,
   "id": "696080a8",
   "metadata": {},
   "outputs": [],
   "source": [
    "data_iris = pd.read_csv('bunga_iris.csv')"
   ]
  },
  {
   "cell_type": "code",
   "execution_count": 52,
   "id": "524284f4",
   "metadata": {},
   "outputs": [
    {
     "data": {
      "text/html": [
       "<div>\n",
       "<style scoped>\n",
       "    .dataframe tbody tr th:only-of-type {\n",
       "        vertical-align: middle;\n",
       "    }\n",
       "\n",
       "    .dataframe tbody tr th {\n",
       "        vertical-align: top;\n",
       "    }\n",
       "\n",
       "    .dataframe thead th {\n",
       "        text-align: right;\n",
       "    }\n",
       "</style>\n",
       "<table border=\"1\" class=\"dataframe\">\n",
       "  <thead>\n",
       "    <tr style=\"text-align: right;\">\n",
       "      <th></th>\n",
       "      <th>sepal length (cm)</th>\n",
       "      <th>sepal width (cm)</th>\n",
       "      <th>petal length (cm)</th>\n",
       "      <th>petal width (cm)</th>\n",
       "    </tr>\n",
       "  </thead>\n",
       "  <tbody>\n",
       "    <tr>\n",
       "      <th>25</th>\n",
       "      <td>5.0</td>\n",
       "      <td>3.0</td>\n",
       "      <td>1.6</td>\n",
       "      <td>0.2</td>\n",
       "    </tr>\n",
       "  </tbody>\n",
       "</table>\n",
       "</div>"
      ],
      "text/plain": [
       "    sepal length (cm)  sepal width (cm)  petal length (cm)  petal width (cm)\n",
       "25                5.0               3.0                1.6               0.2"
      ]
     },
     "execution_count": 52,
     "metadata": {},
     "output_type": "execute_result"
    }
   ],
   "source": [
    "data_iris.loc[(data_iris['sepal length (cm)'] == 5.0) &\n",
    "              (data_iris['sepal width (cm)'] == 3.0)]\n",
    "#kode ini akan mengakses baris pada data frame data_iris yang memenuhi kondisi \n",
    "#di mana nilai kolom 'sepal length' adalah 5.0 dan nilai kolom 'sepal width' adalah 3.0."
   ]
  },
  {
   "cell_type": "code",
   "execution_count": 53,
   "id": "847fc763",
   "metadata": {},
   "outputs": [
    {
     "data": {
      "text/html": [
       "<div>\n",
       "<style scoped>\n",
       "    .dataframe tbody tr th:only-of-type {\n",
       "        vertical-align: middle;\n",
       "    }\n",
       "\n",
       "    .dataframe tbody tr th {\n",
       "        vertical-align: top;\n",
       "    }\n",
       "\n",
       "    .dataframe thead th {\n",
       "        text-align: right;\n",
       "    }\n",
       "</style>\n",
       "<table border=\"1\" class=\"dataframe\">\n",
       "  <thead>\n",
       "    <tr style=\"text-align: right;\">\n",
       "      <th></th>\n",
       "      <th>sepal length (cm)</th>\n",
       "      <th>sepal width (cm)</th>\n",
       "      <th>petal length (cm)</th>\n",
       "      <th>petal width (cm)</th>\n",
       "    </tr>\n",
       "  </thead>\n",
       "  <tbody>\n",
       "    <tr>\n",
       "      <th>138</th>\n",
       "      <td>6.0</td>\n",
       "      <td>3.0</td>\n",
       "      <td>4.8</td>\n",
       "      <td>1.8</td>\n",
       "    </tr>\n",
       "  </tbody>\n",
       "</table>\n",
       "</div>"
      ],
      "text/plain": [
       "     sepal length (cm)  sepal width (cm)  petal length (cm)  petal width (cm)\n",
       "138                6.0               3.0                4.8               1.8"
      ]
     },
     "execution_count": 53,
     "metadata": {},
     "output_type": "execute_result"
    }
   ],
   "source": [
    "data_iris.loc[(data_iris['sepal width (cm)'] == 3.0) &\n",
    "              (data_iris['petal length (cm)'] == 4.8) &\n",
    "              (data_iris['petal width (cm)'] >= 0.1)]\n",
    "#kode ini akan mengakses baris pada data frame data_iris yang memenuhi kondisi \n",
    "#di mana nilai kolom 'sepal width (cm)' adalah 3.0, \n",
    "#nilai kolom 'petal length (cm)' adalah 4.8, dan nilai kolom 'petal width (cm)' lebih besar atau sama dengan 0.1."
   ]
  },
  {
   "cell_type": "code",
   "execution_count": 54,
   "id": "2da45a7b",
   "metadata": {},
   "outputs": [
    {
     "ename": "AttributeError",
     "evalue": "Can only use .str accessor with string values!",
     "output_type": "error",
     "traceback": [
      "\u001b[1;31m---------------------------------------------------------------------------\u001b[0m",
      "\u001b[1;31mAttributeError\u001b[0m                            Traceback (most recent call last)",
      "\u001b[1;32m~\\AppData\\Local\\Temp\\ipykernel_7472\\1337770109.py\u001b[0m in \u001b[0;36m<module>\u001b[1;34m\u001b[0m\n\u001b[1;32m----> 1\u001b[1;33m \u001b[0mdata_iris\u001b[0m\u001b[1;33m.\u001b[0m\u001b[0mloc\u001b[0m\u001b[1;33m[\u001b[0m\u001b[0mdata_iris\u001b[0m\u001b[1;33m[\u001b[0m\u001b[1;34m'petal length (cm)'\u001b[0m\u001b[1;33m]\u001b[0m\u001b[1;33m.\u001b[0m\u001b[0mstr\u001b[0m\u001b[1;33m.\u001b[0m\u001b[0mcontains\u001b[0m\u001b[1;33m(\u001b[0m\u001b[1;34m'6.3'\u001b[0m\u001b[1;33m)\u001b[0m\u001b[1;33m]\u001b[0m\u001b[1;33m\u001b[0m\u001b[1;33m\u001b[0m\u001b[0m\n\u001b[0m\u001b[0;32m      2\u001b[0m \u001b[1;31m#tidak dapat digunakan karena str hanya untuk string\u001b[0m\u001b[1;33m\u001b[0m\u001b[1;33m\u001b[0m\u001b[0m\n",
      "\u001b[1;32m~\\anaconda3\\lib\\site-packages\\pandas\\core\\generic.py\u001b[0m in \u001b[0;36m__getattr__\u001b[1;34m(self, name)\u001b[0m\n\u001b[0;32m   5573\u001b[0m         ):\n\u001b[0;32m   5574\u001b[0m             \u001b[1;32mreturn\u001b[0m \u001b[0mself\u001b[0m\u001b[1;33m[\u001b[0m\u001b[0mname\u001b[0m\u001b[1;33m]\u001b[0m\u001b[1;33m\u001b[0m\u001b[1;33m\u001b[0m\u001b[0m\n\u001b[1;32m-> 5575\u001b[1;33m         \u001b[1;32mreturn\u001b[0m \u001b[0mobject\u001b[0m\u001b[1;33m.\u001b[0m\u001b[0m__getattribute__\u001b[0m\u001b[1;33m(\u001b[0m\u001b[0mself\u001b[0m\u001b[1;33m,\u001b[0m \u001b[0mname\u001b[0m\u001b[1;33m)\u001b[0m\u001b[1;33m\u001b[0m\u001b[1;33m\u001b[0m\u001b[0m\n\u001b[0m\u001b[0;32m   5576\u001b[0m \u001b[1;33m\u001b[0m\u001b[0m\n\u001b[0;32m   5577\u001b[0m     \u001b[1;32mdef\u001b[0m \u001b[0m__setattr__\u001b[0m\u001b[1;33m(\u001b[0m\u001b[0mself\u001b[0m\u001b[1;33m,\u001b[0m \u001b[0mname\u001b[0m\u001b[1;33m:\u001b[0m \u001b[0mstr\u001b[0m\u001b[1;33m,\u001b[0m \u001b[0mvalue\u001b[0m\u001b[1;33m)\u001b[0m \u001b[1;33m->\u001b[0m \u001b[1;32mNone\u001b[0m\u001b[1;33m:\u001b[0m\u001b[1;33m\u001b[0m\u001b[1;33m\u001b[0m\u001b[0m\n",
      "\u001b[1;32m~\\anaconda3\\lib\\site-packages\\pandas\\core\\accessor.py\u001b[0m in \u001b[0;36m__get__\u001b[1;34m(self, obj, cls)\u001b[0m\n\u001b[0;32m    180\u001b[0m             \u001b[1;31m# we're accessing the attribute of the class, i.e., Dataset.geo\u001b[0m\u001b[1;33m\u001b[0m\u001b[1;33m\u001b[0m\u001b[0m\n\u001b[0;32m    181\u001b[0m             \u001b[1;32mreturn\u001b[0m \u001b[0mself\u001b[0m\u001b[1;33m.\u001b[0m\u001b[0m_accessor\u001b[0m\u001b[1;33m\u001b[0m\u001b[1;33m\u001b[0m\u001b[0m\n\u001b[1;32m--> 182\u001b[1;33m         \u001b[0maccessor_obj\u001b[0m \u001b[1;33m=\u001b[0m \u001b[0mself\u001b[0m\u001b[1;33m.\u001b[0m\u001b[0m_accessor\u001b[0m\u001b[1;33m(\u001b[0m\u001b[0mobj\u001b[0m\u001b[1;33m)\u001b[0m\u001b[1;33m\u001b[0m\u001b[1;33m\u001b[0m\u001b[0m\n\u001b[0m\u001b[0;32m    183\u001b[0m         \u001b[1;31m# Replace the property with the accessor object. Inspired by:\u001b[0m\u001b[1;33m\u001b[0m\u001b[1;33m\u001b[0m\u001b[0m\n\u001b[0;32m    184\u001b[0m         \u001b[1;31m# https://www.pydanny.com/cached-property.html\u001b[0m\u001b[1;33m\u001b[0m\u001b[1;33m\u001b[0m\u001b[0m\n",
      "\u001b[1;32m~\\anaconda3\\lib\\site-packages\\pandas\\core\\strings\\accessor.py\u001b[0m in \u001b[0;36m__init__\u001b[1;34m(self, data)\u001b[0m\n\u001b[0;32m    175\u001b[0m         \u001b[1;32mfrom\u001b[0m \u001b[0mpandas\u001b[0m\u001b[1;33m.\u001b[0m\u001b[0mcore\u001b[0m\u001b[1;33m.\u001b[0m\u001b[0marrays\u001b[0m\u001b[1;33m.\u001b[0m\u001b[0mstring_\u001b[0m \u001b[1;32mimport\u001b[0m \u001b[0mStringDtype\u001b[0m\u001b[1;33m\u001b[0m\u001b[1;33m\u001b[0m\u001b[0m\n\u001b[0;32m    176\u001b[0m \u001b[1;33m\u001b[0m\u001b[0m\n\u001b[1;32m--> 177\u001b[1;33m         \u001b[0mself\u001b[0m\u001b[1;33m.\u001b[0m\u001b[0m_inferred_dtype\u001b[0m \u001b[1;33m=\u001b[0m \u001b[0mself\u001b[0m\u001b[1;33m.\u001b[0m\u001b[0m_validate\u001b[0m\u001b[1;33m(\u001b[0m\u001b[0mdata\u001b[0m\u001b[1;33m)\u001b[0m\u001b[1;33m\u001b[0m\u001b[1;33m\u001b[0m\u001b[0m\n\u001b[0m\u001b[0;32m    178\u001b[0m         \u001b[0mself\u001b[0m\u001b[1;33m.\u001b[0m\u001b[0m_is_categorical\u001b[0m \u001b[1;33m=\u001b[0m \u001b[0mis_categorical_dtype\u001b[0m\u001b[1;33m(\u001b[0m\u001b[0mdata\u001b[0m\u001b[1;33m.\u001b[0m\u001b[0mdtype\u001b[0m\u001b[1;33m)\u001b[0m\u001b[1;33m\u001b[0m\u001b[1;33m\u001b[0m\u001b[0m\n\u001b[0;32m    179\u001b[0m         \u001b[0mself\u001b[0m\u001b[1;33m.\u001b[0m\u001b[0m_is_string\u001b[0m \u001b[1;33m=\u001b[0m \u001b[0misinstance\u001b[0m\u001b[1;33m(\u001b[0m\u001b[0mdata\u001b[0m\u001b[1;33m.\u001b[0m\u001b[0mdtype\u001b[0m\u001b[1;33m,\u001b[0m \u001b[0mStringDtype\u001b[0m\u001b[1;33m)\u001b[0m\u001b[1;33m\u001b[0m\u001b[1;33m\u001b[0m\u001b[0m\n",
      "\u001b[1;32m~\\anaconda3\\lib\\site-packages\\pandas\\core\\strings\\accessor.py\u001b[0m in \u001b[0;36m_validate\u001b[1;34m(data)\u001b[0m\n\u001b[0;32m    229\u001b[0m \u001b[1;33m\u001b[0m\u001b[0m\n\u001b[0;32m    230\u001b[0m         \u001b[1;32mif\u001b[0m \u001b[0minferred_dtype\u001b[0m \u001b[1;32mnot\u001b[0m \u001b[1;32min\u001b[0m \u001b[0mallowed_types\u001b[0m\u001b[1;33m:\u001b[0m\u001b[1;33m\u001b[0m\u001b[1;33m\u001b[0m\u001b[0m\n\u001b[1;32m--> 231\u001b[1;33m             \u001b[1;32mraise\u001b[0m \u001b[0mAttributeError\u001b[0m\u001b[1;33m(\u001b[0m\u001b[1;34m\"Can only use .str accessor with string values!\"\u001b[0m\u001b[1;33m)\u001b[0m\u001b[1;33m\u001b[0m\u001b[1;33m\u001b[0m\u001b[0m\n\u001b[0m\u001b[0;32m    232\u001b[0m         \u001b[1;32mreturn\u001b[0m \u001b[0minferred_dtype\u001b[0m\u001b[1;33m\u001b[0m\u001b[1;33m\u001b[0m\u001b[0m\n\u001b[0;32m    233\u001b[0m \u001b[1;33m\u001b[0m\u001b[0m\n",
      "\u001b[1;31mAttributeError\u001b[0m: Can only use .str accessor with string values!"
     ]
    }
   ],
   "source": [
    "data_iris.loc[data_iris['petal length (cm)'].str.contains('6.3')]\n",
    "#tidak dapat digunakan karena str hanya untuk string"
   ]
  },
  {
   "cell_type": "code",
   "execution_count": 55,
   "id": "74ed8ced",
   "metadata": {},
   "outputs": [],
   "source": [
    "import re"
   ]
  },
  {
   "cell_type": "code",
   "execution_count": 56,
   "id": "5712c7be",
   "metadata": {},
   "outputs": [
    {
     "ename": "AttributeError",
     "evalue": "Can only use .str accessor with string values!",
     "output_type": "error",
     "traceback": [
      "\u001b[1;31m---------------------------------------------------------------------------\u001b[0m",
      "\u001b[1;31mAttributeError\u001b[0m                            Traceback (most recent call last)",
      "\u001b[1;32m~\\AppData\\Local\\Temp\\ipykernel_7472\\2905410720.py\u001b[0m in \u001b[0;36m<module>\u001b[1;34m\u001b[0m\n\u001b[1;32m----> 1\u001b[1;33m \u001b[0mdata_iris\u001b[0m\u001b[1;33m.\u001b[0m\u001b[0mloc\u001b[0m\u001b[1;33m[\u001b[0m\u001b[0mdata_iris\u001b[0m\u001b[1;33m[\u001b[0m\u001b[1;34m'sepal length (cm)'\u001b[0m\u001b[1;33m]\u001b[0m\u001b[1;33m.\u001b[0m\u001b[0mstr\u001b[0m\u001b[1;33m.\u001b[0m\u001b[0mcontains\u001b[0m\u001b[1;33m(\u001b[0m\u001b[1;34m'6.3|4.4'\u001b[0m\u001b[1;33m,\u001b[0m \u001b[0mregex\u001b[0m\u001b[1;33m=\u001b[0m\u001b[1;32mTrue\u001b[0m\u001b[1;33m)\u001b[0m\u001b[1;33m]\u001b[0m\u001b[1;33m\u001b[0m\u001b[1;33m\u001b[0m\u001b[0m\n\u001b[0m\u001b[0;32m      2\u001b[0m \u001b[1;31m#tidak dapat digunakan karena str hanya untuk string\u001b[0m\u001b[1;33m\u001b[0m\u001b[1;33m\u001b[0m\u001b[0m\n",
      "\u001b[1;32m~\\anaconda3\\lib\\site-packages\\pandas\\core\\generic.py\u001b[0m in \u001b[0;36m__getattr__\u001b[1;34m(self, name)\u001b[0m\n\u001b[0;32m   5573\u001b[0m         ):\n\u001b[0;32m   5574\u001b[0m             \u001b[1;32mreturn\u001b[0m \u001b[0mself\u001b[0m\u001b[1;33m[\u001b[0m\u001b[0mname\u001b[0m\u001b[1;33m]\u001b[0m\u001b[1;33m\u001b[0m\u001b[1;33m\u001b[0m\u001b[0m\n\u001b[1;32m-> 5575\u001b[1;33m         \u001b[1;32mreturn\u001b[0m \u001b[0mobject\u001b[0m\u001b[1;33m.\u001b[0m\u001b[0m__getattribute__\u001b[0m\u001b[1;33m(\u001b[0m\u001b[0mself\u001b[0m\u001b[1;33m,\u001b[0m \u001b[0mname\u001b[0m\u001b[1;33m)\u001b[0m\u001b[1;33m\u001b[0m\u001b[1;33m\u001b[0m\u001b[0m\n\u001b[0m\u001b[0;32m   5576\u001b[0m \u001b[1;33m\u001b[0m\u001b[0m\n\u001b[0;32m   5577\u001b[0m     \u001b[1;32mdef\u001b[0m \u001b[0m__setattr__\u001b[0m\u001b[1;33m(\u001b[0m\u001b[0mself\u001b[0m\u001b[1;33m,\u001b[0m \u001b[0mname\u001b[0m\u001b[1;33m:\u001b[0m \u001b[0mstr\u001b[0m\u001b[1;33m,\u001b[0m \u001b[0mvalue\u001b[0m\u001b[1;33m)\u001b[0m \u001b[1;33m->\u001b[0m \u001b[1;32mNone\u001b[0m\u001b[1;33m:\u001b[0m\u001b[1;33m\u001b[0m\u001b[1;33m\u001b[0m\u001b[0m\n",
      "\u001b[1;32m~\\anaconda3\\lib\\site-packages\\pandas\\core\\accessor.py\u001b[0m in \u001b[0;36m__get__\u001b[1;34m(self, obj, cls)\u001b[0m\n\u001b[0;32m    180\u001b[0m             \u001b[1;31m# we're accessing the attribute of the class, i.e., Dataset.geo\u001b[0m\u001b[1;33m\u001b[0m\u001b[1;33m\u001b[0m\u001b[0m\n\u001b[0;32m    181\u001b[0m             \u001b[1;32mreturn\u001b[0m \u001b[0mself\u001b[0m\u001b[1;33m.\u001b[0m\u001b[0m_accessor\u001b[0m\u001b[1;33m\u001b[0m\u001b[1;33m\u001b[0m\u001b[0m\n\u001b[1;32m--> 182\u001b[1;33m         \u001b[0maccessor_obj\u001b[0m \u001b[1;33m=\u001b[0m \u001b[0mself\u001b[0m\u001b[1;33m.\u001b[0m\u001b[0m_accessor\u001b[0m\u001b[1;33m(\u001b[0m\u001b[0mobj\u001b[0m\u001b[1;33m)\u001b[0m\u001b[1;33m\u001b[0m\u001b[1;33m\u001b[0m\u001b[0m\n\u001b[0m\u001b[0;32m    183\u001b[0m         \u001b[1;31m# Replace the property with the accessor object. Inspired by:\u001b[0m\u001b[1;33m\u001b[0m\u001b[1;33m\u001b[0m\u001b[0m\n\u001b[0;32m    184\u001b[0m         \u001b[1;31m# https://www.pydanny.com/cached-property.html\u001b[0m\u001b[1;33m\u001b[0m\u001b[1;33m\u001b[0m\u001b[0m\n",
      "\u001b[1;32m~\\anaconda3\\lib\\site-packages\\pandas\\core\\strings\\accessor.py\u001b[0m in \u001b[0;36m__init__\u001b[1;34m(self, data)\u001b[0m\n\u001b[0;32m    175\u001b[0m         \u001b[1;32mfrom\u001b[0m \u001b[0mpandas\u001b[0m\u001b[1;33m.\u001b[0m\u001b[0mcore\u001b[0m\u001b[1;33m.\u001b[0m\u001b[0marrays\u001b[0m\u001b[1;33m.\u001b[0m\u001b[0mstring_\u001b[0m \u001b[1;32mimport\u001b[0m \u001b[0mStringDtype\u001b[0m\u001b[1;33m\u001b[0m\u001b[1;33m\u001b[0m\u001b[0m\n\u001b[0;32m    176\u001b[0m \u001b[1;33m\u001b[0m\u001b[0m\n\u001b[1;32m--> 177\u001b[1;33m         \u001b[0mself\u001b[0m\u001b[1;33m.\u001b[0m\u001b[0m_inferred_dtype\u001b[0m \u001b[1;33m=\u001b[0m \u001b[0mself\u001b[0m\u001b[1;33m.\u001b[0m\u001b[0m_validate\u001b[0m\u001b[1;33m(\u001b[0m\u001b[0mdata\u001b[0m\u001b[1;33m)\u001b[0m\u001b[1;33m\u001b[0m\u001b[1;33m\u001b[0m\u001b[0m\n\u001b[0m\u001b[0;32m    178\u001b[0m         \u001b[0mself\u001b[0m\u001b[1;33m.\u001b[0m\u001b[0m_is_categorical\u001b[0m \u001b[1;33m=\u001b[0m \u001b[0mis_categorical_dtype\u001b[0m\u001b[1;33m(\u001b[0m\u001b[0mdata\u001b[0m\u001b[1;33m.\u001b[0m\u001b[0mdtype\u001b[0m\u001b[1;33m)\u001b[0m\u001b[1;33m\u001b[0m\u001b[1;33m\u001b[0m\u001b[0m\n\u001b[0;32m    179\u001b[0m         \u001b[0mself\u001b[0m\u001b[1;33m.\u001b[0m\u001b[0m_is_string\u001b[0m \u001b[1;33m=\u001b[0m \u001b[0misinstance\u001b[0m\u001b[1;33m(\u001b[0m\u001b[0mdata\u001b[0m\u001b[1;33m.\u001b[0m\u001b[0mdtype\u001b[0m\u001b[1;33m,\u001b[0m \u001b[0mStringDtype\u001b[0m\u001b[1;33m)\u001b[0m\u001b[1;33m\u001b[0m\u001b[1;33m\u001b[0m\u001b[0m\n",
      "\u001b[1;32m~\\anaconda3\\lib\\site-packages\\pandas\\core\\strings\\accessor.py\u001b[0m in \u001b[0;36m_validate\u001b[1;34m(data)\u001b[0m\n\u001b[0;32m    229\u001b[0m \u001b[1;33m\u001b[0m\u001b[0m\n\u001b[0;32m    230\u001b[0m         \u001b[1;32mif\u001b[0m \u001b[0minferred_dtype\u001b[0m \u001b[1;32mnot\u001b[0m \u001b[1;32min\u001b[0m \u001b[0mallowed_types\u001b[0m\u001b[1;33m:\u001b[0m\u001b[1;33m\u001b[0m\u001b[1;33m\u001b[0m\u001b[0m\n\u001b[1;32m--> 231\u001b[1;33m             \u001b[1;32mraise\u001b[0m \u001b[0mAttributeError\u001b[0m\u001b[1;33m(\u001b[0m\u001b[1;34m\"Can only use .str accessor with string values!\"\u001b[0m\u001b[1;33m)\u001b[0m\u001b[1;33m\u001b[0m\u001b[1;33m\u001b[0m\u001b[0m\n\u001b[0m\u001b[0;32m    232\u001b[0m         \u001b[1;32mreturn\u001b[0m \u001b[0minferred_dtype\u001b[0m\u001b[1;33m\u001b[0m\u001b[1;33m\u001b[0m\u001b[0m\n\u001b[0;32m    233\u001b[0m \u001b[1;33m\u001b[0m\u001b[0m\n",
      "\u001b[1;31mAttributeError\u001b[0m: Can only use .str accessor with string values!"
     ]
    }
   ],
   "source": [
    "data_iris.loc[data_iris['sepal length (cm)'].str.contains('6.3|4.4', regex=True)]\n",
    "#tidak dapat digunakan karena str hanya untuk string"
   ]
  },
  {
   "cell_type": "code",
   "execution_count": 57,
   "id": "9759f128",
   "metadata": {},
   "outputs": [
    {
     "ename": "AttributeError",
     "evalue": "Can only use .str accessor with string values!",
     "output_type": "error",
     "traceback": [
      "\u001b[1;31m---------------------------------------------------------------------------\u001b[0m",
      "\u001b[1;31mAttributeError\u001b[0m                            Traceback (most recent call last)",
      "\u001b[1;32m~\\AppData\\Local\\Temp\\ipykernel_7472\\2097713232.py\u001b[0m in \u001b[0;36m<module>\u001b[1;34m\u001b[0m\n\u001b[1;32m----> 1\u001b[1;33m \u001b[0mdata_iris\u001b[0m\u001b[1;33m.\u001b[0m\u001b[0mloc\u001b[0m\u001b[1;33m[\u001b[0m\u001b[0mdata_iris\u001b[0m\u001b[1;33m[\u001b[0m\u001b[1;34m'sepal length (cm)'\u001b[0m\u001b[1;33m]\u001b[0m\u001b[1;33m.\u001b[0m\u001b[0mstr\u001b[0m\u001b[1;33m.\u001b[0m\u001b[0mcontains\u001b[0m\u001b[1;33m(\u001b[0m\u001b[1;34m'6.3|4.4'\u001b[0m\u001b[1;33m,\u001b[0m\u001b[0mflags\u001b[0m\u001b[1;33m=\u001b[0m\u001b[0mre\u001b[0m\u001b[1;33m.\u001b[0m\u001b[0mI\u001b[0m\u001b[1;33m,\u001b[0m\u001b[0mregex\u001b[0m\u001b[1;33m=\u001b[0m\u001b[1;32mTrue\u001b[0m\u001b[1;33m)\u001b[0m\u001b[1;33m]\u001b[0m\u001b[1;33m\u001b[0m\u001b[1;33m\u001b[0m\u001b[0m\n\u001b[0m\u001b[0;32m      2\u001b[0m \u001b[1;31m#tidak dapat digunakan karena str hanya untuk string\u001b[0m\u001b[1;33m\u001b[0m\u001b[1;33m\u001b[0m\u001b[0m\n",
      "\u001b[1;32m~\\anaconda3\\lib\\site-packages\\pandas\\core\\generic.py\u001b[0m in \u001b[0;36m__getattr__\u001b[1;34m(self, name)\u001b[0m\n\u001b[0;32m   5573\u001b[0m         ):\n\u001b[0;32m   5574\u001b[0m             \u001b[1;32mreturn\u001b[0m \u001b[0mself\u001b[0m\u001b[1;33m[\u001b[0m\u001b[0mname\u001b[0m\u001b[1;33m]\u001b[0m\u001b[1;33m\u001b[0m\u001b[1;33m\u001b[0m\u001b[0m\n\u001b[1;32m-> 5575\u001b[1;33m         \u001b[1;32mreturn\u001b[0m \u001b[0mobject\u001b[0m\u001b[1;33m.\u001b[0m\u001b[0m__getattribute__\u001b[0m\u001b[1;33m(\u001b[0m\u001b[0mself\u001b[0m\u001b[1;33m,\u001b[0m \u001b[0mname\u001b[0m\u001b[1;33m)\u001b[0m\u001b[1;33m\u001b[0m\u001b[1;33m\u001b[0m\u001b[0m\n\u001b[0m\u001b[0;32m   5576\u001b[0m \u001b[1;33m\u001b[0m\u001b[0m\n\u001b[0;32m   5577\u001b[0m     \u001b[1;32mdef\u001b[0m \u001b[0m__setattr__\u001b[0m\u001b[1;33m(\u001b[0m\u001b[0mself\u001b[0m\u001b[1;33m,\u001b[0m \u001b[0mname\u001b[0m\u001b[1;33m:\u001b[0m \u001b[0mstr\u001b[0m\u001b[1;33m,\u001b[0m \u001b[0mvalue\u001b[0m\u001b[1;33m)\u001b[0m \u001b[1;33m->\u001b[0m \u001b[1;32mNone\u001b[0m\u001b[1;33m:\u001b[0m\u001b[1;33m\u001b[0m\u001b[1;33m\u001b[0m\u001b[0m\n",
      "\u001b[1;32m~\\anaconda3\\lib\\site-packages\\pandas\\core\\accessor.py\u001b[0m in \u001b[0;36m__get__\u001b[1;34m(self, obj, cls)\u001b[0m\n\u001b[0;32m    180\u001b[0m             \u001b[1;31m# we're accessing the attribute of the class, i.e., Dataset.geo\u001b[0m\u001b[1;33m\u001b[0m\u001b[1;33m\u001b[0m\u001b[0m\n\u001b[0;32m    181\u001b[0m             \u001b[1;32mreturn\u001b[0m \u001b[0mself\u001b[0m\u001b[1;33m.\u001b[0m\u001b[0m_accessor\u001b[0m\u001b[1;33m\u001b[0m\u001b[1;33m\u001b[0m\u001b[0m\n\u001b[1;32m--> 182\u001b[1;33m         \u001b[0maccessor_obj\u001b[0m \u001b[1;33m=\u001b[0m \u001b[0mself\u001b[0m\u001b[1;33m.\u001b[0m\u001b[0m_accessor\u001b[0m\u001b[1;33m(\u001b[0m\u001b[0mobj\u001b[0m\u001b[1;33m)\u001b[0m\u001b[1;33m\u001b[0m\u001b[1;33m\u001b[0m\u001b[0m\n\u001b[0m\u001b[0;32m    183\u001b[0m         \u001b[1;31m# Replace the property with the accessor object. Inspired by:\u001b[0m\u001b[1;33m\u001b[0m\u001b[1;33m\u001b[0m\u001b[0m\n\u001b[0;32m    184\u001b[0m         \u001b[1;31m# https://www.pydanny.com/cached-property.html\u001b[0m\u001b[1;33m\u001b[0m\u001b[1;33m\u001b[0m\u001b[0m\n",
      "\u001b[1;32m~\\anaconda3\\lib\\site-packages\\pandas\\core\\strings\\accessor.py\u001b[0m in \u001b[0;36m__init__\u001b[1;34m(self, data)\u001b[0m\n\u001b[0;32m    175\u001b[0m         \u001b[1;32mfrom\u001b[0m \u001b[0mpandas\u001b[0m\u001b[1;33m.\u001b[0m\u001b[0mcore\u001b[0m\u001b[1;33m.\u001b[0m\u001b[0marrays\u001b[0m\u001b[1;33m.\u001b[0m\u001b[0mstring_\u001b[0m \u001b[1;32mimport\u001b[0m \u001b[0mStringDtype\u001b[0m\u001b[1;33m\u001b[0m\u001b[1;33m\u001b[0m\u001b[0m\n\u001b[0;32m    176\u001b[0m \u001b[1;33m\u001b[0m\u001b[0m\n\u001b[1;32m--> 177\u001b[1;33m         \u001b[0mself\u001b[0m\u001b[1;33m.\u001b[0m\u001b[0m_inferred_dtype\u001b[0m \u001b[1;33m=\u001b[0m \u001b[0mself\u001b[0m\u001b[1;33m.\u001b[0m\u001b[0m_validate\u001b[0m\u001b[1;33m(\u001b[0m\u001b[0mdata\u001b[0m\u001b[1;33m)\u001b[0m\u001b[1;33m\u001b[0m\u001b[1;33m\u001b[0m\u001b[0m\n\u001b[0m\u001b[0;32m    178\u001b[0m         \u001b[0mself\u001b[0m\u001b[1;33m.\u001b[0m\u001b[0m_is_categorical\u001b[0m \u001b[1;33m=\u001b[0m \u001b[0mis_categorical_dtype\u001b[0m\u001b[1;33m(\u001b[0m\u001b[0mdata\u001b[0m\u001b[1;33m.\u001b[0m\u001b[0mdtype\u001b[0m\u001b[1;33m)\u001b[0m\u001b[1;33m\u001b[0m\u001b[1;33m\u001b[0m\u001b[0m\n\u001b[0;32m    179\u001b[0m         \u001b[0mself\u001b[0m\u001b[1;33m.\u001b[0m\u001b[0m_is_string\u001b[0m \u001b[1;33m=\u001b[0m \u001b[0misinstance\u001b[0m\u001b[1;33m(\u001b[0m\u001b[0mdata\u001b[0m\u001b[1;33m.\u001b[0m\u001b[0mdtype\u001b[0m\u001b[1;33m,\u001b[0m \u001b[0mStringDtype\u001b[0m\u001b[1;33m)\u001b[0m\u001b[1;33m\u001b[0m\u001b[1;33m\u001b[0m\u001b[0m\n",
      "\u001b[1;32m~\\anaconda3\\lib\\site-packages\\pandas\\core\\strings\\accessor.py\u001b[0m in \u001b[0;36m_validate\u001b[1;34m(data)\u001b[0m\n\u001b[0;32m    229\u001b[0m \u001b[1;33m\u001b[0m\u001b[0m\n\u001b[0;32m    230\u001b[0m         \u001b[1;32mif\u001b[0m \u001b[0minferred_dtype\u001b[0m \u001b[1;32mnot\u001b[0m \u001b[1;32min\u001b[0m \u001b[0mallowed_types\u001b[0m\u001b[1;33m:\u001b[0m\u001b[1;33m\u001b[0m\u001b[1;33m\u001b[0m\u001b[0m\n\u001b[1;32m--> 231\u001b[1;33m             \u001b[1;32mraise\u001b[0m \u001b[0mAttributeError\u001b[0m\u001b[1;33m(\u001b[0m\u001b[1;34m\"Can only use .str accessor with string values!\"\u001b[0m\u001b[1;33m)\u001b[0m\u001b[1;33m\u001b[0m\u001b[1;33m\u001b[0m\u001b[0m\n\u001b[0m\u001b[0;32m    232\u001b[0m         \u001b[1;32mreturn\u001b[0m \u001b[0minferred_dtype\u001b[0m\u001b[1;33m\u001b[0m\u001b[1;33m\u001b[0m\u001b[0m\n\u001b[0;32m    233\u001b[0m \u001b[1;33m\u001b[0m\u001b[0m\n",
      "\u001b[1;31mAttributeError\u001b[0m: Can only use .str accessor with string values!"
     ]
    }
   ],
   "source": [
    "data_iris.loc[data_iris['sepal length (cm)'].str.contains('6.3|4.4',flags=re.I,regex=True)]\n",
    "#tidak dapat digunakan karena str hanya untuk string"
   ]
  },
  {
   "cell_type": "markdown",
   "id": "da303c43",
   "metadata": {},
   "source": [
    "# 5.21.7 Pengelompokan Data Menggunakan Pandas\n",
    "#### Kita dapat mengelompokkan data yang sama untuk analisis lebih lanjut. Proses pengelompokan dapat dilakukan seperti pada program berikut ini. "
   ]
  },
  {
   "cell_type": "code",
   "execution_count": 58,
   "id": "7a1f797c",
   "metadata": {},
   "outputs": [],
   "source": [
    "data_iris = pd.read_csv('bunga_iris.csv')"
   ]
  },
  {
   "cell_type": "code",
   "execution_count": 59,
   "id": "9a4cec2c",
   "metadata": {},
   "outputs": [
    {
     "data": {
      "text/html": [
       "<div>\n",
       "<style scoped>\n",
       "    .dataframe tbody tr th:only-of-type {\n",
       "        vertical-align: middle;\n",
       "    }\n",
       "\n",
       "    .dataframe tbody tr th {\n",
       "        vertical-align: top;\n",
       "    }\n",
       "\n",
       "    .dataframe thead th {\n",
       "        text-align: right;\n",
       "    }\n",
       "</style>\n",
       "<table border=\"1\" class=\"dataframe\">\n",
       "  <thead>\n",
       "    <tr style=\"text-align: right;\">\n",
       "      <th></th>\n",
       "      <th>sepal width (cm)</th>\n",
       "      <th>petal length (cm)</th>\n",
       "      <th>petal width (cm)</th>\n",
       "    </tr>\n",
       "    <tr>\n",
       "      <th>sepal length (cm)</th>\n",
       "      <th></th>\n",
       "      <th></th>\n",
       "      <th></th>\n",
       "    </tr>\n",
       "  </thead>\n",
       "  <tbody>\n",
       "    <tr>\n",
       "      <th>4.3</th>\n",
       "      <td>3.000000</td>\n",
       "      <td>1.100000</td>\n",
       "      <td>0.100000</td>\n",
       "    </tr>\n",
       "    <tr>\n",
       "      <th>4.4</th>\n",
       "      <td>3.033333</td>\n",
       "      <td>1.333333</td>\n",
       "      <td>0.200000</td>\n",
       "    </tr>\n",
       "    <tr>\n",
       "      <th>4.5</th>\n",
       "      <td>2.300000</td>\n",
       "      <td>1.300000</td>\n",
       "      <td>0.300000</td>\n",
       "    </tr>\n",
       "    <tr>\n",
       "      <th>4.6</th>\n",
       "      <td>3.325000</td>\n",
       "      <td>1.325000</td>\n",
       "      <td>0.225000</td>\n",
       "    </tr>\n",
       "    <tr>\n",
       "      <th>4.7</th>\n",
       "      <td>3.200000</td>\n",
       "      <td>1.450000</td>\n",
       "      <td>0.200000</td>\n",
       "    </tr>\n",
       "    <tr>\n",
       "      <th>4.8</th>\n",
       "      <td>3.180000</td>\n",
       "      <td>1.580000</td>\n",
       "      <td>0.200000</td>\n",
       "    </tr>\n",
       "    <tr>\n",
       "      <th>4.9</th>\n",
       "      <td>2.950000</td>\n",
       "      <td>2.266667</td>\n",
       "      <td>0.550000</td>\n",
       "    </tr>\n",
       "    <tr>\n",
       "      <th>5.0</th>\n",
       "      <td>3.120000</td>\n",
       "      <td>1.840000</td>\n",
       "      <td>0.430000</td>\n",
       "    </tr>\n",
       "    <tr>\n",
       "      <th>5.1</th>\n",
       "      <td>3.477778</td>\n",
       "      <td>1.722222</td>\n",
       "      <td>0.400000</td>\n",
       "    </tr>\n",
       "    <tr>\n",
       "      <th>5.2</th>\n",
       "      <td>3.425000</td>\n",
       "      <td>2.075000</td>\n",
       "      <td>0.475000</td>\n",
       "    </tr>\n",
       "    <tr>\n",
       "      <th>5.3</th>\n",
       "      <td>3.700000</td>\n",
       "      <td>1.500000</td>\n",
       "      <td>0.200000</td>\n",
       "    </tr>\n",
       "    <tr>\n",
       "      <th>5.4</th>\n",
       "      <td>3.550000</td>\n",
       "      <td>2.033333</td>\n",
       "      <td>0.516667</td>\n",
       "    </tr>\n",
       "    <tr>\n",
       "      <th>5.5</th>\n",
       "      <td>2.842857</td>\n",
       "      <td>3.228571</td>\n",
       "      <td>0.900000</td>\n",
       "    </tr>\n",
       "    <tr>\n",
       "      <th>5.6</th>\n",
       "      <td>2.816667</td>\n",
       "      <td>4.200000</td>\n",
       "      <td>1.416667</td>\n",
       "    </tr>\n",
       "    <tr>\n",
       "      <th>5.7</th>\n",
       "      <td>3.100000</td>\n",
       "      <td>3.587500</td>\n",
       "      <td>1.100000</td>\n",
       "    </tr>\n",
       "    <tr>\n",
       "      <th>5.8</th>\n",
       "      <td>2.885714</td>\n",
       "      <td>4.071429</td>\n",
       "      <td>1.400000</td>\n",
       "    </tr>\n",
       "    <tr>\n",
       "      <th>5.9</th>\n",
       "      <td>3.066667</td>\n",
       "      <td>4.700000</td>\n",
       "      <td>1.700000</td>\n",
       "    </tr>\n",
       "    <tr>\n",
       "      <th>6.0</th>\n",
       "      <td>2.733333</td>\n",
       "      <td>4.650000</td>\n",
       "      <td>1.500000</td>\n",
       "    </tr>\n",
       "    <tr>\n",
       "      <th>6.1</th>\n",
       "      <td>2.850000</td>\n",
       "      <td>4.750000</td>\n",
       "      <td>1.416667</td>\n",
       "    </tr>\n",
       "    <tr>\n",
       "      <th>6.2</th>\n",
       "      <td>2.825000</td>\n",
       "      <td>4.750000</td>\n",
       "      <td>1.725000</td>\n",
       "    </tr>\n",
       "    <tr>\n",
       "      <th>6.3</th>\n",
       "      <td>2.855556</td>\n",
       "      <td>5.133333</td>\n",
       "      <td>1.811111</td>\n",
       "    </tr>\n",
       "    <tr>\n",
       "      <th>6.4</th>\n",
       "      <td>2.957143</td>\n",
       "      <td>5.157143</td>\n",
       "      <td>1.871429</td>\n",
       "    </tr>\n",
       "    <tr>\n",
       "      <th>6.5</th>\n",
       "      <td>3.000000</td>\n",
       "      <td>5.240000</td>\n",
       "      <td>1.900000</td>\n",
       "    </tr>\n",
       "    <tr>\n",
       "      <th>6.6</th>\n",
       "      <td>2.950000</td>\n",
       "      <td>4.500000</td>\n",
       "      <td>1.350000</td>\n",
       "    </tr>\n",
       "    <tr>\n",
       "      <th>6.7</th>\n",
       "      <td>3.050000</td>\n",
       "      <td>5.262500</td>\n",
       "      <td>1.962500</td>\n",
       "    </tr>\n",
       "    <tr>\n",
       "      <th>6.8</th>\n",
       "      <td>3.000000</td>\n",
       "      <td>5.400000</td>\n",
       "      <td>1.933333</td>\n",
       "    </tr>\n",
       "    <tr>\n",
       "      <th>6.9</th>\n",
       "      <td>3.125000</td>\n",
       "      <td>5.275000</td>\n",
       "      <td>2.050000</td>\n",
       "    </tr>\n",
       "    <tr>\n",
       "      <th>7.0</th>\n",
       "      <td>3.200000</td>\n",
       "      <td>4.700000</td>\n",
       "      <td>1.400000</td>\n",
       "    </tr>\n",
       "    <tr>\n",
       "      <th>7.1</th>\n",
       "      <td>3.000000</td>\n",
       "      <td>5.900000</td>\n",
       "      <td>2.100000</td>\n",
       "    </tr>\n",
       "    <tr>\n",
       "      <th>7.2</th>\n",
       "      <td>3.266667</td>\n",
       "      <td>5.966667</td>\n",
       "      <td>1.966667</td>\n",
       "    </tr>\n",
       "    <tr>\n",
       "      <th>7.3</th>\n",
       "      <td>2.900000</td>\n",
       "      <td>6.300000</td>\n",
       "      <td>1.800000</td>\n",
       "    </tr>\n",
       "    <tr>\n",
       "      <th>7.4</th>\n",
       "      <td>2.800000</td>\n",
       "      <td>6.100000</td>\n",
       "      <td>1.900000</td>\n",
       "    </tr>\n",
       "    <tr>\n",
       "      <th>7.6</th>\n",
       "      <td>3.000000</td>\n",
       "      <td>6.600000</td>\n",
       "      <td>2.100000</td>\n",
       "    </tr>\n",
       "    <tr>\n",
       "      <th>7.7</th>\n",
       "      <td>3.050000</td>\n",
       "      <td>6.600000</td>\n",
       "      <td>2.200000</td>\n",
       "    </tr>\n",
       "    <tr>\n",
       "      <th>7.9</th>\n",
       "      <td>3.800000</td>\n",
       "      <td>6.400000</td>\n",
       "      <td>2.000000</td>\n",
       "    </tr>\n",
       "  </tbody>\n",
       "</table>\n",
       "</div>"
      ],
      "text/plain": [
       "                   sepal width (cm)  petal length (cm)  petal width (cm)\n",
       "sepal length (cm)                                                       \n",
       "4.3                        3.000000           1.100000          0.100000\n",
       "4.4                        3.033333           1.333333          0.200000\n",
       "4.5                        2.300000           1.300000          0.300000\n",
       "4.6                        3.325000           1.325000          0.225000\n",
       "4.7                        3.200000           1.450000          0.200000\n",
       "4.8                        3.180000           1.580000          0.200000\n",
       "4.9                        2.950000           2.266667          0.550000\n",
       "5.0                        3.120000           1.840000          0.430000\n",
       "5.1                        3.477778           1.722222          0.400000\n",
       "5.2                        3.425000           2.075000          0.475000\n",
       "5.3                        3.700000           1.500000          0.200000\n",
       "5.4                        3.550000           2.033333          0.516667\n",
       "5.5                        2.842857           3.228571          0.900000\n",
       "5.6                        2.816667           4.200000          1.416667\n",
       "5.7                        3.100000           3.587500          1.100000\n",
       "5.8                        2.885714           4.071429          1.400000\n",
       "5.9                        3.066667           4.700000          1.700000\n",
       "6.0                        2.733333           4.650000          1.500000\n",
       "6.1                        2.850000           4.750000          1.416667\n",
       "6.2                        2.825000           4.750000          1.725000\n",
       "6.3                        2.855556           5.133333          1.811111\n",
       "6.4                        2.957143           5.157143          1.871429\n",
       "6.5                        3.000000           5.240000          1.900000\n",
       "6.6                        2.950000           4.500000          1.350000\n",
       "6.7                        3.050000           5.262500          1.962500\n",
       "6.8                        3.000000           5.400000          1.933333\n",
       "6.9                        3.125000           5.275000          2.050000\n",
       "7.0                        3.200000           4.700000          1.400000\n",
       "7.1                        3.000000           5.900000          2.100000\n",
       "7.2                        3.266667           5.966667          1.966667\n",
       "7.3                        2.900000           6.300000          1.800000\n",
       "7.4                        2.800000           6.100000          1.900000\n",
       "7.6                        3.000000           6.600000          2.100000\n",
       "7.7                        3.050000           6.600000          2.200000\n",
       "7.9                        3.800000           6.400000          2.000000"
      ]
     },
     "execution_count": 59,
     "metadata": {},
     "output_type": "execute_result"
    }
   ],
   "source": [
    "data_iris.groupby(['sepal length (cm)']).mean()\n",
    "#Kode di atas akan mengelompokkan data pada kolom 'sepal length (cm)' \n",
    "#dan menghitung rata-rata (mean) dari setiap kolom lainnya pada setiap kelompok yang dihasilkan."
   ]
  },
  {
   "cell_type": "code",
   "execution_count": 60,
   "id": "e1d58e42",
   "metadata": {},
   "outputs": [
    {
     "data": {
      "text/html": [
       "<div>\n",
       "<style scoped>\n",
       "    .dataframe tbody tr th:only-of-type {\n",
       "        vertical-align: middle;\n",
       "    }\n",
       "\n",
       "    .dataframe tbody tr th {\n",
       "        vertical-align: top;\n",
       "    }\n",
       "\n",
       "    .dataframe thead th {\n",
       "        text-align: right;\n",
       "    }\n",
       "</style>\n",
       "<table border=\"1\" class=\"dataframe\">\n",
       "  <thead>\n",
       "    <tr style=\"text-align: right;\">\n",
       "      <th></th>\n",
       "      <th>sepal width (cm)</th>\n",
       "      <th>petal length (cm)</th>\n",
       "      <th>petal width (cm)</th>\n",
       "    </tr>\n",
       "    <tr>\n",
       "      <th>sepal length (cm)</th>\n",
       "      <th></th>\n",
       "      <th></th>\n",
       "      <th></th>\n",
       "    </tr>\n",
       "  </thead>\n",
       "  <tbody>\n",
       "    <tr>\n",
       "      <th>4.5</th>\n",
       "      <td>2.300000</td>\n",
       "      <td>1.300000</td>\n",
       "      <td>0.300000</td>\n",
       "    </tr>\n",
       "    <tr>\n",
       "      <th>6.0</th>\n",
       "      <td>2.733333</td>\n",
       "      <td>4.650000</td>\n",
       "      <td>1.500000</td>\n",
       "    </tr>\n",
       "    <tr>\n",
       "      <th>7.4</th>\n",
       "      <td>2.800000</td>\n",
       "      <td>6.100000</td>\n",
       "      <td>1.900000</td>\n",
       "    </tr>\n",
       "    <tr>\n",
       "      <th>5.6</th>\n",
       "      <td>2.816667</td>\n",
       "      <td>4.200000</td>\n",
       "      <td>1.416667</td>\n",
       "    </tr>\n",
       "    <tr>\n",
       "      <th>6.2</th>\n",
       "      <td>2.825000</td>\n",
       "      <td>4.750000</td>\n",
       "      <td>1.725000</td>\n",
       "    </tr>\n",
       "    <tr>\n",
       "      <th>5.5</th>\n",
       "      <td>2.842857</td>\n",
       "      <td>3.228571</td>\n",
       "      <td>0.900000</td>\n",
       "    </tr>\n",
       "    <tr>\n",
       "      <th>6.1</th>\n",
       "      <td>2.850000</td>\n",
       "      <td>4.750000</td>\n",
       "      <td>1.416667</td>\n",
       "    </tr>\n",
       "    <tr>\n",
       "      <th>6.3</th>\n",
       "      <td>2.855556</td>\n",
       "      <td>5.133333</td>\n",
       "      <td>1.811111</td>\n",
       "    </tr>\n",
       "    <tr>\n",
       "      <th>5.8</th>\n",
       "      <td>2.885714</td>\n",
       "      <td>4.071429</td>\n",
       "      <td>1.400000</td>\n",
       "    </tr>\n",
       "    <tr>\n",
       "      <th>7.3</th>\n",
       "      <td>2.900000</td>\n",
       "      <td>6.300000</td>\n",
       "      <td>1.800000</td>\n",
       "    </tr>\n",
       "    <tr>\n",
       "      <th>4.9</th>\n",
       "      <td>2.950000</td>\n",
       "      <td>2.266667</td>\n",
       "      <td>0.550000</td>\n",
       "    </tr>\n",
       "    <tr>\n",
       "      <th>6.6</th>\n",
       "      <td>2.950000</td>\n",
       "      <td>4.500000</td>\n",
       "      <td>1.350000</td>\n",
       "    </tr>\n",
       "    <tr>\n",
       "      <th>6.4</th>\n",
       "      <td>2.957143</td>\n",
       "      <td>5.157143</td>\n",
       "      <td>1.871429</td>\n",
       "    </tr>\n",
       "    <tr>\n",
       "      <th>6.8</th>\n",
       "      <td>3.000000</td>\n",
       "      <td>5.400000</td>\n",
       "      <td>1.933333</td>\n",
       "    </tr>\n",
       "    <tr>\n",
       "      <th>6.5</th>\n",
       "      <td>3.000000</td>\n",
       "      <td>5.240000</td>\n",
       "      <td>1.900000</td>\n",
       "    </tr>\n",
       "    <tr>\n",
       "      <th>7.1</th>\n",
       "      <td>3.000000</td>\n",
       "      <td>5.900000</td>\n",
       "      <td>2.100000</td>\n",
       "    </tr>\n",
       "    <tr>\n",
       "      <th>7.6</th>\n",
       "      <td>3.000000</td>\n",
       "      <td>6.600000</td>\n",
       "      <td>2.100000</td>\n",
       "    </tr>\n",
       "    <tr>\n",
       "      <th>4.3</th>\n",
       "      <td>3.000000</td>\n",
       "      <td>1.100000</td>\n",
       "      <td>0.100000</td>\n",
       "    </tr>\n",
       "    <tr>\n",
       "      <th>4.4</th>\n",
       "      <td>3.033333</td>\n",
       "      <td>1.333333</td>\n",
       "      <td>0.200000</td>\n",
       "    </tr>\n",
       "    <tr>\n",
       "      <th>7.7</th>\n",
       "      <td>3.050000</td>\n",
       "      <td>6.600000</td>\n",
       "      <td>2.200000</td>\n",
       "    </tr>\n",
       "    <tr>\n",
       "      <th>6.7</th>\n",
       "      <td>3.050000</td>\n",
       "      <td>5.262500</td>\n",
       "      <td>1.962500</td>\n",
       "    </tr>\n",
       "    <tr>\n",
       "      <th>5.9</th>\n",
       "      <td>3.066667</td>\n",
       "      <td>4.700000</td>\n",
       "      <td>1.700000</td>\n",
       "    </tr>\n",
       "    <tr>\n",
       "      <th>5.7</th>\n",
       "      <td>3.100000</td>\n",
       "      <td>3.587500</td>\n",
       "      <td>1.100000</td>\n",
       "    </tr>\n",
       "    <tr>\n",
       "      <th>5.0</th>\n",
       "      <td>3.120000</td>\n",
       "      <td>1.840000</td>\n",
       "      <td>0.430000</td>\n",
       "    </tr>\n",
       "    <tr>\n",
       "      <th>6.9</th>\n",
       "      <td>3.125000</td>\n",
       "      <td>5.275000</td>\n",
       "      <td>2.050000</td>\n",
       "    </tr>\n",
       "    <tr>\n",
       "      <th>4.8</th>\n",
       "      <td>3.180000</td>\n",
       "      <td>1.580000</td>\n",
       "      <td>0.200000</td>\n",
       "    </tr>\n",
       "    <tr>\n",
       "      <th>7.0</th>\n",
       "      <td>3.200000</td>\n",
       "      <td>4.700000</td>\n",
       "      <td>1.400000</td>\n",
       "    </tr>\n",
       "    <tr>\n",
       "      <th>4.7</th>\n",
       "      <td>3.200000</td>\n",
       "      <td>1.450000</td>\n",
       "      <td>0.200000</td>\n",
       "    </tr>\n",
       "    <tr>\n",
       "      <th>7.2</th>\n",
       "      <td>3.266667</td>\n",
       "      <td>5.966667</td>\n",
       "      <td>1.966667</td>\n",
       "    </tr>\n",
       "    <tr>\n",
       "      <th>4.6</th>\n",
       "      <td>3.325000</td>\n",
       "      <td>1.325000</td>\n",
       "      <td>0.225000</td>\n",
       "    </tr>\n",
       "    <tr>\n",
       "      <th>5.2</th>\n",
       "      <td>3.425000</td>\n",
       "      <td>2.075000</td>\n",
       "      <td>0.475000</td>\n",
       "    </tr>\n",
       "    <tr>\n",
       "      <th>5.1</th>\n",
       "      <td>3.477778</td>\n",
       "      <td>1.722222</td>\n",
       "      <td>0.400000</td>\n",
       "    </tr>\n",
       "    <tr>\n",
       "      <th>5.4</th>\n",
       "      <td>3.550000</td>\n",
       "      <td>2.033333</td>\n",
       "      <td>0.516667</td>\n",
       "    </tr>\n",
       "    <tr>\n",
       "      <th>5.3</th>\n",
       "      <td>3.700000</td>\n",
       "      <td>1.500000</td>\n",
       "      <td>0.200000</td>\n",
       "    </tr>\n",
       "    <tr>\n",
       "      <th>7.9</th>\n",
       "      <td>3.800000</td>\n",
       "      <td>6.400000</td>\n",
       "      <td>2.000000</td>\n",
       "    </tr>\n",
       "  </tbody>\n",
       "</table>\n",
       "</div>"
      ],
      "text/plain": [
       "                   sepal width (cm)  petal length (cm)  petal width (cm)\n",
       "sepal length (cm)                                                       \n",
       "4.5                        2.300000           1.300000          0.300000\n",
       "6.0                        2.733333           4.650000          1.500000\n",
       "7.4                        2.800000           6.100000          1.900000\n",
       "5.6                        2.816667           4.200000          1.416667\n",
       "6.2                        2.825000           4.750000          1.725000\n",
       "5.5                        2.842857           3.228571          0.900000\n",
       "6.1                        2.850000           4.750000          1.416667\n",
       "6.3                        2.855556           5.133333          1.811111\n",
       "5.8                        2.885714           4.071429          1.400000\n",
       "7.3                        2.900000           6.300000          1.800000\n",
       "4.9                        2.950000           2.266667          0.550000\n",
       "6.6                        2.950000           4.500000          1.350000\n",
       "6.4                        2.957143           5.157143          1.871429\n",
       "6.8                        3.000000           5.400000          1.933333\n",
       "6.5                        3.000000           5.240000          1.900000\n",
       "7.1                        3.000000           5.900000          2.100000\n",
       "7.6                        3.000000           6.600000          2.100000\n",
       "4.3                        3.000000           1.100000          0.100000\n",
       "4.4                        3.033333           1.333333          0.200000\n",
       "7.7                        3.050000           6.600000          2.200000\n",
       "6.7                        3.050000           5.262500          1.962500\n",
       "5.9                        3.066667           4.700000          1.700000\n",
       "5.7                        3.100000           3.587500          1.100000\n",
       "5.0                        3.120000           1.840000          0.430000\n",
       "6.9                        3.125000           5.275000          2.050000\n",
       "4.8                        3.180000           1.580000          0.200000\n",
       "7.0                        3.200000           4.700000          1.400000\n",
       "4.7                        3.200000           1.450000          0.200000\n",
       "7.2                        3.266667           5.966667          1.966667\n",
       "4.6                        3.325000           1.325000          0.225000\n",
       "5.2                        3.425000           2.075000          0.475000\n",
       "5.1                        3.477778           1.722222          0.400000\n",
       "5.4                        3.550000           2.033333          0.516667\n",
       "5.3                        3.700000           1.500000          0.200000\n",
       "7.9                        3.800000           6.400000          2.000000"
      ]
     },
     "execution_count": 60,
     "metadata": {},
     "output_type": "execute_result"
    }
   ],
   "source": [
    "data_iris.groupby(['sepal length (cm)']).mean().sort_values('sepal width (cm)',ascending=True)\n",
    "#Kode di atas akan mengelompokkan data pada kolom 'sepal length (cm)', \n",
    "#menghitung rata-rata dari setiap kolom lainnya pada setiap kelompok yang dihasilkan, \n",
    "#dan kemudian mengurutkan hasil pengelompokan berdasarkan nilai pada kolom 'sepal width (cm)' \n",
    "#dari yang terkecil hingga terbesar (ascending)."
   ]
  },
  {
   "cell_type": "code",
   "execution_count": 61,
   "id": "86feab6a",
   "metadata": {},
   "outputs": [
    {
     "data": {
      "text/html": [
       "<div>\n",
       "<style scoped>\n",
       "    .dataframe tbody tr th:only-of-type {\n",
       "        vertical-align: middle;\n",
       "    }\n",
       "\n",
       "    .dataframe tbody tr th {\n",
       "        vertical-align: top;\n",
       "    }\n",
       "\n",
       "    .dataframe thead th {\n",
       "        text-align: right;\n",
       "    }\n",
       "</style>\n",
       "<table border=\"1\" class=\"dataframe\">\n",
       "  <thead>\n",
       "    <tr style=\"text-align: right;\">\n",
       "      <th></th>\n",
       "      <th>sepal width (cm)</th>\n",
       "      <th>petal length (cm)</th>\n",
       "      <th>petal width (cm)</th>\n",
       "    </tr>\n",
       "    <tr>\n",
       "      <th>sepal length (cm)</th>\n",
       "      <th></th>\n",
       "      <th></th>\n",
       "      <th></th>\n",
       "    </tr>\n",
       "  </thead>\n",
       "  <tbody>\n",
       "    <tr>\n",
       "      <th>7.9</th>\n",
       "      <td>3.800000</td>\n",
       "      <td>6.400000</td>\n",
       "      <td>2.000000</td>\n",
       "    </tr>\n",
       "    <tr>\n",
       "      <th>5.3</th>\n",
       "      <td>3.700000</td>\n",
       "      <td>1.500000</td>\n",
       "      <td>0.200000</td>\n",
       "    </tr>\n",
       "    <tr>\n",
       "      <th>5.4</th>\n",
       "      <td>3.550000</td>\n",
       "      <td>2.033333</td>\n",
       "      <td>0.516667</td>\n",
       "    </tr>\n",
       "    <tr>\n",
       "      <th>5.1</th>\n",
       "      <td>3.477778</td>\n",
       "      <td>1.722222</td>\n",
       "      <td>0.400000</td>\n",
       "    </tr>\n",
       "    <tr>\n",
       "      <th>5.2</th>\n",
       "      <td>3.425000</td>\n",
       "      <td>2.075000</td>\n",
       "      <td>0.475000</td>\n",
       "    </tr>\n",
       "    <tr>\n",
       "      <th>4.6</th>\n",
       "      <td>3.325000</td>\n",
       "      <td>1.325000</td>\n",
       "      <td>0.225000</td>\n",
       "    </tr>\n",
       "    <tr>\n",
       "      <th>7.2</th>\n",
       "      <td>3.266667</td>\n",
       "      <td>5.966667</td>\n",
       "      <td>1.966667</td>\n",
       "    </tr>\n",
       "    <tr>\n",
       "      <th>4.7</th>\n",
       "      <td>3.200000</td>\n",
       "      <td>1.450000</td>\n",
       "      <td>0.200000</td>\n",
       "    </tr>\n",
       "    <tr>\n",
       "      <th>7.0</th>\n",
       "      <td>3.200000</td>\n",
       "      <td>4.700000</td>\n",
       "      <td>1.400000</td>\n",
       "    </tr>\n",
       "    <tr>\n",
       "      <th>4.8</th>\n",
       "      <td>3.180000</td>\n",
       "      <td>1.580000</td>\n",
       "      <td>0.200000</td>\n",
       "    </tr>\n",
       "    <tr>\n",
       "      <th>6.9</th>\n",
       "      <td>3.125000</td>\n",
       "      <td>5.275000</td>\n",
       "      <td>2.050000</td>\n",
       "    </tr>\n",
       "    <tr>\n",
       "      <th>5.0</th>\n",
       "      <td>3.120000</td>\n",
       "      <td>1.840000</td>\n",
       "      <td>0.430000</td>\n",
       "    </tr>\n",
       "    <tr>\n",
       "      <th>5.7</th>\n",
       "      <td>3.100000</td>\n",
       "      <td>3.587500</td>\n",
       "      <td>1.100000</td>\n",
       "    </tr>\n",
       "    <tr>\n",
       "      <th>5.9</th>\n",
       "      <td>3.066667</td>\n",
       "      <td>4.700000</td>\n",
       "      <td>1.700000</td>\n",
       "    </tr>\n",
       "    <tr>\n",
       "      <th>7.7</th>\n",
       "      <td>3.050000</td>\n",
       "      <td>6.600000</td>\n",
       "      <td>2.200000</td>\n",
       "    </tr>\n",
       "    <tr>\n",
       "      <th>6.7</th>\n",
       "      <td>3.050000</td>\n",
       "      <td>5.262500</td>\n",
       "      <td>1.962500</td>\n",
       "    </tr>\n",
       "    <tr>\n",
       "      <th>4.4</th>\n",
       "      <td>3.033333</td>\n",
       "      <td>1.333333</td>\n",
       "      <td>0.200000</td>\n",
       "    </tr>\n",
       "    <tr>\n",
       "      <th>7.1</th>\n",
       "      <td>3.000000</td>\n",
       "      <td>5.900000</td>\n",
       "      <td>2.100000</td>\n",
       "    </tr>\n",
       "    <tr>\n",
       "      <th>6.5</th>\n",
       "      <td>3.000000</td>\n",
       "      <td>5.240000</td>\n",
       "      <td>1.900000</td>\n",
       "    </tr>\n",
       "    <tr>\n",
       "      <th>7.6</th>\n",
       "      <td>3.000000</td>\n",
       "      <td>6.600000</td>\n",
       "      <td>2.100000</td>\n",
       "    </tr>\n",
       "    <tr>\n",
       "      <th>6.8</th>\n",
       "      <td>3.000000</td>\n",
       "      <td>5.400000</td>\n",
       "      <td>1.933333</td>\n",
       "    </tr>\n",
       "    <tr>\n",
       "      <th>4.3</th>\n",
       "      <td>3.000000</td>\n",
       "      <td>1.100000</td>\n",
       "      <td>0.100000</td>\n",
       "    </tr>\n",
       "    <tr>\n",
       "      <th>6.4</th>\n",
       "      <td>2.957143</td>\n",
       "      <td>5.157143</td>\n",
       "      <td>1.871429</td>\n",
       "    </tr>\n",
       "    <tr>\n",
       "      <th>6.6</th>\n",
       "      <td>2.950000</td>\n",
       "      <td>4.500000</td>\n",
       "      <td>1.350000</td>\n",
       "    </tr>\n",
       "    <tr>\n",
       "      <th>4.9</th>\n",
       "      <td>2.950000</td>\n",
       "      <td>2.266667</td>\n",
       "      <td>0.550000</td>\n",
       "    </tr>\n",
       "    <tr>\n",
       "      <th>7.3</th>\n",
       "      <td>2.900000</td>\n",
       "      <td>6.300000</td>\n",
       "      <td>1.800000</td>\n",
       "    </tr>\n",
       "    <tr>\n",
       "      <th>5.8</th>\n",
       "      <td>2.885714</td>\n",
       "      <td>4.071429</td>\n",
       "      <td>1.400000</td>\n",
       "    </tr>\n",
       "    <tr>\n",
       "      <th>6.3</th>\n",
       "      <td>2.855556</td>\n",
       "      <td>5.133333</td>\n",
       "      <td>1.811111</td>\n",
       "    </tr>\n",
       "    <tr>\n",
       "      <th>6.1</th>\n",
       "      <td>2.850000</td>\n",
       "      <td>4.750000</td>\n",
       "      <td>1.416667</td>\n",
       "    </tr>\n",
       "    <tr>\n",
       "      <th>5.5</th>\n",
       "      <td>2.842857</td>\n",
       "      <td>3.228571</td>\n",
       "      <td>0.900000</td>\n",
       "    </tr>\n",
       "    <tr>\n",
       "      <th>6.2</th>\n",
       "      <td>2.825000</td>\n",
       "      <td>4.750000</td>\n",
       "      <td>1.725000</td>\n",
       "    </tr>\n",
       "    <tr>\n",
       "      <th>5.6</th>\n",
       "      <td>2.816667</td>\n",
       "      <td>4.200000</td>\n",
       "      <td>1.416667</td>\n",
       "    </tr>\n",
       "    <tr>\n",
       "      <th>7.4</th>\n",
       "      <td>2.800000</td>\n",
       "      <td>6.100000</td>\n",
       "      <td>1.900000</td>\n",
       "    </tr>\n",
       "    <tr>\n",
       "      <th>6.0</th>\n",
       "      <td>2.733333</td>\n",
       "      <td>4.650000</td>\n",
       "      <td>1.500000</td>\n",
       "    </tr>\n",
       "    <tr>\n",
       "      <th>4.5</th>\n",
       "      <td>2.300000</td>\n",
       "      <td>1.300000</td>\n",
       "      <td>0.300000</td>\n",
       "    </tr>\n",
       "  </tbody>\n",
       "</table>\n",
       "</div>"
      ],
      "text/plain": [
       "                   sepal width (cm)  petal length (cm)  petal width (cm)\n",
       "sepal length (cm)                                                       \n",
       "7.9                        3.800000           6.400000          2.000000\n",
       "5.3                        3.700000           1.500000          0.200000\n",
       "5.4                        3.550000           2.033333          0.516667\n",
       "5.1                        3.477778           1.722222          0.400000\n",
       "5.2                        3.425000           2.075000          0.475000\n",
       "4.6                        3.325000           1.325000          0.225000\n",
       "7.2                        3.266667           5.966667          1.966667\n",
       "4.7                        3.200000           1.450000          0.200000\n",
       "7.0                        3.200000           4.700000          1.400000\n",
       "4.8                        3.180000           1.580000          0.200000\n",
       "6.9                        3.125000           5.275000          2.050000\n",
       "5.0                        3.120000           1.840000          0.430000\n",
       "5.7                        3.100000           3.587500          1.100000\n",
       "5.9                        3.066667           4.700000          1.700000\n",
       "7.7                        3.050000           6.600000          2.200000\n",
       "6.7                        3.050000           5.262500          1.962500\n",
       "4.4                        3.033333           1.333333          0.200000\n",
       "7.1                        3.000000           5.900000          2.100000\n",
       "6.5                        3.000000           5.240000          1.900000\n",
       "7.6                        3.000000           6.600000          2.100000\n",
       "6.8                        3.000000           5.400000          1.933333\n",
       "4.3                        3.000000           1.100000          0.100000\n",
       "6.4                        2.957143           5.157143          1.871429\n",
       "6.6                        2.950000           4.500000          1.350000\n",
       "4.9                        2.950000           2.266667          0.550000\n",
       "7.3                        2.900000           6.300000          1.800000\n",
       "5.8                        2.885714           4.071429          1.400000\n",
       "6.3                        2.855556           5.133333          1.811111\n",
       "6.1                        2.850000           4.750000          1.416667\n",
       "5.5                        2.842857           3.228571          0.900000\n",
       "6.2                        2.825000           4.750000          1.725000\n",
       "5.6                        2.816667           4.200000          1.416667\n",
       "7.4                        2.800000           6.100000          1.900000\n",
       "6.0                        2.733333           4.650000          1.500000\n",
       "4.5                        2.300000           1.300000          0.300000"
      ]
     },
     "execution_count": 61,
     "metadata": {},
     "output_type": "execute_result"
    }
   ],
   "source": [
    "data_iris.groupby(['sepal length (cm)']).mean().sort_values('sepal width (cm)',ascending=False)\n",
    "#Kode di atas akan mengelompokkan data pada kolom 'sepal length (cm)', \n",
    "#menghitung rata-rata dari setiap kolom lainnya pada setiap kelompok yang dihasilkan, \n",
    "#dan kemudian mengurutkan hasil pengelompokan berdasarkan nilai pada kolom 'sepal width (cm)' \n",
    "#dari yang terbesar hingga terkecil (descending)."
   ]
  },
  {
   "cell_type": "code",
   "execution_count": 62,
   "id": "2e4f06d5",
   "metadata": {},
   "outputs": [
    {
     "data": {
      "text/html": [
       "<div>\n",
       "<style scoped>\n",
       "    .dataframe tbody tr th:only-of-type {\n",
       "        vertical-align: middle;\n",
       "    }\n",
       "\n",
       "    .dataframe tbody tr th {\n",
       "        vertical-align: top;\n",
       "    }\n",
       "\n",
       "    .dataframe thead th {\n",
       "        text-align: right;\n",
       "    }\n",
       "</style>\n",
       "<table border=\"1\" class=\"dataframe\">\n",
       "  <thead>\n",
       "    <tr style=\"text-align: right;\">\n",
       "      <th></th>\n",
       "      <th>sepal width (cm)</th>\n",
       "      <th>petal length (cm)</th>\n",
       "      <th>petal width (cm)</th>\n",
       "    </tr>\n",
       "    <tr>\n",
       "      <th>sepal length (cm)</th>\n",
       "      <th></th>\n",
       "      <th></th>\n",
       "      <th></th>\n",
       "    </tr>\n",
       "  </thead>\n",
       "  <tbody>\n",
       "    <tr>\n",
       "      <th>4.3</th>\n",
       "      <td>3.0</td>\n",
       "      <td>1.1</td>\n",
       "      <td>0.1</td>\n",
       "    </tr>\n",
       "    <tr>\n",
       "      <th>4.4</th>\n",
       "      <td>9.1</td>\n",
       "      <td>4.0</td>\n",
       "      <td>0.6</td>\n",
       "    </tr>\n",
       "    <tr>\n",
       "      <th>4.5</th>\n",
       "      <td>2.3</td>\n",
       "      <td>1.3</td>\n",
       "      <td>0.3</td>\n",
       "    </tr>\n",
       "    <tr>\n",
       "      <th>4.6</th>\n",
       "      <td>13.3</td>\n",
       "      <td>5.3</td>\n",
       "      <td>0.9</td>\n",
       "    </tr>\n",
       "    <tr>\n",
       "      <th>4.7</th>\n",
       "      <td>6.4</td>\n",
       "      <td>2.9</td>\n",
       "      <td>0.4</td>\n",
       "    </tr>\n",
       "    <tr>\n",
       "      <th>4.8</th>\n",
       "      <td>15.9</td>\n",
       "      <td>7.9</td>\n",
       "      <td>1.0</td>\n",
       "    </tr>\n",
       "    <tr>\n",
       "      <th>4.9</th>\n",
       "      <td>17.7</td>\n",
       "      <td>13.6</td>\n",
       "      <td>3.3</td>\n",
       "    </tr>\n",
       "    <tr>\n",
       "      <th>5.0</th>\n",
       "      <td>31.2</td>\n",
       "      <td>18.4</td>\n",
       "      <td>4.3</td>\n",
       "    </tr>\n",
       "    <tr>\n",
       "      <th>5.1</th>\n",
       "      <td>31.3</td>\n",
       "      <td>15.5</td>\n",
       "      <td>3.6</td>\n",
       "    </tr>\n",
       "    <tr>\n",
       "      <th>5.2</th>\n",
       "      <td>13.7</td>\n",
       "      <td>8.3</td>\n",
       "      <td>1.9</td>\n",
       "    </tr>\n",
       "    <tr>\n",
       "      <th>5.3</th>\n",
       "      <td>3.7</td>\n",
       "      <td>1.5</td>\n",
       "      <td>0.2</td>\n",
       "    </tr>\n",
       "    <tr>\n",
       "      <th>5.4</th>\n",
       "      <td>21.3</td>\n",
       "      <td>12.2</td>\n",
       "      <td>3.1</td>\n",
       "    </tr>\n",
       "    <tr>\n",
       "      <th>5.5</th>\n",
       "      <td>19.9</td>\n",
       "      <td>22.6</td>\n",
       "      <td>6.3</td>\n",
       "    </tr>\n",
       "    <tr>\n",
       "      <th>5.6</th>\n",
       "      <td>16.9</td>\n",
       "      <td>25.2</td>\n",
       "      <td>8.5</td>\n",
       "    </tr>\n",
       "    <tr>\n",
       "      <th>5.7</th>\n",
       "      <td>24.8</td>\n",
       "      <td>28.7</td>\n",
       "      <td>8.8</td>\n",
       "    </tr>\n",
       "    <tr>\n",
       "      <th>5.8</th>\n",
       "      <td>20.2</td>\n",
       "      <td>28.5</td>\n",
       "      <td>9.8</td>\n",
       "    </tr>\n",
       "    <tr>\n",
       "      <th>5.9</th>\n",
       "      <td>9.2</td>\n",
       "      <td>14.1</td>\n",
       "      <td>5.1</td>\n",
       "    </tr>\n",
       "    <tr>\n",
       "      <th>6.0</th>\n",
       "      <td>16.4</td>\n",
       "      <td>27.9</td>\n",
       "      <td>9.0</td>\n",
       "    </tr>\n",
       "    <tr>\n",
       "      <th>6.1</th>\n",
       "      <td>17.1</td>\n",
       "      <td>28.5</td>\n",
       "      <td>8.5</td>\n",
       "    </tr>\n",
       "    <tr>\n",
       "      <th>6.2</th>\n",
       "      <td>11.3</td>\n",
       "      <td>19.0</td>\n",
       "      <td>6.9</td>\n",
       "    </tr>\n",
       "    <tr>\n",
       "      <th>6.3</th>\n",
       "      <td>25.7</td>\n",
       "      <td>46.2</td>\n",
       "      <td>16.3</td>\n",
       "    </tr>\n",
       "    <tr>\n",
       "      <th>6.4</th>\n",
       "      <td>20.7</td>\n",
       "      <td>36.1</td>\n",
       "      <td>13.1</td>\n",
       "    </tr>\n",
       "    <tr>\n",
       "      <th>6.5</th>\n",
       "      <td>15.0</td>\n",
       "      <td>26.2</td>\n",
       "      <td>9.5</td>\n",
       "    </tr>\n",
       "    <tr>\n",
       "      <th>6.6</th>\n",
       "      <td>5.9</td>\n",
       "      <td>9.0</td>\n",
       "      <td>2.7</td>\n",
       "    </tr>\n",
       "    <tr>\n",
       "      <th>6.7</th>\n",
       "      <td>24.4</td>\n",
       "      <td>42.1</td>\n",
       "      <td>15.7</td>\n",
       "    </tr>\n",
       "    <tr>\n",
       "      <th>6.8</th>\n",
       "      <td>9.0</td>\n",
       "      <td>16.2</td>\n",
       "      <td>5.8</td>\n",
       "    </tr>\n",
       "    <tr>\n",
       "      <th>6.9</th>\n",
       "      <td>12.5</td>\n",
       "      <td>21.1</td>\n",
       "      <td>8.2</td>\n",
       "    </tr>\n",
       "    <tr>\n",
       "      <th>7.0</th>\n",
       "      <td>3.2</td>\n",
       "      <td>4.7</td>\n",
       "      <td>1.4</td>\n",
       "    </tr>\n",
       "    <tr>\n",
       "      <th>7.1</th>\n",
       "      <td>3.0</td>\n",
       "      <td>5.9</td>\n",
       "      <td>2.1</td>\n",
       "    </tr>\n",
       "    <tr>\n",
       "      <th>7.2</th>\n",
       "      <td>9.8</td>\n",
       "      <td>17.9</td>\n",
       "      <td>5.9</td>\n",
       "    </tr>\n",
       "    <tr>\n",
       "      <th>7.3</th>\n",
       "      <td>2.9</td>\n",
       "      <td>6.3</td>\n",
       "      <td>1.8</td>\n",
       "    </tr>\n",
       "    <tr>\n",
       "      <th>7.4</th>\n",
       "      <td>2.8</td>\n",
       "      <td>6.1</td>\n",
       "      <td>1.9</td>\n",
       "    </tr>\n",
       "    <tr>\n",
       "      <th>7.6</th>\n",
       "      <td>3.0</td>\n",
       "      <td>6.6</td>\n",
       "      <td>2.1</td>\n",
       "    </tr>\n",
       "    <tr>\n",
       "      <th>7.7</th>\n",
       "      <td>12.2</td>\n",
       "      <td>26.4</td>\n",
       "      <td>8.8</td>\n",
       "    </tr>\n",
       "    <tr>\n",
       "      <th>7.9</th>\n",
       "      <td>3.8</td>\n",
       "      <td>6.4</td>\n",
       "      <td>2.0</td>\n",
       "    </tr>\n",
       "  </tbody>\n",
       "</table>\n",
       "</div>"
      ],
      "text/plain": [
       "                   sepal width (cm)  petal length (cm)  petal width (cm)\n",
       "sepal length (cm)                                                       \n",
       "4.3                             3.0                1.1               0.1\n",
       "4.4                             9.1                4.0               0.6\n",
       "4.5                             2.3                1.3               0.3\n",
       "4.6                            13.3                5.3               0.9\n",
       "4.7                             6.4                2.9               0.4\n",
       "4.8                            15.9                7.9               1.0\n",
       "4.9                            17.7               13.6               3.3\n",
       "5.0                            31.2               18.4               4.3\n",
       "5.1                            31.3               15.5               3.6\n",
       "5.2                            13.7                8.3               1.9\n",
       "5.3                             3.7                1.5               0.2\n",
       "5.4                            21.3               12.2               3.1\n",
       "5.5                            19.9               22.6               6.3\n",
       "5.6                            16.9               25.2               8.5\n",
       "5.7                            24.8               28.7               8.8\n",
       "5.8                            20.2               28.5               9.8\n",
       "5.9                             9.2               14.1               5.1\n",
       "6.0                            16.4               27.9               9.0\n",
       "6.1                            17.1               28.5               8.5\n",
       "6.2                            11.3               19.0               6.9\n",
       "6.3                            25.7               46.2              16.3\n",
       "6.4                            20.7               36.1              13.1\n",
       "6.5                            15.0               26.2               9.5\n",
       "6.6                             5.9                9.0               2.7\n",
       "6.7                            24.4               42.1              15.7\n",
       "6.8                             9.0               16.2               5.8\n",
       "6.9                            12.5               21.1               8.2\n",
       "7.0                             3.2                4.7               1.4\n",
       "7.1                             3.0                5.9               2.1\n",
       "7.2                             9.8               17.9               5.9\n",
       "7.3                             2.9                6.3               1.8\n",
       "7.4                             2.8                6.1               1.9\n",
       "7.6                             3.0                6.6               2.1\n",
       "7.7                            12.2               26.4               8.8\n",
       "7.9                             3.8                6.4               2.0"
      ]
     },
     "execution_count": 62,
     "metadata": {},
     "output_type": "execute_result"
    }
   ],
   "source": [
    "data_iris.groupby(['sepal length (cm)']).sum()\n",
    "#Kode di atas akan mengelompokkan data pada kolom 'sepal length (cm)', \n",
    "#menghitung jumlah dari setiap kolom lainnya pada setiap kelompok yang dihasilkan."
   ]
  },
  {
   "cell_type": "code",
   "execution_count": 63,
   "id": "6e2d5509",
   "metadata": {},
   "outputs": [
    {
     "data": {
      "text/html": [
       "<div>\n",
       "<style scoped>\n",
       "    .dataframe tbody tr th:only-of-type {\n",
       "        vertical-align: middle;\n",
       "    }\n",
       "\n",
       "    .dataframe tbody tr th {\n",
       "        vertical-align: top;\n",
       "    }\n",
       "\n",
       "    .dataframe thead th {\n",
       "        text-align: right;\n",
       "    }\n",
       "</style>\n",
       "<table border=\"1\" class=\"dataframe\">\n",
       "  <thead>\n",
       "    <tr style=\"text-align: right;\">\n",
       "      <th></th>\n",
       "      <th>sepal width (cm)</th>\n",
       "      <th>petal length (cm)</th>\n",
       "      <th>petal width (cm)</th>\n",
       "    </tr>\n",
       "    <tr>\n",
       "      <th>sepal length (cm)</th>\n",
       "      <th></th>\n",
       "      <th></th>\n",
       "      <th></th>\n",
       "    </tr>\n",
       "  </thead>\n",
       "  <tbody>\n",
       "    <tr>\n",
       "      <th>4.3</th>\n",
       "      <td>1</td>\n",
       "      <td>1</td>\n",
       "      <td>1</td>\n",
       "    </tr>\n",
       "    <tr>\n",
       "      <th>4.4</th>\n",
       "      <td>3</td>\n",
       "      <td>3</td>\n",
       "      <td>3</td>\n",
       "    </tr>\n",
       "    <tr>\n",
       "      <th>4.5</th>\n",
       "      <td>1</td>\n",
       "      <td>1</td>\n",
       "      <td>1</td>\n",
       "    </tr>\n",
       "    <tr>\n",
       "      <th>4.6</th>\n",
       "      <td>4</td>\n",
       "      <td>4</td>\n",
       "      <td>4</td>\n",
       "    </tr>\n",
       "    <tr>\n",
       "      <th>4.7</th>\n",
       "      <td>2</td>\n",
       "      <td>2</td>\n",
       "      <td>2</td>\n",
       "    </tr>\n",
       "    <tr>\n",
       "      <th>4.8</th>\n",
       "      <td>5</td>\n",
       "      <td>5</td>\n",
       "      <td>5</td>\n",
       "    </tr>\n",
       "    <tr>\n",
       "      <th>4.9</th>\n",
       "      <td>6</td>\n",
       "      <td>6</td>\n",
       "      <td>6</td>\n",
       "    </tr>\n",
       "    <tr>\n",
       "      <th>5.0</th>\n",
       "      <td>10</td>\n",
       "      <td>10</td>\n",
       "      <td>10</td>\n",
       "    </tr>\n",
       "    <tr>\n",
       "      <th>5.1</th>\n",
       "      <td>9</td>\n",
       "      <td>9</td>\n",
       "      <td>9</td>\n",
       "    </tr>\n",
       "    <tr>\n",
       "      <th>5.2</th>\n",
       "      <td>4</td>\n",
       "      <td>4</td>\n",
       "      <td>4</td>\n",
       "    </tr>\n",
       "    <tr>\n",
       "      <th>5.3</th>\n",
       "      <td>1</td>\n",
       "      <td>1</td>\n",
       "      <td>1</td>\n",
       "    </tr>\n",
       "    <tr>\n",
       "      <th>5.4</th>\n",
       "      <td>6</td>\n",
       "      <td>6</td>\n",
       "      <td>6</td>\n",
       "    </tr>\n",
       "    <tr>\n",
       "      <th>5.5</th>\n",
       "      <td>7</td>\n",
       "      <td>7</td>\n",
       "      <td>7</td>\n",
       "    </tr>\n",
       "    <tr>\n",
       "      <th>5.6</th>\n",
       "      <td>6</td>\n",
       "      <td>6</td>\n",
       "      <td>6</td>\n",
       "    </tr>\n",
       "    <tr>\n",
       "      <th>5.7</th>\n",
       "      <td>8</td>\n",
       "      <td>8</td>\n",
       "      <td>8</td>\n",
       "    </tr>\n",
       "    <tr>\n",
       "      <th>5.8</th>\n",
       "      <td>7</td>\n",
       "      <td>7</td>\n",
       "      <td>7</td>\n",
       "    </tr>\n",
       "    <tr>\n",
       "      <th>5.9</th>\n",
       "      <td>3</td>\n",
       "      <td>3</td>\n",
       "      <td>3</td>\n",
       "    </tr>\n",
       "    <tr>\n",
       "      <th>6.0</th>\n",
       "      <td>6</td>\n",
       "      <td>6</td>\n",
       "      <td>6</td>\n",
       "    </tr>\n",
       "    <tr>\n",
       "      <th>6.1</th>\n",
       "      <td>6</td>\n",
       "      <td>6</td>\n",
       "      <td>6</td>\n",
       "    </tr>\n",
       "    <tr>\n",
       "      <th>6.2</th>\n",
       "      <td>4</td>\n",
       "      <td>4</td>\n",
       "      <td>4</td>\n",
       "    </tr>\n",
       "    <tr>\n",
       "      <th>6.3</th>\n",
       "      <td>9</td>\n",
       "      <td>9</td>\n",
       "      <td>9</td>\n",
       "    </tr>\n",
       "    <tr>\n",
       "      <th>6.4</th>\n",
       "      <td>7</td>\n",
       "      <td>7</td>\n",
       "      <td>7</td>\n",
       "    </tr>\n",
       "    <tr>\n",
       "      <th>6.5</th>\n",
       "      <td>5</td>\n",
       "      <td>5</td>\n",
       "      <td>5</td>\n",
       "    </tr>\n",
       "    <tr>\n",
       "      <th>6.6</th>\n",
       "      <td>2</td>\n",
       "      <td>2</td>\n",
       "      <td>2</td>\n",
       "    </tr>\n",
       "    <tr>\n",
       "      <th>6.7</th>\n",
       "      <td>8</td>\n",
       "      <td>8</td>\n",
       "      <td>8</td>\n",
       "    </tr>\n",
       "    <tr>\n",
       "      <th>6.8</th>\n",
       "      <td>3</td>\n",
       "      <td>3</td>\n",
       "      <td>3</td>\n",
       "    </tr>\n",
       "    <tr>\n",
       "      <th>6.9</th>\n",
       "      <td>4</td>\n",
       "      <td>4</td>\n",
       "      <td>4</td>\n",
       "    </tr>\n",
       "    <tr>\n",
       "      <th>7.0</th>\n",
       "      <td>1</td>\n",
       "      <td>1</td>\n",
       "      <td>1</td>\n",
       "    </tr>\n",
       "    <tr>\n",
       "      <th>7.1</th>\n",
       "      <td>1</td>\n",
       "      <td>1</td>\n",
       "      <td>1</td>\n",
       "    </tr>\n",
       "    <tr>\n",
       "      <th>7.2</th>\n",
       "      <td>3</td>\n",
       "      <td>3</td>\n",
       "      <td>3</td>\n",
       "    </tr>\n",
       "    <tr>\n",
       "      <th>7.3</th>\n",
       "      <td>1</td>\n",
       "      <td>1</td>\n",
       "      <td>1</td>\n",
       "    </tr>\n",
       "    <tr>\n",
       "      <th>7.4</th>\n",
       "      <td>1</td>\n",
       "      <td>1</td>\n",
       "      <td>1</td>\n",
       "    </tr>\n",
       "    <tr>\n",
       "      <th>7.6</th>\n",
       "      <td>1</td>\n",
       "      <td>1</td>\n",
       "      <td>1</td>\n",
       "    </tr>\n",
       "    <tr>\n",
       "      <th>7.7</th>\n",
       "      <td>4</td>\n",
       "      <td>4</td>\n",
       "      <td>4</td>\n",
       "    </tr>\n",
       "    <tr>\n",
       "      <th>7.9</th>\n",
       "      <td>1</td>\n",
       "      <td>1</td>\n",
       "      <td>1</td>\n",
       "    </tr>\n",
       "  </tbody>\n",
       "</table>\n",
       "</div>"
      ],
      "text/plain": [
       "                   sepal width (cm)  petal length (cm)  petal width (cm)\n",
       "sepal length (cm)                                                       \n",
       "4.3                               1                  1                 1\n",
       "4.4                               3                  3                 3\n",
       "4.5                               1                  1                 1\n",
       "4.6                               4                  4                 4\n",
       "4.7                               2                  2                 2\n",
       "4.8                               5                  5                 5\n",
       "4.9                               6                  6                 6\n",
       "5.0                              10                 10                10\n",
       "5.1                               9                  9                 9\n",
       "5.2                               4                  4                 4\n",
       "5.3                               1                  1                 1\n",
       "5.4                               6                  6                 6\n",
       "5.5                               7                  7                 7\n",
       "5.6                               6                  6                 6\n",
       "5.7                               8                  8                 8\n",
       "5.8                               7                  7                 7\n",
       "5.9                               3                  3                 3\n",
       "6.0                               6                  6                 6\n",
       "6.1                               6                  6                 6\n",
       "6.2                               4                  4                 4\n",
       "6.3                               9                  9                 9\n",
       "6.4                               7                  7                 7\n",
       "6.5                               5                  5                 5\n",
       "6.6                               2                  2                 2\n",
       "6.7                               8                  8                 8\n",
       "6.8                               3                  3                 3\n",
       "6.9                               4                  4                 4\n",
       "7.0                               1                  1                 1\n",
       "7.1                               1                  1                 1\n",
       "7.2                               3                  3                 3\n",
       "7.3                               1                  1                 1\n",
       "7.4                               1                  1                 1\n",
       "7.6                               1                  1                 1\n",
       "7.7                               4                  4                 4\n",
       "7.9                               1                  1                 1"
      ]
     },
     "execution_count": 63,
     "metadata": {},
     "output_type": "execute_result"
    }
   ],
   "source": [
    "data_iris.groupby(['sepal length (cm)']).count()\n",
    "#Kode di atas akan mengelompokkan data pada kolom 'sepal length (cm)', \n",
    "#dan menghitung jumlah baris dalam setiap kelompok yang dihasilkan."
   ]
  },
  {
   "cell_type": "markdown",
   "id": "1d6f61e8",
   "metadata": {},
   "source": [
    "# 5.22 Matplotlib\n",
    "#### Matplotlib juga merupakan Library pada Pyhton yang fungsi utamanya adalah menggambar grafik, histogram dan berbagai jenis plot hasil dari pengolahan data menggunakan Library lainnya yaitu Pandas dan Numpy. Untuk itu penggunaan ketiga Library ini biasanya menjadi satu kesatuan. Hal pertama yang perlu dilakukan adalah memanggil ketiga jenis Library tersebut seperti program berikut ini."
   ]
  },
  {
   "cell_type": "code",
   "execution_count": 64,
   "id": "56a41a4f",
   "metadata": {},
   "outputs": [],
   "source": [
    "import matplotlib.pyplot as plt"
   ]
  },
  {
   "cell_type": "markdown",
   "id": "716caf9d",
   "metadata": {},
   "source": [
    "# 5.22.1 Grafik Sederhana dengan Matplotlib"
   ]
  },
  {
   "cell_type": "code",
   "execution_count": 65,
   "id": "aff2d035",
   "metadata": {},
   "outputs": [],
   "source": [
    "x=[1,2,3,4,5]\n",
    "y=[2,4,6,8,10]"
   ]
  },
  {
   "cell_type": "code",
   "execution_count": 66,
   "id": "e7502f4f",
   "metadata": {},
   "outputs": [
    {
     "data": {
      "text/plain": [
       "Text(0, 0.5, 'Y')"
      ]
     },
     "execution_count": 66,
     "metadata": {},
     "output_type": "execute_result"
    },
    {
     "data": {
      "image/png": "[encoded data removed]",
      "text/plain": [
       "<Figure size 640x480 with 1 Axes>"
      ]
     },
     "metadata": {},
     "output_type": "display_data"
    }
   ],
   "source": [
    "plt.plot(x,y)\n",
    "plt.title('Grafik y=2x')\n",
    "plt.xlabel('X')\n",
    "plt.ylabel('Y')\n",
    "#Kode di atas akan membuat sebuah grafik berdasarkan nilai x dan y yang telah ditentukan. \n",
    "#Setelah itu terdapat judul, label sumbu x, dan label sumbu y pada grafik."
   ]
  },
  {
   "cell_type": "code",
   "execution_count": 67,
   "id": "f4c44c3d",
   "metadata": {},
   "outputs": [],
   "source": [
    "x=[1,2,3,4,5]\n",
    "y=[3,6,9,12,15]"
   ]
  },
  {
   "cell_type": "code",
   "execution_count": 68,
   "id": "73a86f08",
   "metadata": {},
   "outputs": [
    {
     "data": {
      "text/plain": [
       "Text(0, 0.5, 'Y')"
      ]
     },
     "execution_count": 68,
     "metadata": {},
     "output_type": "execute_result"
    },
    {
     "data": {
      "image/png": "[encoded data removed]",
      "text/plain": [
       "<Figure size 640x480 with 1 Axes>"
      ]
     },
     "metadata": {},
     "output_type": "display_data"
    }
   ],
   "source": [
    "plt.plot(x,y)\n",
    "plt.title('Grafik y=3x')\n",
    "plt.xlabel('X')\n",
    "plt.ylabel('Y')"
   ]
  },
  {
   "cell_type": "code",
   "execution_count": 69,
   "id": "24e21486",
   "metadata": {},
   "outputs": [],
   "source": [
    "petal_length=[1.6,1.5,1.4]\n",
    "petal_width=[0.2,0.4,0.3]"
   ]
  },
  {
   "cell_type": "code",
   "execution_count": 70,
   "id": "a1ba0a26",
   "metadata": {},
   "outputs": [
    {
     "data": {
      "text/plain": [
       "Text(0, 0.5, 'petal_width')"
      ]
     },
     "execution_count": 70,
     "metadata": {},
     "output_type": "execute_result"
    },
    {
     "data": {
      "image/png": "[encoded data removed]",
      "text/plain": [
       "<Figure size 640x480 with 1 Axes>"
      ]
     },
     "metadata": {},
     "output_type": "display_data"
    }
   ],
   "source": [
    "plt.plot(x,y)\n",
    "plt.title('Petal Length dan Width')\n",
    "plt.xlabel('petal_length')\n",
    "plt.ylabel('petal_width')"
   ]
  },
  {
   "cell_type": "markdown",
   "id": "92f03f9a",
   "metadata": {},
   "source": [
    "# 5.22.2 Properti Pembuatan Grafik dengan Matplotlib"
   ]
  },
  {
   "cell_type": "code",
   "execution_count": 71,
   "id": "23694f27",
   "metadata": {},
   "outputs": [],
   "source": [
    "x = [-7,-6,-5,-4,-3,-2,-1,0,1,2,3,4,5,6,7]"
   ]
  },
  {
   "cell_type": "code",
   "execution_count": 72,
   "id": "16acded8",
   "metadata": {},
   "outputs": [],
   "source": [
    "y = [49,36,25,16,9,4,1,0,1,4,9,16,25,36,49]"
   ]
  },
  {
   "cell_type": "code",
   "execution_count": 73,
   "id": "cfacac0d",
   "metadata": {},
   "outputs": [],
   "source": [
    "x1 = {-2,-1,0,1,2,3,4,5,6,7}"
   ]
  },
  {
   "cell_type": "code",
   "execution_count": 79,
   "id": "0aeee993",
   "metadata": {},
   "outputs": [],
   "source": [
    "y1 = [-3,1,5,9,13,17,21,25,29,33]"
   ]
  },
  {
   "cell_type": "code",
   "execution_count": 75,
   "id": "ce0c31e8",
   "metadata": {},
   "outputs": [
    {
     "data": {
      "text/plain": [
       "<Figure size 600x600 with 0 Axes>"
      ]
     },
     "execution_count": 75,
     "metadata": {},
     "output_type": "execute_result"
    },
    {
     "data": {
      "text/plain": [
       "<Figure size 600x600 with 0 Axes>"
      ]
     },
     "metadata": {},
     "output_type": "display_data"
    }
   ],
   "source": [
    "plt.figure(figsize=(2,2),dpi=300)\n",
    "#kode di atas adalah perintah untuk membuat objek gambar baru dengan ukuran 2 inci untuk lebar dan tinggi, \n",
    "#serta resolusi (dpi (dots per inch)) sebesar 300. Ukuran gambar ditentukan oleh figsize=(2,2), \n",
    "#dengan nilai pertama 2 sebagai ukuran lebar, dan nilai kedua 2 sebagai ukuran tinggi. Ukuran gambar diukur dalam satuan inci."
   ]
  },
  {
   "cell_type": "code",
   "execution_count": 76,
   "id": "1e4fcff7",
   "metadata": {},
   "outputs": [
    {
     "data": {
      "text/plain": [
       "[<matplotlib.lines.Line2D at 0x260e8b1eca0>]"
      ]
     },
     "execution_count": 76,
     "metadata": {},
     "output_type": "execute_result"
    },
    {
     "data": {
      "image/png": "[encoded data removed]",
      "text/plain": [
       "<Figure size 640x480 with 1 Axes>"
      ]
     },
     "metadata": {},
     "output_type": "display_data"
    }
   ],
   "source": [
    "plt.plot(x,y,label='y=x^2',color='green',linewidth=3,marker='.',markersize=10,markeredgecolor='red',linestyle='-.')\n",
    "#x adalah data untuk sumbu x.\n",
    "#y adalah data untuk sumbu y.\n",
    "#label adalah label atau legenda yang diberikan pada garis yang dihasilkan. Pada kode ini, garis akan diberi label \"y=x^2\".\n",
    "#color adalah warna garis yang dihasilkan. Pada kode ini, garis akan berwarna hijau ('green').\n",
    "#linewidth adalah ketebalan garis yang dihasilkan. Pada kode ini, ketebalan garis akan disetel menjadi 3.\n",
    "#marker adalah simbol yang diberikan pada setiap titik data. Pada kode ini, simbol titik ('.') akan digunakan.\n",
    "#markersize adalah ukuran simbol yang diberikan pada setiap titik data. Pada kode ini, ukuran simbol akan disetel menjadi 10.\n",
    "#markeredgecolor adalah warna tepi dari simbol yang diberikan pada setiap titik data. Pada kode ini, warna tepi simbol akan disetel menjadi merah ('red').\n",
    "#linestyle adalah jenis garis yang dihasilkan. Pada kode ini, garis akan berjenis garis putus-putus ('-.')."
   ]
  },
  {
   "cell_type": "code",
   "execution_count": 77,
   "id": "9df16347",
   "metadata": {},
   "outputs": [
    {
     "data": {
      "text/plain": [
       "[<matplotlib.lines.Line2D at 0x260e8c3a700>]"
      ]
     },
     "execution_count": 77,
     "metadata": {},
     "output_type": "execute_result"
    },
    {
     "data": {
      "image/png": "[encoded data removed]",
      "text/plain": [
       "<Figure size 640x480 with 1 Axes>"
      ]
     },
     "metadata": {},
     "output_type": "display_data"
    }
   ],
   "source": [
    "plt.plot(x,y,label='y=x^2',color='black',linewidth=1,marker='.',markersize=10,markeredgecolor='red',linestyle='-')"
   ]
  },
  {
   "cell_type": "code",
   "execution_count": 81,
   "id": "623f35b4",
   "metadata": {},
   "outputs": [
    {
     "data": {
      "text/plain": [
       "[<matplotlib.lines.Line2D at 0x260e905aca0>]"
      ]
     },
     "execution_count": 81,
     "metadata": {},
     "output_type": "execute_result"
    },
    {
     "data": {
      "image/png": "[encoded data removed]",
      "text/plain": [
       "<Figure size 640x480 with 1 Axes>"
      ]
     },
     "metadata": {},
     "output_type": "display_data"
    }
   ],
   "source": [
    "plt.plot(x,y)\n",
    "#plt.plot(x1,y1) adalah perintah untuk membuat grafik dengan menggunakan data x1 sebagai data untuk sumbu x \n",
    "#dan data y1 sebagai data untuk sumbu y."
   ]
  },
  {
   "cell_type": "code",
   "execution_count": 84,
   "id": "1503284a",
   "metadata": {},
   "outputs": [
    {
     "data": {
      "text/plain": [
       "Text(0.5, 1.0, 'Grafik y=x^2')"
      ]
     },
     "execution_count": 84,
     "metadata": {},
     "output_type": "execute_result"
    },
    {
     "data": {
      "image/png": "[encoded data removed]",
      "text/plain": [
       "<Figure size 640x480 with 1 Axes>"
      ]
     },
     "metadata": {},
     "output_type": "display_data"
    }
   ],
   "source": [
    "plt.title('Grafik y=x^2',fontdict={'fontname':'Comic Sans MS','fontsize':22})\n",
    "#Kode di atas pada parameter pertama, yaitu 'Grafik y=x^2' adalah judul pada grafik.\n",
    "#Sedangkan fontdict={'fontname':'Comic Sans MS','fontsize':22}, berisi konfigurasi font dan ukuran font \n",
    "#yang digunakan pada judul grafik. Konfigurasi font diatur dengan 'fontname':'Comic Sans MS', \n",
    "#dimana font yang digunakan adalah Comic Sans MS. Konfigurasi ukuran font diatur dengan 'fontsize':22, \n",
    "#dimana ukuran font yang digunakan adalah 22."
   ]
  },
  {
   "cell_type": "code",
   "execution_count": 88,
   "id": "73e8d747",
   "metadata": {},
   "outputs": [
    {
     "data": {
      "text/plain": [
       "Text(0.5, 0, 'X')"
      ]
     },
     "execution_count": 88,
     "metadata": {},
     "output_type": "execute_result"
    },
    {
     "data": {
      "image/png": "[encoded data removed]",
      "text/plain": [
       "<Figure size 640x480 with 1 Axes>"
      ]
     },
     "metadata": {},
     "output_type": "display_data"
    }
   ],
   "source": [
    "plt.xlabel('X', fontdict={'fontname': 'Arial', 'fontsize': 20})\n",
    "#Kode di atas berfungsi untuk menambahkan label pada sumbu x dari grafik. \n",
    "#Pada parameter pertama yaitu 'X', diisi dengan teks label yang ingin ditampilkan pada sumbu x. \n",
    "#Pada parameter kedua, yaitu fontdict={'fontname':'Arial','fontsize':20}, \n",
    "#berisi konfigurasi font dan ukuran font yang digunakan pada label sumbu x. Konfigurasi font diatur dengan 'fontname': 'Arial', dimana font yang digunakan adalah Arial. \n",
    "#Konfigurasi ukuran font diatur dengan 'fontsize': 20, dimana ukuran font yang digunakan adalah 20."
   ]
  },
  {
   "cell_type": "code",
   "execution_count": 90,
   "id": "e4f28d1f",
   "metadata": {},
   "outputs": [
    {
     "data": {
      "text/plain": [
       "Text(0, 0.5, 'Y')"
      ]
     },
     "execution_count": 90,
     "metadata": {},
     "output_type": "execute_result"
    },
    {
     "data": {
      "image/png": "[encoded data removed]",
      "text/plain": [
       "<Figure size 640x480 with 1 Axes>"
      ]
     },
     "metadata": {},
     "output_type": "display_data"
    }
   ],
   "source": [
    "plt.ylabel('Y',fontdict={'fontname':'Arial','fontsize':30})"
   ]
  },
  {
   "cell_type": "code",
   "execution_count": 91,
   "id": "fd9f861a",
   "metadata": {},
   "outputs": [
    {
     "data": {
      "text/plain": [
       "([<matplotlib.axis.XTick at 0x260e90f3160>,\n",
       "  <matplotlib.axis.XTick at 0x260e90f3130>,\n",
       "  <matplotlib.axis.XTick at 0x260e90e8820>,\n",
       "  <matplotlib.axis.XTick at 0x260e911ab80>,\n",
       "  <matplotlib.axis.XTick at 0x260e9127310>,\n",
       "  <matplotlib.axis.XTick at 0x260e9127a60>,\n",
       "  <matplotlib.axis.XTick at 0x260e912b1f0>,\n",
       "  <matplotlib.axis.XTick at 0x260e9127d30>,\n",
       "  <matplotlib.axis.XTick at 0x260e911ac40>,\n",
       "  <matplotlib.axis.XTick at 0x260e912bca0>,\n",
       "  <matplotlib.axis.XTick at 0x260e9132430>,\n",
       "  <matplotlib.axis.XTick at 0x260e9132b80>,\n",
       "  <matplotlib.axis.XTick at 0x260e9139310>,\n",
       "  <matplotlib.axis.XTick at 0x260e9139a60>,\n",
       "  <matplotlib.axis.XTick at 0x260e9132910>],\n",
       " [Text(0, 0, ''),\n",
       "  Text(0, 0, ''),\n",
       "  Text(0, 0, ''),\n",
       "  Text(0, 0, ''),\n",
       "  Text(0, 0, ''),\n",
       "  Text(0, 0, ''),\n",
       "  Text(0, 0, ''),\n",
       "  Text(0, 0, ''),\n",
       "  Text(0, 0, ''),\n",
       "  Text(0, 0, ''),\n",
       "  Text(0, 0, ''),\n",
       "  Text(0, 0, ''),\n",
       "  Text(0, 0, ''),\n",
       "  Text(0, 0, ''),\n",
       "  Text(0, 0, '')])"
      ]
     },
     "execution_count": 91,
     "metadata": {},
     "output_type": "execute_result"
    },
    {
     "data": {
      "image/png": "[encoded data removed]",
      "text/plain": [
       "<Figure size 640x480 with 1 Axes>"
      ]
     },
     "metadata": {},
     "output_type": "display_data"
    }
   ],
   "source": [
    "plt.xticks([-7,-6,-5,-4,-3,-2,-1,0,1,2,3,4,5,6,7])\n",
    "#Kode di atas adalah perintah untuk mengatur nilai-nilai pada sumbu x dari grafik.\n",
    "#Pada parameter pertama [ -7,-6,-5,-4,-3,-2,-1,0,1,2,3,4,5,6,7], diisi dengan nilai-nilai \n",
    "#yang ingin ditampilkan pada sumbu x, yaitu nilai dari -7 hingga 7."
   ]
  },
  {
   "cell_type": "code",
   "execution_count": 100,
   "id": "1e0afcc7",
   "metadata": {},
   "outputs": [
    {
     "data": {
      "text/plain": [
       "([<matplotlib.axis.YTick at 0x260ea2f5250>,\n",
       "  <matplotlib.axis.YTick at 0x260ea2f0a90>,\n",
       "  <matplotlib.axis.YTick at 0x260ea2e2ac0>,\n",
       "  <matplotlib.axis.YTick at 0x260ea313ca0>,\n",
       "  <matplotlib.axis.YTick at 0x260ea321430>,\n",
       "  <matplotlib.axis.YTick at 0x260ea321b80>,\n",
       "  <matplotlib.axis.YTick at 0x260ea326310>,\n",
       "  <matplotlib.axis.YTick at 0x260ea321b50>,\n",
       "  <matplotlib.axis.YTick at 0x260ea313d90>,\n",
       "  <matplotlib.axis.YTick at 0x260ea326d30>,\n",
       "  <matplotlib.axis.YTick at 0x260e919d1f0>,\n",
       "  <matplotlib.axis.YTick at 0x260ea32e8e0>,\n",
       "  <matplotlib.axis.YTick at 0x260ea371070>,\n",
       "  <matplotlib.axis.YTick at 0x260ea3717c0>,\n",
       "  <matplotlib.axis.YTick at 0x260ea32eca0>,\n",
       "  <matplotlib.axis.YTick at 0x260ea326ca0>],\n",
       " [Text(0, 0, ''),\n",
       "  Text(0, 0, ''),\n",
       "  Text(0, 0, ''),\n",
       "  Text(0, 0, ''),\n",
       "  Text(0, 0, ''),\n",
       "  Text(0, 0, ''),\n",
       "  Text(0, 0, ''),\n",
       "  Text(0, 0, ''),\n",
       "  Text(0, 0, ''),\n",
       "  Text(0, 0, ''),\n",
       "  Text(0, 0, ''),\n",
       "  Text(0, 0, ''),\n",
       "  Text(0, 0, ''),\n",
       "  Text(0, 0, ''),\n",
       "  Text(0, 0, ''),\n",
       "  Text(0, 0, '')])"
      ]
     },
     "execution_count": 100,
     "metadata": {},
     "output_type": "execute_result"
    },
    {
     "data": {
      "image/png": "[encoded data removed]",
      "text/plain": [
       "<Figure size 640x480 with 1 Axes>"
      ]
     },
     "metadata": {},
     "output_type": "display_data"
    }
   ],
   "source": [
    "plt.yticks([49,36,25,16,9,4,1,0,1,4,9,16,25,36,49,64])\n",
    "#Kodedi atas adalah perintah untuk mengatur nilai-nilai pada sumbu y \n",
    "#dari grafik.Pada parameter pertama [49,36,25,16,9,4,1,0,1,4,9,16,25,36,49,64], diisi dengan nilai-nilai \n",
    "#yang ingin ditampilkan pada sumbu y, yaitu nilai dari 0 hingga 64. "
   ]
  },
  {
   "cell_type": "code",
   "execution_count": 101,
   "id": "441d2a74",
   "metadata": {},
   "outputs": [
    {
     "name": "stderr",
     "output_type": "stream",
     "text": [
      "No artists with labels found to put in legend.  Note that artists whose label start with an underscore are ignored when legend() is called with no argument.\n"
     ]
    },
    {
     "data": {
      "text/plain": [
       "<matplotlib.legend.Legend at 0x260ea2a99a0>"
      ]
     },
     "execution_count": 101,
     "metadata": {},
     "output_type": "execute_result"
    },
    {
     "data": {
      "image/png": "[encoded data removed]",
      "text/plain": [
       "<Figure size 640x480 with 1 Axes>"
      ]
     },
     "metadata": {},
     "output_type": "display_data"
    }
   ],
   "source": [
    "plt.legend()\n",
    "#Kode di atas adalah perintah untuk menampilkan legenda pada grafik. Jika pada saat memplot data, \n",
    "#terdapat label yang diberikan pada parameter label, \n",
    "#maka legenda akan secara otomatis ditampilkan dengan label-label yang sesuai. \n",
    "#Jika tidak ada label yang diberikan, maka legenda tidak akan muncul."
   ]
  },
  {
   "cell_type": "code",
   "execution_count": 108,
   "id": "3e32df98",
   "metadata": {},
   "outputs": [
    {
     "data": {
      "text/plain": [
       "<matplotlib.legend.Legend at 0x260ea6df130>"
      ]
     },
     "execution_count": 108,
     "metadata": {},
     "output_type": "execute_result"
    },
    {
     "data": {
      "image/png": "[encoded data removed]",
      "text/plain": [
       "<Figure size 640x480 with 1 Axes>"
      ]
     },
     "metadata": {},
     "output_type": "display_data"
    }
   ],
   "source": [
    "plt.plot(x, y, label='Data 1')\n",
    "plt.plot(x, y, label='Data 2')\n",
    "plt.legend()"
   ]
  },
  {
   "cell_type": "code",
   "execution_count": 102,
   "id": "f2ec127d",
   "metadata": {},
   "outputs": [
    {
     "data": {
      "text/plain": [
       "<Figure size 640x480 with 0 Axes>"
      ]
     },
     "metadata": {},
     "output_type": "display_data"
    }
   ],
   "source": [
    "plt.savefig('grafikku.png',dpi=300)\n",
    "#Kode di atas akan menyimpan gambar grafik yang telah dibuat dengan nama file \"grafikku.png\" \n",
    "#dengan resolusi (dpi) 300. Format gambar yang disimpan dapat disesuaikan dengan ekstensi yang digunakan pada nama file,\n",
    "#misalnya \"grafik.jpg\" atau \"grafik.pdf\"."
   ]
  },
  {
   "cell_type": "code",
   "execution_count": 109,
   "id": "0ce84181",
   "metadata": {},
   "outputs": [],
   "source": [
    "plt.show()"
   ]
  },
  {
   "cell_type": "markdown",
   "id": "d884bb47",
   "metadata": {},
   "source": [
    "# 5.22.3 Histogram Sederhana dengan Matplotlib"
   ]
  },
  {
   "cell_type": "code",
   "execution_count": 92,
   "id": "8076b6dc",
   "metadata": {},
   "outputs": [],
   "source": [
    "data_iris = ['petal length','petal width']\n",
    "jumlah = [50,40]"
   ]
  },
  {
   "cell_type": "code",
   "execution_count": 93,
   "id": "e92e1c87",
   "metadata": {},
   "outputs": [
    {
     "data": {
      "text/plain": [
       "<BarContainer object of 2 artists>"
      ]
     },
     "execution_count": 93,
     "metadata": {},
     "output_type": "execute_result"
    },
    {
     "data": {
      "image/png": "[encoded data removed]",
      "text/plain": [
       "<Figure size 640x480 with 1 Axes>"
      ]
     },
     "metadata": {},
     "output_type": "display_data"
    }
   ],
   "source": [
    "plt.bar(data_iris,jumlah)\n",
    "#digunakakn untuk membuat bar chart dengan matplotlib"
   ]
  },
  {
   "cell_type": "markdown",
   "id": "f55e2ad0",
   "metadata": {},
   "source": [
    "# 5.22.4 Properti Pembuatan Histogram dengan Matplotlib"
   ]
  },
  {
   "cell_type": "code",
   "execution_count": 110,
   "id": "b5e0ac0d",
   "metadata": {},
   "outputs": [],
   "source": [
    "iris = ['sepal length','sepal width','petal length','petal width']\n",
    "data = [5.1,3.5,1.4,0.2]"
   ]
  },
  {
   "cell_type": "code",
   "execution_count": 111,
   "id": "75a6b26e",
   "metadata": {},
   "outputs": [
    {
     "data": {
      "image/png": "[encoded data removed]",
      "text/plain": [
       "<Figure size 800x400 with 1 Axes>"
      ]
     },
     "metadata": {},
     "output_type": "display_data"
    }
   ],
   "source": [
    "plt.figure(figsize=(8,4))\n",
    "histogram = plt.bar(iris,data,color='grey')\n",
    "\n",
    "histogram[0].set_hatch('x')\n",
    "histogram[1].set_hatch('o')\n",
    "histogram[2].set_hatch('.')\n",
    "histogram[3].set_hatch('/')\n",
    "plt.show()\n",
    "#Kode di atas artinya membuat sebuah grafik histogram dengan ukuran 8x4. \n",
    "#Data yang digunakan dalam grafik adalah data iris. \n",
    "#Setiap bar dalam histogram diisi dengan warna abu-abu, dan setiap bar diberikan pola yang berbeda \n",
    "#dengan menggunakan metode hatch. Bar pertama diisi dengan pola x, bar kedua diisi dengan pola o, \n",
    "#bar ketiga diisi dengan pola titik (.), dan bar keempat diisi dengan pola garis miring (/)."
   ]
  },
  {
   "cell_type": "code",
   "execution_count": 112,
   "id": "bbf50b37",
   "metadata": {},
   "outputs": [
    {
     "data": {
      "image/png": "[encoded data removed]",
      "text/plain": [
       "<Figure size 800x400 with 1 Axes>"
      ]
     },
     "metadata": {},
     "output_type": "display_data"
    }
   ],
   "source": [
    "penyanyi = ['armand','ariel','once','ari laso']\n",
    "penggemar = [99,49,29,150]\n",
    "\n",
    "plt.figure(figsize=(8,4))\n",
    "hist = plt.bar(penyanyi,penggemar,color='purple')\n",
    "pola = ['x','o','.','/']\n",
    "for i in [0,1,2,3]:\n",
    "    hist[i].set_hatch(pola[i])\n",
    "    \n",
    "plt.show()"
   ]
  },
  {
   "cell_type": "code",
   "execution_count": 113,
   "id": "f67aa527",
   "metadata": {},
   "outputs": [
    {
     "data": {
      "image/png": "[encoded data removed]",
      "text/plain": [
       "<Figure size 800x400 with 1 Axes>"
      ]
     },
     "metadata": {},
     "output_type": "display_data"
    }
   ],
   "source": [
    "nama = ['armand','ariel','once','ari laso']\n",
    "umur = [37,45,51,50]\n",
    "\n",
    "plt.figure(figsize=(8,4))\n",
    "hist = plt.bar(nama,umur,color='green')\n",
    "pola = ['x','o','.','/']\n",
    "\n",
    "for bar in hist:\n",
    "    bar.set_hatch(pola.pop(0))\n",
    "    \n",
    "plt.show()"
   ]
  },
  {
   "cell_type": "code",
   "execution_count": null,
   "id": "d855f172",
   "metadata": {},
   "outputs": [],
   "source": []
  }
 ],
 "metadata": {
  "kernelspec": {
   "display_name": "Python 3 (ipykernel)",
   "language": "python",
   "name": "python3"
  },
  "language_info": {
   "codemirror_mode": {
    "name": "ipython",
    "version": 3
   },
   "file_extension": ".py",
   "mimetype": "text/x-python",
   "name": "python",
   "nbconvert_exporter": "python",
   "pygments_lexer": "ipython3",
   "version": "3.9.13"
  }
 },
 "nbformat": 4,
 "nbformat_minor": 5
}
