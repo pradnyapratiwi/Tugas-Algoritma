{
 "cells": [
  {
   "cell_type": "code",
   "execution_count": 1,
   "id": "257f4fa9",
   "metadata": {},
   "outputs": [],
   "source": [
    " #____________________________________________________PRINT____________________________________________________#\n",
    "    "
   ]
  },
  {
   "cell_type": "code",
   "execution_count": 2,
   "id": "805e1776",
   "metadata": {},
   "outputs": [
    {
     "name": "stdout",
     "output_type": "stream",
     "text": [
      "Halo, perkenalkan nama saya Dewa Ayu.\n"
     ]
    }
   ],
   "source": [
    "#fungsi print dengan tanda petik satu\n",
    "print('Halo, perkenalkan nama saya Dewa Ayu.')"
   ]
  },
  {
   "cell_type": "code",
   "execution_count": 3,
   "id": "e10c5e34",
   "metadata": {},
   "outputs": [
    {
     "name": "stdout",
     "output_type": "stream",
     "text": [
      "Saya adalah mahasiswa program studi Matematika, Universitas Udayana.\n"
     ]
    }
   ],
   "source": [
    "#fungsi print dengan tanda petik dua\n",
    "print(\"Saya adalah mahasiswa program studi Matematika, Universitas Udayana.\")"
   ]
  },
  {
   "cell_type": "code",
   "execution_count": 8,
   "id": "301c34c2",
   "metadata": {},
   "outputs": [
    {
     "ename": "SyntaxError",
     "evalue": "invalid syntax (3586808056.py, line 2)",
     "output_type": "error",
     "traceback": [
      "\u001b[1;36m  File \u001b[1;32m\"C:\\Users\\ACER\\AppData\\Local\\Temp\\ipykernel_11168\\3586808056.py\"\u001b[1;36m, line \u001b[1;32m2\u001b[0m\n\u001b[1;33m    print(\"Rektor tidak boleh menerima \"amplop\".\")\u001b[0m\n\u001b[1;37m                                        ^\u001b[0m\n\u001b[1;31mSyntaxError\u001b[0m\u001b[1;31m:\u001b[0m invalid syntax\n"
     ]
    }
   ],
   "source": [
    "#fungsi print dengan tanda petik di tengah kalimat\n",
    "print(\"Rektor tidak boleh menerima \"amplop\".\")"
   ]
  },
  {
   "cell_type": "code",
   "execution_count": 9,
   "id": "497d983b",
   "metadata": {},
   "outputs": [
    {
     "name": "stdout",
     "output_type": "stream",
     "text": [
      "Rektor tidak boleh menerima \"amplop\".\n"
     ]
    }
   ],
   "source": [
    "#kode fungsi print di atas salah, karena tanda petik yang digunakan \n",
    "#untuk memetik seluruh kalimat harus berbeda dengan tanda petik di tengah kalimat\n",
    "#sebagai contoh :\n",
    "print('Rektor tidak boleh menerima \"amplop\".')"
   ]
  },
  {
   "cell_type": "code",
   "execution_count": 6,
   "id": "6d795244",
   "metadata": {},
   "outputs": [
    {
     "name": "stdout",
     "output_type": "stream",
     "text": [
      "apel fuji\n",
      "15000\n"
     ]
    }
   ],
   "source": [
    "#fungsi print dengan variabel \n",
    "buah = 'apel fuji'  #*jangan lupa tanda petik jika dalam variabel berisi kata*\n",
    "harga_buah = 15000\n",
    "print(buah)\n",
    "print(harga_buah)"
   ]
  },
  {
   "cell_type": "code",
   "execution_count": 11,
   "id": "58e679d9",
   "metadata": {},
   "outputs": [],
   "source": [
    "#____________________________________________________INPUT____________________________________________________#\n",
    "\n",
    "#digunakan jika ingin mengambil/mendapat informasi dari pengguna atau orang lain."
   ]
  },
  {
   "cell_type": "code",
   "execution_count": 8,
   "id": "4c077914",
   "metadata": {},
   "outputs": [
    {
     "name": "stdout",
     "output_type": "stream",
     "text": [
      "Siapa nama kamu? Nama saya Anya\n",
      "Berapa umur kamu? Umur saya (hanya diisi dengan angka) 19\n",
      "Hello, Anya.. Selamat! karena telah bisa melewati masa-masa sulit ini! Mungkin di umur kamu yang ke-19 tahun ini, \n",
      "banyak hal melelahkan yang kamu alami, but Keep Fighting!, You Can Do It, Anya!\n"
     ]
    }
   ],
   "source": [
    "nama = input(\"Siapa nama kamu? Nama saya \")\n",
    "umur = input(\"Berapa umur kamu? Umur saya (hanya diisi dengan angka) \")\n",
    "print(\"Hello, \"+nama+\".. Selamat! karena telah bisa melewati masa-masa sulit ini!\\\n",
    " Mungkin di umur kamu yang ke-\"+umur+\" tahun ini, \\nbanyak hal melelahkan yang kamu alami,\\\n",
    " but Keep Fighting!, You Can Do It, \"+nama+\"!\")\n",
    "\n",
    "#pada line ke-3 berisi backslash, digunakan jika kodenya kepanjangan, tetapi output/hasil tetap 1 baris\"\n",
    "#pada line ke-4 berisi \\n, berbeda dengan backslash saja, \\n digunakan untuk memindahkan kode ke baris selanjutnya \n",
    "#dan outputnya pun ikut berpindah ke baris selanjutnya."
   ]
  },
  {
   "cell_type": "code",
   "execution_count": 9,
   "id": "51c2f219",
   "metadata": {},
   "outputs": [],
   "source": [
    "#___________________________________________________TIPE DATA___________________________________________________#\n",
    "    \n",
    "#terdapat beberapa tipe data yang lumrah yaitu int, float, str, bool dan masih ada tipe data yang lain."
   ]
  },
  {
   "cell_type": "code",
   "execution_count": null,
   "id": "98011294",
   "metadata": {},
   "outputs": [],
   "source": [
    "#----------------tipe data int----------------#"
   ]
  },
  {
   "cell_type": "code",
   "execution_count": 9,
   "id": "a157ff71",
   "metadata": {},
   "outputs": [
    {
     "name": "stdout",
     "output_type": "stream",
     "text": [
      "*Kalkulator Penjumlahan Dua Bilangan Bulat*\n",
      "Masukkan Angka Pertama: 12\n",
      "Masukkan Angka Kedua: 13\n",
      "Hasil penjumlahan dari kedua bilangan tersebut adalah 25\n"
     ]
    }
   ],
   "source": [
    "#Membuat judul\n",
    "print(\"*Kalkulator Penjumlahan Dua Bilangan Bulat*\")\n",
    "#inisialisasi\n",
    "angka_pertama = input(\"Masukkan Angka Pertama: \")\n",
    "angka_kedua = input(\"Masukkan Angka Kedua: \")\n",
    "#menjumlahkan angka\n",
    "total = int(angka_pertama) + int(angka_kedua) \n",
    "print(\"Hasil penjumlahan dari kedua bilangan tersebut adalah \" + str(total)) \n",
    "#berisi tipe data str, karena kita harus menjelaskan tipe data dari variabel \"total\"."
   ]
  },
  {
   "cell_type": "code",
   "execution_count": null,
   "id": "1ecb4ea9",
   "metadata": {},
   "outputs": [],
   "source": [
    "#----------------tipe data float----------------#"
   ]
  },
  {
   "cell_type": "code",
   "execution_count": 25,
   "id": "0f191b2a",
   "metadata": {},
   "outputs": [
    {
     "ename": "TypeError",
     "evalue": "float() argument must be a string or a number, not 'tuple'",
     "output_type": "error",
     "traceback": [
      "\u001b[1;31m---------------------------------------------------------------------------\u001b[0m",
      "\u001b[1;31mTypeError\u001b[0m                                 Traceback (most recent call last)",
      "\u001b[1;32m~\\AppData\\Local\\Temp\\ipykernel_9832\\3168693624.py\u001b[0m in \u001b[0;36m<module>\u001b[1;34m\u001b[0m\n\u001b[0;32m      1\u001b[0m \u001b[0mtb_anya\u001b[0m \u001b[1;33m=\u001b[0m \u001b[1;36m155\u001b[0m\u001b[1;33m\u001b[0m\u001b[1;33m\u001b[0m\u001b[0m\n\u001b[0;32m      2\u001b[0m \u001b[0mtb_ayu\u001b[0m \u001b[1;33m=\u001b[0m \u001b[1;36m160\u001b[0m\u001b[1;33m,\u001b[0m\u001b[1;36m5\u001b[0m\u001b[1;33m\u001b[0m\u001b[1;33m\u001b[0m\u001b[0m\n\u001b[1;32m----> 3\u001b[1;33m \u001b[0mjumlah\u001b[0m \u001b[1;33m=\u001b[0m \u001b[0mfloat\u001b[0m\u001b[1;33m(\u001b[0m\u001b[0mtb_anya\u001b[0m\u001b[1;33m)\u001b[0m \u001b[1;33m+\u001b[0m \u001b[0mfloat\u001b[0m\u001b[1;33m(\u001b[0m\u001b[0mtb_ayu\u001b[0m\u001b[1;33m)\u001b[0m\u001b[1;33m\u001b[0m\u001b[1;33m\u001b[0m\u001b[0m\n\u001b[0m\u001b[0;32m      4\u001b[0m \u001b[0mprint\u001b[0m \u001b[1;33m(\u001b[0m\u001b[1;34m'Tinggi badan Anya adalah '\u001b[0m \u001b[1;33m+\u001b[0m \u001b[0mstr\u001b[0m\u001b[1;33m(\u001b[0m\u001b[0mtb_anya\u001b[0m\u001b[1;33m)\u001b[0m \u001b[1;33m+\u001b[0m \u001b[1;34m' cm.'\u001b[0m\u001b[1;33m)\u001b[0m\u001b[1;33m\u001b[0m\u001b[1;33m\u001b[0m\u001b[0m\n\u001b[0;32m      5\u001b[0m \u001b[0mprint\u001b[0m \u001b[1;33m(\u001b[0m\u001b[1;34m'Tinggi badan Ayu adalah '\u001b[0m \u001b[1;33m+\u001b[0m \u001b[0mstr\u001b[0m\u001b[1;33m(\u001b[0m\u001b[0mtb_ayu\u001b[0m\u001b[1;33m)\u001b[0m \u001b[1;33m+\u001b[0m \u001b[1;34m' cm.'\u001b[0m\u001b[1;33m)\u001b[0m\u001b[1;33m\u001b[0m\u001b[1;33m\u001b[0m\u001b[0m\n",
      "\u001b[1;31mTypeError\u001b[0m: float() argument must be a string or a number, not 'tuple'"
     ]
    }
   ],
   "source": [
    "tb_anya = 155 \n",
    "tb_ayu = 160,5\n",
    "jumlah = float(tb_anya) + float(tb_ayu)\n",
    "print ('Tinggi badan Anya adalah ' + str(tb_anya) + ' cm.')\n",
    "print ('Tinggi badan Ayu adalah ' + str(tb_ayu) + ' cm.')\n",
    "print ('Jumlah tinggi badan Anya dan Ayu adalah ' + str(jumlah) + ' cm.')"
   ]
  },
  {
   "cell_type": "code",
   "execution_count": 3,
   "id": "f0eb7fe3",
   "metadata": {},
   "outputs": [],
   "source": [
    "#kode di atas error karena kesalahan yang kerap kali saya lakukan ketika awal-awal mengkode, yaitu\n",
    "#menggunakan tanda koma untuk bilangan desimal. \"Seharusnya tanda titik\"\n",
    "#tanda koma dalam kasus di atas dibaca sebagai tipe data str bukan float"
   ]
  },
  {
   "cell_type": "code",
   "execution_count": 9,
   "id": "bea833ca",
   "metadata": {},
   "outputs": [
    {
     "name": "stdout",
     "output_type": "stream",
     "text": [
      "Tinggi badan Anya adalah 155 cm.\n",
      "Tinggi badan Ayu adalah 160.5 cm.\n",
      "Jumlah tinggi badan Anya dan Ayu adalah 315.5 cm.\n"
     ]
    }
   ],
   "source": [
    "tb_anya = 155 \n",
    "tb_ayu = 160.5\n",
    "jumlah = float(tb_anya) + float(tb_ayu)\n",
    "print ('Tinggi badan Anya adalah ' + str(tb_anya) + ' cm.')\n",
    "print ('Tinggi badan Ayu adalah ' + str(tb_ayu) + ' cm.')\n",
    "print ('Jumlah tinggi badan Anya dan Ayu adalah ' + str(jumlah) + ' cm.')"
   ]
  },
  {
   "cell_type": "code",
   "execution_count": 2,
   "id": "4336cecd",
   "metadata": {},
   "outputs": [
    {
     "name": "stdout",
     "output_type": "stream",
     "text": [
      "Masukkan tinggi badan Anya: 155\n",
      "Masukkan tinggi badan Ayu: 160.5\n",
      "Jumlah tinggi badan Anya dan Ayu adalah 315.5 cm.\n"
     ]
    }
   ],
   "source": [
    "#bisa juga dengan perintah input \n",
    "tb_anya = input('Masukkan tinggi badan Anya: ')\n",
    "tb_ayu = input('Masukkan tinggi badan Ayu: ')\n",
    "jumlah = float(tb_anya) + float(tb_ayu)\n",
    "\n",
    "print ('Jumlah tinggi badan Anya dan Ayu adalah ' + str(jumlah) + ' cm.')"
   ]
  },
  {
   "cell_type": "code",
   "execution_count": null,
   "id": "0983238c",
   "metadata": {},
   "outputs": [],
   "source": [
    "#----------------tipe data str----------------#\n",
    "#tipe data ini sering digunakan pada kode-kode sebelumnya"
   ]
  },
  {
   "cell_type": "code",
   "execution_count": 5,
   "id": "8eb44020",
   "metadata": {},
   "outputs": [
    {
     "name": "stdout",
     "output_type": "stream",
     "text": [
      "tanggal hari ini: 19\n",
      "bulan: Maret\n",
      "tahun: 2023\n",
      "Hari ini tanggal 19/Maret/2023\n"
     ]
    }
   ],
   "source": [
    "#...contoh 1...\n",
    "tanggal = input('tanggal hari ini: ')\n",
    "bulan = input('bulan: ')\n",
    "tahun = input('tahun: ')\n",
    "print ('Hari ini tanggal '+ tanggal + '/' + bulan + '/' + tahun)\n",
    "#semua data pada kode ini menggunakan tipe data str"
   ]
  },
  {
   "cell_type": "code",
   "execution_count": 9,
   "id": "9b2e9a31",
   "metadata": {},
   "outputs": [
    {
     "name": "stdout",
     "output_type": "stream",
     "text": [
      "Tinggi badan Anya adalah 155 cm.\n",
      "Tinggi badan Ayu adalah 160.5 cm.\n",
      "Jumlah tinggi badan Anya dan Ayu adalah 155160.5 cm.\n"
     ]
    }
   ],
   "source": [
    "#...contoh 2...\n",
    "tb_anya = 155 \n",
    "tb_ayu = 160.5\n",
    "jumlah = str(tb_anya) + str(tb_ayu)\n",
    "print ('Tinggi badan Anya adalah ' + str(tb_anya) + ' cm.')\n",
    "print ('Tinggi badan Ayu adalah ' + str(tb_ayu) + ' cm.')\n",
    "print ('Jumlah tinggi badan Anya dan Ayu adalah ' + str(jumlah) + ' cm.')"
   ]
  },
  {
   "cell_type": "code",
   "execution_count": null,
   "id": "c9c33753",
   "metadata": {},
   "outputs": [],
   "source": [
    "#pada kasus di atas, dalam variabel jumlah dicantumkan tipe data str, jadi angka tersebut dipandang sebagai string\n",
    "#pada tipe data str tanda + berarti menggabungkan kata yang satu dengan yang lainnya\n",
    "#jadi jumlah yang dihasilkan adalah gabungan dari kata(angka) yang satu dengan yang lainnya"
   ]
  },
  {
   "cell_type": "code",
   "execution_count": 11,
   "id": "3d6930e8",
   "metadata": {},
   "outputs": [
    {
     "name": "stdout",
     "output_type": "stream",
     "text": [
      "Tinggi badan Anya adalah 155 cm.\n",
      "Tinggi badan Ayu adalah 160.5 cm.\n",
      "Jumlah tinggi badan Anya dan Ayu adalah 315.5 cm.\n"
     ]
    }
   ],
   "source": [
    "#...contoh 3...\n",
    "tb_anya = 155 \n",
    "tb_ayu = 160.5\n",
    "jumlah = (tb_anya) + (tb_ayu)\n",
    "print ('Tinggi badan Anya adalah ' + str(tb_anya) + ' cm.')\n",
    "print ('Tinggi badan Ayu adalah ' + str(tb_ayu) + ' cm.')\n",
    "print ('Jumlah tinggi badan Anya dan Ayu adalah ' + str(jumlah) + ' cm.')"
   ]
  },
  {
   "cell_type": "code",
   "execution_count": 7,
   "id": "326917fd",
   "metadata": {},
   "outputs": [],
   "source": [
    "#dari beberapa contoh kode, yang dapat saya ambil sebagai pelajaran adalah \n",
    "#jika dalam variabel terdapat penggabungan yang ditandai dengan tanda + (seperti pada variabel jumlah di contoh 3)\n",
    "#dan tidak dijelaskan tipe data apa, maka komputer otomatis dengan sendirinya membaca atau menyimpulkan tipe datanya\n",
    "#ntah int, str ataupun float\n",
    "#dalam kasus pada contoh 3, dalam variabel jumlah tidak dijelaskan tipe data apa,\n",
    "#karena bilangannya adalah desimal, maka dibaca sebagai tipe data float\n",
    "#jadi pada saat dijumlahkan, hasilnya berupa bilangan desimal\n",
    "#sementara, seperti contoh 2, jika dalam variabel jumlah dijelaskan tipe datanya, maka hasil penjumlahannya menyesuaikan.\n",
    "#misal pada contoh 4 di bawah ini"
   ]
  },
  {
   "cell_type": "code",
   "execution_count": 10,
   "id": "3e58715a",
   "metadata": {},
   "outputs": [
    {
     "name": "stdout",
     "output_type": "stream",
     "text": [
      "Tinggi badan Anya adalah 155 cm.\n",
      "Tinggi badan Ayu adalah 160.5 cm.\n",
      "Jumlah tinggi badan Anya dan Ayu adalah 315 cm.\n"
     ]
    }
   ],
   "source": [
    "#...contoh 4...\n",
    "tb_anya = 155 \n",
    "tb_ayu = 160.5\n",
    "jumlah = int(tb_anya) + int(tb_ayu)\n",
    "print ('Tinggi badan Anya adalah ' + str(tb_anya) + ' cm.')\n",
    "print ('Tinggi badan Ayu adalah ' + str(tb_ayu) + ' cm.')\n",
    "print ('Jumlah tinggi badan Anya dan Ayu adalah ' + str(jumlah) + ' cm.')"
   ]
  },
  {
   "cell_type": "code",
   "execution_count": 11,
   "id": "a8b06db9",
   "metadata": {},
   "outputs": [],
   "source": [
    "#pada contoh 4, \n",
    "#karena tipe data yang digunakan adalah int, maka hasilnya berupa bilangan bulat (bilangan desimal yang dibulatkan)"
   ]
  },
  {
   "cell_type": "code",
   "execution_count": null,
   "id": "64fb313e",
   "metadata": {},
   "outputs": [],
   "source": [
    "#----------------tipe data bool----------------#\n",
    "#tipe data yang hanya bisa diisi dengan 2 nilai, yaitu True atau False."
   ]
  },
  {
   "cell_type": "code",
   "execution_count": 6,
   "id": "f7d1b7a4",
   "metadata": {},
   "outputs": [
    {
     "name": "stdout",
     "output_type": "stream",
     "text": [
      "Masukkan bilangan pertama: 12\n",
      "Masukkan bilangan kedua: 12\n",
      "Bilangan pertama sama dengan bilangan kedua\n"
     ]
    }
   ],
   "source": [
    "#Meskipun tipe data ini hanya bisa diisi dengan 2 nilai, tetapi\n",
    "#tipe data bool juga bisa dipakai untuk menentukan \n",
    "#apakah suatu angka lebih besar dari angka lainnya, atau lebih kecil, atau sama dengan. \n",
    "#Contoh : Menentukan Nilai Lebih Besar, Lebih Kecil atau Sama Dengan\n",
    "bil1 = input('Masukkan bilangan pertama: ')\n",
    "bil2 = input('Masukkan bilangan kedua: ')\n",
    "if (bil1 > bil2) :\n",
    "    print(\"Bilangan pertama lebih besar dari bilangan kedua\")\n",
    "elif (bil1 < bil2) : \n",
    "    print(\"Bilangan pertama lebih kecil dari bilangan kedua\")\n",
    "else :\n",
    "    print(\"Bilangan pertama sama dengan bilangan kedua\")"
   ]
  },
  {
   "cell_type": "code",
   "execution_count": 5,
   "id": "7d47ebbf",
   "metadata": {},
   "outputs": [],
   "source": [
    "#_________________________________________________FORMATTED STRING_________________________________________________#"
   ]
  },
  {
   "cell_type": "code",
   "execution_count": 11,
   "id": "9684c8b5",
   "metadata": {},
   "outputs": [],
   "source": [
    "# Berdasarkan dari beberapa sumber yang saya baca, terdapat 2 cara penulisan atau metode dalam Formatted String yaitu:\n",
    "# 1. Metode Format\n",
    "# 2. Metode f-string"
   ]
  },
  {
   "cell_type": "code",
   "execution_count": null,
   "id": "44fa9650",
   "metadata": {},
   "outputs": [],
   "source": [
    "#------------Metode Format------------#"
   ]
  },
  {
   "cell_type": "code",
   "execution_count": 12,
   "id": "65116bdd",
   "metadata": {},
   "outputs": [
    {
     "name": "stdout",
     "output_type": "stream",
     "text": [
      "Jadwal Mata Kuliah Hari Senin\n",
      "Mata kuliah jam pertama adalah Algoritma dan Struktur Data \n",
      "Mata kuliah jam kedua adalah Kalkulus II \n",
      "Mata kuliah jam ketiga adalah Statistika Dasar\n"
     ]
    }
   ],
   "source": [
    "matkul1 = \"Algoritma dan Struktur Data\"\n",
    "matkul2 = \"Kalkulus II\"\n",
    "matkul3 = \"Statistika Dasar\"\n",
    "print(\"Jadwal Mata Kuliah Hari Senin\")\n",
    "print(\"Mata kuliah jam pertama adalah {} \\nMata kuliah jam kedua adalah {} \\nMata kuliah jam ketiga adalah {}\"\\\n",
    "    .format(matkul1, matkul2, matkul3))"
   ]
  },
  {
   "cell_type": "code",
   "execution_count": 12,
   "id": "0a159f8b",
   "metadata": {},
   "outputs": [
    {
     "name": "stdout",
     "output_type": "stream",
     "text": [
      "Nilai Ayu: 100\n",
      "Nilai Lian: 90\n",
      "Nilai Anya: 98\n",
      "Jadi, nilai UAS Ayu, Lian dan Anya adalah 100, 90 dan 98.\n"
     ]
    }
   ],
   "source": [
    "#dapat juga menggunakan perintah input\n",
    "ayu = input(\"Nilai Ayu: \")\n",
    "lian = input(\"Nilai Lian: \")\n",
    "anya = input(\"Nilai Anya: \")\n",
    "print(\"Jadi, nilai UAS Ayu, Lian dan Anya adalah {}, {} dan {}.\".format(ayu, lian, anya))"
   ]
  },
  {
   "cell_type": "code",
   "execution_count": 13,
   "id": "ca32bb77",
   "metadata": {},
   "outputs": [
    {
     "name": "stdout",
     "output_type": "stream",
     "text": [
      "*Kalkulator Penjumlahan Dua Bilangan Bulat*\n",
      "Masukkan Angka Pertama 56\n",
      "Masukkan Angka Kedua 13\n",
      "Hasil penjumlahan dari 56 dan 13 adalah 69\n"
     ]
    }
   ],
   "source": [
    "print(\"*Kalkulator Penjumlahan Dua Bilangan Bulat*\")\n",
    "#inisialisasi\n",
    "angka_pertama = input(\"Masukkan Angka Pertama \")\n",
    "angka_kedua = input(\"Masukkan Angka Kedua \")\n",
    "#menjumlahkan angka\n",
    "total = int(angka_pertama) + int(angka_kedua) \n",
    "print(\"Hasil penjumlahan dari {} dan {} adalah {}\".format(angka_pertama,angka_kedua,total)) "
   ]
  },
  {
   "cell_type": "code",
   "execution_count": 7,
   "id": "d17c958f",
   "metadata": {},
   "outputs": [],
   "source": [
    "#------------Metode f-string------------#\n",
    "#*penulisannya sedikit berbeda dengan metode format*"
   ]
  },
  {
   "cell_type": "code",
   "execution_count": 7,
   "id": "a54a3cbb",
   "metadata": {},
   "outputs": [
    {
     "name": "stdout",
     "output_type": "stream",
     "text": [
      "Jadwal Mata Kuliah Hari Senin\n",
      "Mata kuliah jam pertama adalah Algoritma dan Struktur Data \n",
      "Mata kuliah jam kedua adalah Kalkulus II \n",
      "Mata kuliah jam ketiga adalah Statistika Dasar\n"
     ]
    }
   ],
   "source": [
    "matkul1 = \"Algoritma dan Struktur Data\"\n",
    "matkul2 = \"Kalkulus II\"\n",
    "matkul3 = \"Statistika Dasar\"\n",
    "print(\"Jadwal Mata Kuliah Hari Senin\")\n",
    "print(f\"Mata kuliah jam pertama adalah {matkul1} \\nMata kuliah jam kedua adalah {matkul2} \\nMata kuliah jam ketiga adalah {matkul3}\")\n",
    "#tanda petik setelah f dalam perintah print dapat menggunakan tanda petik satu atau petik dua"
   ]
  },
  {
   "cell_type": "code",
   "execution_count": 10,
   "id": "1e06fdb2",
   "metadata": {},
   "outputs": [
    {
     "name": "stdout",
     "output_type": "stream",
     "text": [
      "Nilai Ayu: 99\n",
      "Nilai Lian: 90\n",
      "Nilai Anya: 98\n",
      "Jadi, nilai UAS Ayu, Lian dan Anya adalah 99, 90 dan 98.\n"
     ]
    }
   ],
   "source": [
    "#menggunakan perintah input\n",
    "ayu = input(\"Nilai Ayu: \")\n",
    "lian = input(\"Nilai Lian: \")\n",
    "anya = input(\"Nilai Anya: \")\n",
    "print(f'Jadi, nilai UAS Ayu, Lian dan Anya adalah {ayu}, {lian} dan {anya}.')"
   ]
  },
  {
   "cell_type": "code",
   "execution_count": 5,
   "id": "5aa423f8",
   "metadata": {},
   "outputs": [
    {
     "name": "stdout",
     "output_type": "stream",
     "text": [
      "*Kalkulator Penjumlahan Dua Bilangan Desimal*\n",
      "Masukkan Angka Pertama 34.9\n",
      "Masukkan Angka Kedua 32.6\n",
      "Hasil penjumlahan dari 34.9 dan 32.6 adalah 67.5\n"
     ]
    }
   ],
   "source": [
    "print(\"*Kalkulator Penjumlahan Dua Bilangan Desimal*\")\n",
    "#inisialisasi\n",
    "angka_pertama = input(\"Masukkan Angka Pertama \")\n",
    "angka_kedua = input(\"Masukkan Angka Kedua \")\n",
    "#menjumlahkan angka\n",
    "total = float(angka_pertama) + float(angka_kedua) \n",
    "print(f\"Hasil penjumlahan dari {angka_pertama} dan {angka_kedua} adalah {total}\") "
   ]
  },
  {
   "cell_type": "code",
   "execution_count": null,
   "id": "dc484648",
   "metadata": {},
   "outputs": [],
   "source": [
    "# Sekian dan Terima Kasih #"
   ]
  }
 ],
 "metadata": {
  "kernelspec": {
   "display_name": "Python 3 (ipykernel)",
   "language": "python",
   "name": "python3"
  },
  "language_info": {
   "codemirror_mode": {
    "name": "ipython",
    "version": 3
   },
   "file_extension": ".py",
   "mimetype": "text/x-python",
   "name": "python",
   "nbconvert_exporter": "python",
   "pygments_lexer": "ipython3",
   "version": "3.9.13"
  }
 },
 "nbformat": 4,
 "nbformat_minor": 5
}
