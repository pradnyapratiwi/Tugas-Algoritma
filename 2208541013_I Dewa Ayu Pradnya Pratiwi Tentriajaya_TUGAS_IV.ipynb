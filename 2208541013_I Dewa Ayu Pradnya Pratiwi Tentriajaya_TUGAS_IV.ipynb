{
 "cells": [
  {
   "cell_type": "markdown",
   "id": "f607fd6b",
   "metadata": {},
   "source": [
    "# While Loop\n",
    "#### Akan selalu dieksekusi semasih nilainya benar, dan akan berhenti jika nilainya salah."
   ]
  },
  {
   "cell_type": "code",
   "execution_count": 1,
   "id": "7bdb6636",
   "metadata": {},
   "outputs": [
    {
     "name": "stdout",
     "output_type": "stream",
     "text": [
      "0\n",
      "1\n",
      "2\n",
      "5\n"
     ]
    }
   ],
   "source": [
    "a = 0\n",
    "while a<6:\n",
    "    print(a)\n",
    "    a = a**2\n",
    "    a = a+1\n",
    "#kode ini menunjukkan angka berapa saja yang diulang, sehingga pada akhirnya berhenti di angka 5, karena 5<6."
   ]
  },
  {
   "cell_type": "code",
   "execution_count": 2,
   "id": "6d9202f1",
   "metadata": {},
   "outputs": [
    {
     "name": "stdout",
     "output_type": "stream",
     "text": [
      "26\n"
     ]
    }
   ],
   "source": [
    "a = 0\n",
    "while a<6:\n",
    "    a = a**2\n",
    "    a = a+1\n",
    "print(a)\n",
    "#berbeda dari kode di atas, kode ini menunjukkan hasil dari operasi matematika dengan menggunakan \n",
    "#angka terakhir yang bernilai benar yaitu 5. penjelesannya sebagai berikut.\n",
    "#a=0\n",
    "#jika a=0 dan lebih kecil dari 6\n",
    "#a=0x0=0 (pangkat 2)\n",
    "#a=0+1=1 hasil akhirnya adalah 1, karena 1<6, maka akan dieksekusi kembali ke dalam operasi matematika yang menghasilkan nilai 2\n",
    "#begitu seterusnya sampai hasil akhirnya adalah 26"
   ]
  },
  {
   "cell_type": "code",
   "execution_count": 3,
   "id": "95204292",
   "metadata": {},
   "outputs": [],
   "source": [
    "#while loop juga dapat digunakan untuk membuat segitiga dengan bintang, seperti contoh berikut ini."
   ]
  },
  {
   "cell_type": "code",
   "execution_count": 4,
   "id": "931f65da",
   "metadata": {},
   "outputs": [
    {
     "name": "stdout",
     "output_type": "stream",
     "text": [
      "Segitiga Bintang\n",
      "Masukkan bilangan bulat x = 9\n",
      "*\n",
      "**\n",
      "***\n",
      "****\n",
      "*****\n",
      "******\n",
      "*******\n",
      "********\n",
      "*********\n"
     ]
    }
   ],
   "source": [
    "print(\"Segitiga Bintang\")\n",
    "i = 1;\n",
    "x = int(input(\"Masukkan bilangan bulat x = \"));\n",
    "\n",
    "while i <= x:\n",
    "    print(i*'*');\n",
    "    i=i+1;"
   ]
  },
  {
   "cell_type": "markdown",
   "id": "9cc7787c",
   "metadata": {},
   "source": [
    "# List\n",
    "#### List digunakan untuk menampilkan objek baik dalam bentuk string maupun angka dan isinya dapat diubah, serta dapat dipanggil urutannya"
   ]
  },
  {
   "cell_type": "code",
   "execution_count": 5,
   "id": "c0314012",
   "metadata": {},
   "outputs": [
    {
     "name": "stdout",
     "output_type": "stream",
     "text": [
      "['algoritma', 'kalkulus', 'struktur aljabar', 'statistika dasar']\n"
     ]
    }
   ],
   "source": [
    "matkul = ['algoritma', 'kalkulus', 'struktur aljabar', 'statistika dasar']\n",
    "print (matkul)"
   ]
  },
  {
   "cell_type": "code",
   "execution_count": 6,
   "id": "2466e56f",
   "metadata": {},
   "outputs": [
    {
     "name": "stdout",
     "output_type": "stream",
     "text": [
      "algoritma\n"
     ]
    }
   ],
   "source": [
    "print(matkul[0])\n",
    "#memanggil variabel matkul dengan indeks 0 yaitu urutan pertama pada variabel tersebut"
   ]
  },
  {
   "cell_type": "code",
   "execution_count": 7,
   "id": "e101568a",
   "metadata": {},
   "outputs": [
    {
     "name": "stdout",
     "output_type": "stream",
     "text": [
      "statistika dasar\n"
     ]
    }
   ],
   "source": [
    "print(matkul[3])\n",
    "#memanggil variabel matkul dengan indeks 3 yaitu urutan keempat pada variabel tersebut"
   ]
  },
  {
   "cell_type": "code",
   "execution_count": 8,
   "id": "7ce651aa",
   "metadata": {},
   "outputs": [
    {
     "name": "stdout",
     "output_type": "stream",
     "text": [
      "statistika dasar\n"
     ]
    }
   ],
   "source": [
    "print(matkul[-1])\n",
    "#memanggil variabel matkul dengan indeks -1 yaitu urutan pertama dari belakang pada variabel tersebut"
   ]
  },
  {
   "cell_type": "code",
   "execution_count": 9,
   "id": "ed1b3c06",
   "metadata": {},
   "outputs": [
    {
     "name": "stdout",
     "output_type": "stream",
     "text": [
      "struktur aljabar\n"
     ]
    }
   ],
   "source": [
    "print(matkul[-2])\n",
    "#memanggil variabel matkul dengan indeks -2 yaitu urutan kedua dari belakang pada variabel tersebut"
   ]
  },
  {
   "cell_type": "code",
   "execution_count": 10,
   "id": "068413d8",
   "metadata": {},
   "outputs": [
    {
     "name": "stdout",
     "output_type": "stream",
     "text": [
      "['aljabar linear elementer', 'kalkulus', 'struktur aljabar', 'statistika dasar']\n"
     ]
    }
   ],
   "source": [
    "matkul[0] = 'aljabar linear elementer'\n",
    "print (matkul)\n",
    "#mengganti variabel matkul dengan indeks 0 menjadi kata 'aljabar linear elementer'"
   ]
  },
  {
   "cell_type": "code",
   "execution_count": 11,
   "id": "289af8a0",
   "metadata": {},
   "outputs": [
    {
     "name": "stdout",
     "output_type": "stream",
     "text": [
      "['aljabar linear elementer', 'kalkulus', 'struktur aljabar']\n"
     ]
    }
   ],
   "source": [
    "print(matkul[0:3])\n",
    "#memanggil variabel matkul dengan indeks 0:3 artinya dari kiri dihitung ke samping kanan sebanyak 3 kali, yang dijalani\n",
    "#pada program adalah output terakhir saat run"
   ]
  },
  {
   "cell_type": "markdown",
   "id": "ab49c500",
   "metadata": {},
   "source": [
    "# Metoda List\n",
    "#### Terdapat beberapa prosedur atau metoda list, yaitu sebagai berikut"
   ]
  },
  {
   "cell_type": "code",
   "execution_count": 12,
   "id": "8ddac02d",
   "metadata": {},
   "outputs": [
    {
     "name": "stdout",
     "output_type": "stream",
     "text": [
      "['anjing', 'kucing', 'burung', 'marmut']\n"
     ]
    }
   ],
   "source": [
    "pet = ['anjing', 'kucing', 'burung']\n",
    "pet.append('marmut')\n",
    "print(pet)\n",
    "#'append' digunakan untuk menambahkan objek atau isi dalam suatu variabel"
   ]
  },
  {
   "cell_type": "code",
   "execution_count": 13,
   "id": "c5a8f42b",
   "metadata": {},
   "outputs": [
    {
     "name": "stdout",
     "output_type": "stream",
     "text": [
      "['anjing', 'kelinci', 'kucing', 'burung', 'marmut']\n"
     ]
    }
   ],
   "source": [
    "pet.insert(1,'kelinci')\n",
    "print(pet)\n",
    "#'insert' digunakan untuk menyisipkan objek dalam suatu variabel, pada kode ini 'kelinci' disisipkan pada posisi indeks ke-1"
   ]
  },
  {
   "cell_type": "code",
   "execution_count": 14,
   "id": "48cf2970",
   "metadata": {},
   "outputs": [
    {
     "name": "stdout",
     "output_type": "stream",
     "text": [
      "['kelinci', 'kucing', 'burung', 'marmut']\n"
     ]
    }
   ],
   "source": [
    "pet.remove('anjing')\n",
    "print(pet)\n",
    "#'remove' digunakan untuk menghilangkan kata atau string atau objek dalam variabel"
   ]
  },
  {
   "cell_type": "code",
   "execution_count": 15,
   "id": "10bb1e16",
   "metadata": {},
   "outputs": [
    {
     "name": "stdout",
     "output_type": "stream",
     "text": [
      "False\n"
     ]
    }
   ],
   "source": [
    "print('anjing' in pet)\n",
    "#bernilai false karena dalam kode yang terakhir dirun, kata 'anjing' tidak ada dalam output"
   ]
  },
  {
   "cell_type": "code",
   "execution_count": 16,
   "id": "24cd9f66",
   "metadata": {},
   "outputs": [
    {
     "name": "stdout",
     "output_type": "stream",
     "text": [
      "True\n"
     ]
    }
   ],
   "source": [
    "print('marmut' in pet)\n",
    "#sebaliknya, bernilai true karena dalam kode yang terakhir dirun, kata 'marmut' dapat ditemukan"
   ]
  },
  {
   "cell_type": "markdown",
   "id": "6ed40925",
   "metadata": {},
   "source": [
    "# For Loop\n",
    "#### For loop dapat digunakan untuk memanggil semua isi dari list, fungsi ini lebih cocok digunakan jika terdapat list dibandingkan dengan while loop. While loop lebih cocok digunakan jika ada kondisi yang membatasi"
   ]
  },
  {
   "cell_type": "code",
   "execution_count": 17,
   "id": "a5c8b836",
   "metadata": {},
   "outputs": [
    {
     "name": "stdout",
     "output_type": "stream",
     "text": [
      "algoritma\n",
      "kalkulus\n",
      "struktur aljabar\n",
      "statistika dasar\n"
     ]
    }
   ],
   "source": [
    "matkul = ['algoritma', 'kalkulus', 'struktur aljabar', 'statistika dasar']\n",
    "for banyak in matkul :\n",
    "    print(banyak)\n",
    "#kode ini memiliki perintah in yang merupakan operator keangtoaan dan memiliki perintah perulangan for\n",
    "#sehingga hasil yang muncul adalah anggota dari list tsb."
   ]
  },
  {
   "cell_type": "code",
   "execution_count": 18,
   "id": "37d8545b",
   "metadata": {},
   "outputs": [
    {
     "name": "stdout",
     "output_type": "stream",
     "text": [
      "algoritma\n",
      "kalkulus\n",
      "struktur aljabar\n",
      "statistika dasar\n"
     ]
    }
   ],
   "source": [
    "i=0\n",
    "while i < len(matkul):\n",
    "    print(matkul[i])\n",
    "    i+=1\n",
    "#pada kasus ini, yang menjadi batas dari while adalah 'len' yaitu jumlah dari variabel matkul sebanyak 4\n",
    "#jadi jika diterjemahkan kode tersebut artinya:\n",
    "#i=0\n",
    "#jika i<4\n",
    "#print variabel dalam matkul pada indeks i\n",
    "#jika benar i<4, operasikan i = i+1 \n",
    "#ulangi dengan cara yang sama dan stop jika hasilnya salah"
   ]
  },
  {
   "cell_type": "markdown",
   "id": "0c5b3896",
   "metadata": {},
   "source": [
    "# Fungsi Range\n",
    "#### Fungsi range dapat dikombinasikan dengan for loop, range digunakan untuk memanggil atau menampilkan bilangan berurutan atau berpola yang diinginkan"
   ]
  },
  {
   "cell_type": "code",
   "execution_count": 19,
   "id": "ac4e723f",
   "metadata": {},
   "outputs": [],
   "source": [
    "matkul = ['algoritma', 'kalkulus', 'struktur aljabar', 'statistika dasar']"
   ]
  },
  {
   "cell_type": "code",
   "execution_count": 20,
   "id": "616b66bc",
   "metadata": {},
   "outputs": [
    {
     "name": "stdout",
     "output_type": "stream",
     "text": [
      "range(0, 4)\n"
     ]
    }
   ],
   "source": [
    "matkul=range(4)\n",
    "print(matkul)\n",
    "#range dari variabel matkul sebanyak 4"
   ]
  },
  {
   "cell_type": "code",
   "execution_count": 21,
   "id": "ca9f3429",
   "metadata": {},
   "outputs": [
    {
     "name": "stdout",
     "output_type": "stream",
     "text": [
      "0\n",
      "1\n",
      "2\n",
      "3\n"
     ]
    }
   ],
   "source": [
    "for isi in matkul :\n",
    "    print(isi)\n",
    "#pada kode ini, for berisi perintah kanggotaan yang memanggil variabel matkul dengan range 4 sehingga output\n",
    "#yang dihasilkan tidak kurang dari range yg sudah didefinisikan, dimulai dari 0"
   ]
  },
  {
   "cell_type": "code",
   "execution_count": 22,
   "id": "cf343ddd",
   "metadata": {},
   "outputs": [
    {
     "name": "stdout",
     "output_type": "stream",
     "text": [
      "0\n",
      "1\n",
      "2\n",
      "3\n"
     ]
    }
   ],
   "source": [
    "for i in range(len(matkul)):\n",
    "    print(matkul[i])\n",
    "#perintah for dengan fungsi keanggotaan in, kode di atas berarti\n",
    "#ulangi i dalam range jumlah anggota pada matkul (4)\n",
    "#ulangi i sampai kurang dari range (4)"
   ]
  },
  {
   "cell_type": "code",
   "execution_count": 23,
   "id": "8454917f",
   "metadata": {},
   "outputs": [
    {
     "name": "stdout",
     "output_type": "stream",
     "text": [
      "5\n",
      "6\n",
      "7\n",
      "8\n",
      "9\n"
     ]
    }
   ],
   "source": [
    "for isi in range(5,10):\n",
    "    print(isi)\n",
    "#pada kode ini, for berisi perintah kanggotaan yang memanggil range dari 5 sampai 10, sehingga yang dihasilkan adalah\n",
    "#dari 5 sampai tidak kurang dari range yg sudah ditentukan (10), jadi dari 5-9"
   ]
  },
  {
   "cell_type": "code",
   "execution_count": 24,
   "id": "07c05472",
   "metadata": {},
   "outputs": [
    {
     "name": "stdout",
     "output_type": "stream",
     "text": [
      "0\n",
      "2\n",
      "4\n",
      "6\n",
      "8\n"
     ]
    }
   ],
   "source": [
    "for isi in range(0,10,2):\n",
    "    print(isi)\n",
    "#fungsi range dari 0 sampai kurang dari 10 yang merupakan kelipatan 2"
   ]
  },
  {
   "cell_type": "code",
   "execution_count": 25,
   "id": "95aa8651",
   "metadata": {},
   "outputs": [
    {
     "name": "stdout",
     "output_type": "stream",
     "text": [
      "0\n",
      "3\n",
      "6\n",
      "9\n"
     ]
    }
   ],
   "source": [
    "for isi in range(0,10,3):\n",
    "    print(isi)\n",
    "#fungsi range dari 0 sampai kurang dari 10 yang merupakan kelipatan 3"
   ]
  }
 ],
 "metadata": {
  "kernelspec": {
   "display_name": "Python 3 (ipykernel)",
   "language": "python",
   "name": "python3"
  },
  "language_info": {
   "codemirror_mode": {
    "name": "ipython",
    "version": 3
   },
   "file_extension": ".py",
   "mimetype": "text/x-python",
   "name": "python",
   "nbconvert_exporter": "python",
   "pygments_lexer": "ipython3",
   "version": "3.9.13"
  }
 },
 "nbformat": 4,
 "nbformat_minor": 5
}
