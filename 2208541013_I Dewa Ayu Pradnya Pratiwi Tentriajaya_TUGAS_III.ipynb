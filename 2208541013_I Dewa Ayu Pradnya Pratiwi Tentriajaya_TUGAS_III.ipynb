{
 "cells": [
  {
   "cell_type": "markdown",
   "id": "c421fe8b",
   "metadata": {},
   "source": [
    "# 5.5 Strings Index \n",
    "   Digunakan untuk menampilkan karakter dengan index tertentu."
   ]
  },
  {
   "cell_type": "code",
   "execution_count": 1,
   "id": "5295ffb3",
   "metadata": {},
   "outputs": [
    {
     "name": "stdout",
     "output_type": "stream",
     "text": [
      "\n"
     ]
    }
   ],
   "source": [
    "matkul = 'algoritma'\n",
    "print(matkul[0:0])"
   ]
  },
  {
   "cell_type": "code",
   "execution_count": 2,
   "id": "8fdc28cd",
   "metadata": {},
   "outputs": [
    {
     "name": "stdout",
     "output_type": "stream",
     "text": [
      "a\n"
     ]
    }
   ],
   "source": [
    "print(matkul[0:1])"
   ]
  },
  {
   "cell_type": "code",
   "execution_count": 3,
   "id": "4b57849b",
   "metadata": {},
   "outputs": [
    {
     "name": "stdout",
     "output_type": "stream",
     "text": [
      "\n"
     ]
    }
   ],
   "source": [
    "print(matkul[1:0])"
   ]
  },
  {
   "cell_type": "code",
   "execution_count": 4,
   "id": "fa879d57",
   "metadata": {},
   "outputs": [
    {
     "name": "stdout",
     "output_type": "stream",
     "text": [
      "algoritm\n"
     ]
    }
   ],
   "source": [
    "print(matkul[0:-1])"
   ]
  },
  {
   "cell_type": "code",
   "execution_count": 5,
   "id": "2dfe853f",
   "metadata": {},
   "outputs": [
    {
     "name": "stdout",
     "output_type": "stream",
     "text": [
      "\n"
     ]
    }
   ],
   "source": [
    "print(matkul[-1:0])"
   ]
  },
  {
   "cell_type": "code",
   "execution_count": 6,
   "id": "d1a0fd9f",
   "metadata": {},
   "outputs": [
    {
     "name": "stdout",
     "output_type": "stream",
     "text": [
      "algoritma\n"
     ]
    }
   ],
   "source": [
    "print(matkul[0:9])"
   ]
  },
  {
   "cell_type": "code",
   "execution_count": 7,
   "id": "a01a5840",
   "metadata": {},
   "outputs": [
    {
     "name": "stdout",
     "output_type": "stream",
     "text": [
      "algoritma dan kalkulus\n"
     ]
    }
   ],
   "source": [
    "print (matkul[:9] + ' dan kalkulus')\n",
    "#dapat ditambah dengan kata atau kalimat baru"
   ]
  },
  {
   "cell_type": "markdown",
   "id": "e88dc8e5",
   "metadata": {},
   "source": [
    "# 5.6 Strings Methods"
   ]
  },
  {
   "cell_type": "markdown",
   "id": "dfa9311d",
   "metadata": {},
   "source": [
    "### CONTOH 1"
   ]
  },
  {
   "cell_type": "code",
   "execution_count": 8,
   "id": "a19d9592",
   "metadata": {},
   "outputs": [],
   "source": [
    "matkulsenin = 'Algoritma dan Struktur Data'"
   ]
  },
  {
   "cell_type": "markdown",
   "id": "61ba098f",
   "metadata": {},
   "source": [
    "### len"
   ]
  },
  {
   "cell_type": "code",
   "execution_count": 9,
   "id": "83e60f88",
   "metadata": {},
   "outputs": [
    {
     "name": "stdout",
     "output_type": "stream",
     "text": [
      "27\n"
     ]
    }
   ],
   "source": [
    "print(len(matkulsenin))\n",
    "#menghitung jumlah huruf(+spasi) pada variabel "
   ]
  },
  {
   "cell_type": "markdown",
   "id": "71a8b97e",
   "metadata": {},
   "source": [
    "### upper()"
   ]
  },
  {
   "cell_type": "code",
   "execution_count": 10,
   "id": "c7debc90",
   "metadata": {},
   "outputs": [
    {
     "data": {
      "text/plain": [
       "'ALGORITMA DAN STRUKTUR DATA'"
      ]
     },
     "execution_count": 10,
     "metadata": {},
     "output_type": "execute_result"
    }
   ],
   "source": [
    "matkulsenin.upper()\n",
    "#membuat semua huruf menjadi kapital"
   ]
  },
  {
   "cell_type": "markdown",
   "id": "6057583e",
   "metadata": {},
   "source": [
    "### lower()"
   ]
  },
  {
   "cell_type": "code",
   "execution_count": 11,
   "id": "8b10cd1c",
   "metadata": {},
   "outputs": [
    {
     "data": {
      "text/plain": [
       "'algoritma dan struktur data'"
      ]
     },
     "execution_count": 11,
     "metadata": {},
     "output_type": "execute_result"
    }
   ],
   "source": [
    "matkulsenin.lower()\n",
    "#membuat semua huruf menjadi huruf kecil"
   ]
  },
  {
   "cell_type": "markdown",
   "id": "a3da0a4b",
   "metadata": {},
   "source": [
    "### find()"
   ]
  },
  {
   "cell_type": "code",
   "execution_count": 12,
   "id": "28aec9e5",
   "metadata": {},
   "outputs": [
    {
     "data": {
      "text/plain": [
       "0"
      ]
     },
     "execution_count": 12,
     "metadata": {},
     "output_type": "execute_result"
    }
   ],
   "source": [
    "matkulsenin.find('Algoritma')\n",
    "#untuk mencari tahu suatu kata dalam kalimat berada \n",
    "#pada urutan atau index keberapa\n",
    "\n",
    "#yang dilihat atau dibaca adalah huruf pertama dalam kata\n",
    "#menghitungnya dimulai dari 0\n",
    "\n",
    "#jika kata atau nilainya tidak ditemukan maka akan \n",
    "#menimnulkan pengecualian berupa yaitu output -1 \n",
    "#yang berarti nilai salah (false)"
   ]
  },
  {
   "cell_type": "code",
   "execution_count": 13,
   "id": "52cd3c96",
   "metadata": {},
   "outputs": [
    {
     "data": {
      "text/plain": [
       "10"
      ]
     },
     "execution_count": 13,
     "metadata": {},
     "output_type": "execute_result"
    }
   ],
   "source": [
    "matkulsenin.find('dan')"
   ]
  },
  {
   "cell_type": "code",
   "execution_count": 14,
   "id": "24a7fec4",
   "metadata": {},
   "outputs": [
    {
     "data": {
      "text/plain": [
       "0"
      ]
     },
     "execution_count": 14,
     "metadata": {},
     "output_type": "execute_result"
    }
   ],
   "source": [
    "matkulsenin.find('Algoritma dan')"
   ]
  },
  {
   "cell_type": "code",
   "execution_count": 15,
   "id": "9393b376",
   "metadata": {},
   "outputs": [
    {
     "data": {
      "text/plain": [
       "-1"
      ]
     },
     "execution_count": 15,
     "metadata": {},
     "output_type": "execute_result"
    }
   ],
   "source": [
    "matkulsenin.find('data')"
   ]
  },
  {
   "cell_type": "markdown",
   "id": "bc1076bc",
   "metadata": {},
   "source": [
    "### replace()"
   ]
  },
  {
   "cell_type": "code",
   "execution_count": 16,
   "id": "00229a8a",
   "metadata": {},
   "outputs": [
    {
     "data": {
      "text/plain": [
       "'Algoritma dan Kalkulus'"
      ]
     },
     "execution_count": 16,
     "metadata": {},
     "output_type": "execute_result"
    }
   ],
   "source": [
    "matkulsenin.replace('Struktur Data', 'Kalkulus')\n",
    "#digunakan untuk mengganti kata atau kalimat dengan yang baru dan berbeda"
   ]
  },
  {
   "cell_type": "code",
   "execution_count": 17,
   "id": "e67d6bf7",
   "metadata": {},
   "outputs": [
    {
     "data": {
      "text/plain": [
       "'Algoritma dan Struktur Data'"
      ]
     },
     "execution_count": 17,
     "metadata": {},
     "output_type": "execute_result"
    }
   ],
   "source": [
    "matkulsenin.replace('struktur data', 'Kalkulus')\n",
    "#jika terdapat kesalahan atau nilai tidak ditemukan maka hasil yang muncul\n",
    "#berupa kata atau kalimat dalam variabel atau \n",
    "#tidak terjadi perubahan kata atau kalimat"
   ]
  },
  {
   "cell_type": "markdown",
   "id": "7b804f09",
   "metadata": {},
   "source": [
    "### in"
   ]
  },
  {
   "cell_type": "code",
   "execution_count": 19,
   "id": "d17f1554",
   "metadata": {},
   "outputs": [
    {
     "name": "stdout",
     "output_type": "stream",
     "text": [
      "True\n"
     ]
    }
   ],
   "source": [
    "print('dan' in matkulsenin)\n"
   ]
  },
  {
   "cell_type": "code",
   "execution_count": 20,
   "id": "c808eeaa",
   "metadata": {},
   "outputs": [
    {
     "name": "stdout",
     "output_type": "stream",
     "text": [
      "False\n"
     ]
    }
   ],
   "source": [
    "print('Dan' in matkulsenin)"
   ]
  },
  {
   "cell_type": "markdown",
   "id": "41f4b1ce",
   "metadata": {},
   "source": [
    "### CONTOH 2"
   ]
  },
  {
   "cell_type": "code",
   "execution_count": 21,
   "id": "da555249",
   "metadata": {},
   "outputs": [],
   "source": [
    "namaku = 'i dewa ayu pradnya pratiwi tentriajaya'"
   ]
  },
  {
   "cell_type": "markdown",
   "id": "9e24db82",
   "metadata": {},
   "source": [
    "### len()"
   ]
  },
  {
   "cell_type": "code",
   "execution_count": 22,
   "id": "91646e58",
   "metadata": {},
   "outputs": [
    {
     "name": "stdout",
     "output_type": "stream",
     "text": [
      "38\n"
     ]
    }
   ],
   "source": [
    "print(len(namaku))"
   ]
  },
  {
   "cell_type": "markdown",
   "id": "9d3dd92e",
   "metadata": {},
   "source": [
    "### upper()"
   ]
  },
  {
   "cell_type": "code",
   "execution_count": 23,
   "id": "bd6a1c9c",
   "metadata": {},
   "outputs": [
    {
     "data": {
      "text/plain": [
       "'I DEWA AYU PRADNYA PRATIWI TENTRIAJAYA'"
      ]
     },
     "execution_count": 23,
     "metadata": {},
     "output_type": "execute_result"
    }
   ],
   "source": [
    "namaku.upper()"
   ]
  },
  {
   "cell_type": "markdown",
   "id": "c9d05c42",
   "metadata": {},
   "source": [
    "### lower()"
   ]
  },
  {
   "cell_type": "code",
   "execution_count": 24,
   "id": "4d9163e0",
   "metadata": {},
   "outputs": [
    {
     "data": {
      "text/plain": [
       "'i dewa ayu pradnya pratiwi tentriajaya'"
      ]
     },
     "execution_count": 24,
     "metadata": {},
     "output_type": "execute_result"
    }
   ],
   "source": [
    "namaku.lower()"
   ]
  },
  {
   "cell_type": "markdown",
   "id": "df31d9e5",
   "metadata": {},
   "source": [
    "### find()"
   ]
  },
  {
   "cell_type": "code",
   "execution_count": 25,
   "id": "2a9793d8",
   "metadata": {},
   "outputs": [
    {
     "data": {
      "text/plain": [
       "7"
      ]
     },
     "execution_count": 25,
     "metadata": {},
     "output_type": "execute_result"
    }
   ],
   "source": [
    "namaku.find('ayu')"
   ]
  },
  {
   "cell_type": "code",
   "execution_count": 26,
   "id": "d0af108a",
   "metadata": {},
   "outputs": [
    {
     "data": {
      "text/plain": [
       "1"
      ]
     },
     "execution_count": 26,
     "metadata": {},
     "output_type": "execute_result"
    }
   ],
   "source": [
    "namaku.find(' ')"
   ]
  },
  {
   "cell_type": "code",
   "execution_count": 27,
   "id": "25e9d1b4",
   "metadata": {},
   "outputs": [
    {
     "data": {
      "text/plain": [
       "7"
      ]
     },
     "execution_count": 27,
     "metadata": {},
     "output_type": "execute_result"
    }
   ],
   "source": [
    "namaku.find('ayu pradnya')"
   ]
  },
  {
   "cell_type": "markdown",
   "id": "02671796",
   "metadata": {},
   "source": [
    "### replace()"
   ]
  },
  {
   "cell_type": "code",
   "execution_count": 28,
   "id": "175d82bd",
   "metadata": {},
   "outputs": [
    {
     "data": {
      "text/plain": [
       "'i dewa ayu pradnya pratiwi t.'"
      ]
     },
     "execution_count": 28,
     "metadata": {},
     "output_type": "execute_result"
    }
   ],
   "source": [
    "namaku.replace('tentriajaya', 't.')"
   ]
  },
  {
   "cell_type": "code",
   "execution_count": 29,
   "id": "25ac59a2",
   "metadata": {},
   "outputs": [
    {
     "data": {
      "text/plain": [
       "'i dewa ayu pradnya p. t.'"
      ]
     },
     "execution_count": 29,
     "metadata": {},
     "output_type": "execute_result"
    }
   ],
   "source": [
    "namaku.replace('pratiwi tentriajaya', 'p. t.')"
   ]
  },
  {
   "cell_type": "code",
   "execution_count": 30,
   "id": "9f9649ee",
   "metadata": {},
   "outputs": [
    {
     "data": {
      "text/plain": [
       "'i dewa ayu pradnya pratiwi tentriajaya'"
      ]
     },
     "execution_count": 30,
     "metadata": {},
     "output_type": "execute_result"
    }
   ],
   "source": [
    "namaku.replace('Tentriajaya', 't.')"
   ]
  },
  {
   "cell_type": "markdown",
   "id": "a9137eb3",
   "metadata": {},
   "source": [
    "### in()"
   ]
  },
  {
   "cell_type": "code",
   "execution_count": 31,
   "id": "cf8861da",
   "metadata": {},
   "outputs": [
    {
     "name": "stdout",
     "output_type": "stream",
     "text": [
      "True\n"
     ]
    }
   ],
   "source": [
    "print('pradnya' in namaku)"
   ]
  },
  {
   "cell_type": "code",
   "execution_count": 32,
   "id": "841eeffa",
   "metadata": {},
   "outputs": [
    {
     "name": "stdout",
     "output_type": "stream",
     "text": [
      "False\n"
     ]
    }
   ],
   "source": [
    "print('Pradnya' in namaku)"
   ]
  },
  {
   "cell_type": "markdown",
   "id": "22f2f07b",
   "metadata": {},
   "source": [
    "### capitalize()\n",
    "##### digunakan untuk mengubah huruf kecil di awal kalimat atau kata menjadi huruf kapital"
   ]
  },
  {
   "cell_type": "code",
   "execution_count": 33,
   "id": "31d4385c",
   "metadata": {},
   "outputs": [
    {
     "data": {
      "text/plain": [
       "'I dewa ayu pradnya pratiwi tentriajaya'"
      ]
     },
     "execution_count": 33,
     "metadata": {},
     "output_type": "execute_result"
    }
   ],
   "source": [
    "namaku.capitalize()"
   ]
  },
  {
   "cell_type": "code",
   "execution_count": 34,
   "id": "52117196",
   "metadata": {},
   "outputs": [
    {
     "data": {
      "text/plain": [
       "'Namaku ayu. aku tinggal di dalung.'"
      ]
     },
     "execution_count": 34,
     "metadata": {},
     "output_type": "execute_result"
    }
   ],
   "source": [
    "perkenalan = 'namaku Ayu. aku tinggal di dalung.'\n",
    "perkenalan.capitalize()\n",
    "#walaupun seharusnya sehabis titik adalah huruf besar, tetapi \n",
    "#perintah ini hanya dapat mengubah huruf depannya saja "
   ]
  },
  {
   "cell_type": "markdown",
   "id": "e7a57c75",
   "metadata": {},
   "source": [
    "### title()\n",
    "#### digunakan untuk mengubah huruf depan pada setiap kata dalam kalimat menjadi huruf besar"
   ]
  },
  {
   "cell_type": "code",
   "execution_count": 35,
   "id": "9acb84f9",
   "metadata": {},
   "outputs": [
    {
     "data": {
      "text/plain": [
       "'I Dewa Ayu Pradnya Pratiwi Tentriajaya'"
      ]
     },
     "execution_count": 35,
     "metadata": {},
     "output_type": "execute_result"
    }
   ],
   "source": [
    "namaku.title()"
   ]
  },
  {
   "cell_type": "markdown",
   "id": "00754a64",
   "metadata": {},
   "source": [
    "### split()\n",
    "\n",
    "#### digunakan untuk mengubah string menjadi beberapa bagian yang diapit tanda petik"
   ]
  },
  {
   "cell_type": "code",
   "execution_count": 36,
   "id": "e4d39bd0",
   "metadata": {},
   "outputs": [
    {
     "data": {
      "text/plain": [
       "['i', 'dewa', 'ayu', 'pradnya', 'pratiwi', 'tentriajaya']"
      ]
     },
     "execution_count": 36,
     "metadata": {},
     "output_type": "execute_result"
    }
   ],
   "source": [
    "namaku.split()"
   ]
  },
  {
   "cell_type": "markdown",
   "id": "de275e94",
   "metadata": {},
   "source": [
    "### center()\n",
    "#### digunakan untuk membuat string di posisi center (tengah)"
   ]
  },
  {
   "cell_type": "code",
   "execution_count": 37,
   "id": "76a12b35",
   "metadata": {},
   "outputs": [
    {
     "data": {
      "text/plain": [
       "'   i dewa ayu pradnya pratiwi tentriajaya  '"
      ]
     },
     "execution_count": 37,
     "metadata": {},
     "output_type": "execute_result"
    }
   ],
   "source": [
    "namaku.center(43)\n",
    "#"
   ]
  },
  {
   "cell_type": "code",
   "execution_count": 38,
   "id": "0e9b04c1",
   "metadata": {},
   "outputs": [
    {
     "data": {
      "text/plain": [
       "'           i dewa ayu pradnya pratiwi tentriajaya           '"
      ]
     },
     "execution_count": 38,
     "metadata": {},
     "output_type": "execute_result"
    }
   ],
   "source": [
    "namaku.center(60)"
   ]
  },
  {
   "cell_type": "markdown",
   "id": "c67540ba",
   "metadata": {},
   "source": [
    "# 5.7 Operasi Matematika di Python"
   ]
  },
  {
   "cell_type": "markdown",
   "id": "bc390edf",
   "metadata": {},
   "source": [
    "#### Penjumlahan (+)"
   ]
  },
  {
   "cell_type": "code",
   "execution_count": 39,
   "id": "204b0aa0",
   "metadata": {},
   "outputs": [
    {
     "name": "stdout",
     "output_type": "stream",
     "text": [
      "23\n"
     ]
    }
   ],
   "source": [
    "print(11+12)"
   ]
  },
  {
   "cell_type": "code",
   "execution_count": 40,
   "id": "67cd9ab4",
   "metadata": {},
   "outputs": [
    {
     "name": "stdout",
     "output_type": "stream",
     "text": [
      "-23\n"
     ]
    }
   ],
   "source": [
    "print(-11+(-12))"
   ]
  },
  {
   "cell_type": "markdown",
   "id": "ea0aa618",
   "metadata": {},
   "source": [
    "#### Pengurangan (-)"
   ]
  },
  {
   "cell_type": "code",
   "execution_count": 41,
   "id": "8aeafb70",
   "metadata": {},
   "outputs": [
    {
     "name": "stdout",
     "output_type": "stream",
     "text": [
      "1\n"
     ]
    }
   ],
   "source": [
    "print(12-11)"
   ]
  },
  {
   "cell_type": "code",
   "execution_count": 42,
   "id": "d1793e24",
   "metadata": {},
   "outputs": [
    {
     "name": "stdout",
     "output_type": "stream",
     "text": [
      "-1\n"
     ]
    }
   ],
   "source": [
    "print(11-12)"
   ]
  },
  {
   "cell_type": "code",
   "execution_count": 43,
   "id": "7af0c777",
   "metadata": {},
   "outputs": [
    {
     "name": "stdout",
     "output_type": "stream",
     "text": [
      "-1\n"
     ]
    }
   ],
   "source": [
    "print(-12-(-11))"
   ]
  },
  {
   "cell_type": "code",
   "execution_count": 44,
   "id": "ca6c7928",
   "metadata": {},
   "outputs": [
    {
     "name": "stdout",
     "output_type": "stream",
     "text": [
      "1\n"
     ]
    }
   ],
   "source": [
    "print(-11-(-12))"
   ]
  },
  {
   "cell_type": "markdown",
   "id": "13d2d8eb",
   "metadata": {},
   "source": [
    "#### Perkalian (*)"
   ]
  },
  {
   "cell_type": "code",
   "execution_count": 45,
   "id": "917f563b",
   "metadata": {},
   "outputs": [
    {
     "name": "stdout",
     "output_type": "stream",
     "text": [
      "132\n"
     ]
    }
   ],
   "source": [
    "print(11*12)"
   ]
  },
  {
   "cell_type": "markdown",
   "id": "b0592532",
   "metadata": {},
   "source": [
    "#### Pembagian (/)"
   ]
  },
  {
   "cell_type": "code",
   "execution_count": 46,
   "id": "293e9e67",
   "metadata": {},
   "outputs": [
    {
     "name": "stdout",
     "output_type": "stream",
     "text": [
      "0.9166666666666666\n"
     ]
    }
   ],
   "source": [
    "print(11/12)"
   ]
  },
  {
   "cell_type": "code",
   "execution_count": 47,
   "id": "c93a7b7d",
   "metadata": {},
   "outputs": [
    {
     "name": "stdout",
     "output_type": "stream",
     "text": [
      "1.0909090909090908\n"
     ]
    }
   ],
   "source": [
    "print(12/11)"
   ]
  },
  {
   "cell_type": "markdown",
   "id": "9c458a95",
   "metadata": {},
   "source": [
    "#### Pembulatan Pembagian (//)"
   ]
  },
  {
   "cell_type": "code",
   "execution_count": 48,
   "id": "cfa688d8",
   "metadata": {},
   "outputs": [
    {
     "name": "stdout",
     "output_type": "stream",
     "text": [
      "0\n"
     ]
    }
   ],
   "source": [
    "print(11//12)"
   ]
  },
  {
   "cell_type": "code",
   "execution_count": 49,
   "id": "acec84dc",
   "metadata": {},
   "outputs": [
    {
     "name": "stdout",
     "output_type": "stream",
     "text": [
      "1\n"
     ]
    }
   ],
   "source": [
    "print(12//11)"
   ]
  },
  {
   "cell_type": "markdown",
   "id": "2c642e23",
   "metadata": {},
   "source": [
    "#### Modulo (%)"
   ]
  },
  {
   "cell_type": "code",
   "execution_count": 50,
   "id": "eec2546b",
   "metadata": {},
   "outputs": [
    {
     "name": "stdout",
     "output_type": "stream",
     "text": [
      "1\n"
     ]
    }
   ],
   "source": [
    "print(12%11)"
   ]
  },
  {
   "cell_type": "markdown",
   "id": "3aeb5169",
   "metadata": {},
   "source": [
    "#### Pemangkatan (**)"
   ]
  },
  {
   "cell_type": "code",
   "execution_count": 51,
   "id": "4d6d7ad7",
   "metadata": {},
   "outputs": [
    {
     "name": "stdout",
     "output_type": "stream",
     "text": [
      "3138428376721\n"
     ]
    }
   ],
   "source": [
    "print(11**12)"
   ]
  },
  {
   "cell_type": "code",
   "execution_count": 52,
   "id": "a20fe176",
   "metadata": {},
   "outputs": [
    {
     "name": "stdout",
     "output_type": "stream",
     "text": [
      "743008370688\n"
     ]
    }
   ],
   "source": [
    "print(12**11)"
   ]
  },
  {
   "cell_type": "markdown",
   "id": "37489d94",
   "metadata": {},
   "source": [
    "#### Augmented Operator"
   ]
  },
  {
   "cell_type": "code",
   "execution_count": 53,
   "id": "078e3c6a",
   "metadata": {},
   "outputs": [
    {
     "name": "stdout",
     "output_type": "stream",
     "text": [
      "23\n"
     ]
    }
   ],
   "source": [
    "y = 11\n",
    "y+=12\n",
    "print(y)"
   ]
  },
  {
   "cell_type": "code",
   "execution_count": 54,
   "id": "d0eda835",
   "metadata": {},
   "outputs": [
    {
     "name": "stdout",
     "output_type": "stream",
     "text": [
      "11\n"
     ]
    }
   ],
   "source": [
    "y-=12\n",
    "print(y)"
   ]
  },
  {
   "cell_type": "code",
   "execution_count": 55,
   "id": "c3540ff7",
   "metadata": {},
   "outputs": [
    {
     "name": "stdout",
     "output_type": "stream",
     "text": [
      "132\n"
     ]
    }
   ],
   "source": [
    "y*=12\n",
    "print(y)"
   ]
  },
  {
   "cell_type": "markdown",
   "id": "eecf0b6c",
   "metadata": {},
   "source": [
    "# 5.8 Operator Perbandingan di Python"
   ]
  },
  {
   "cell_type": "markdown",
   "id": "993cc07e",
   "metadata": {},
   "source": [
    "### CONTOH 1"
   ]
  },
  {
   "cell_type": "markdown",
   "id": "0a944483",
   "metadata": {},
   "source": [
    "#### Lebih Besar (>)"
   ]
  },
  {
   "cell_type": "code",
   "execution_count": 56,
   "id": "7e2a018d",
   "metadata": {},
   "outputs": [
    {
     "name": "stdout",
     "output_type": "stream",
     "text": [
      "True\n"
     ]
    }
   ],
   "source": [
    "a = 9>0\n",
    "print(a)"
   ]
  },
  {
   "cell_type": "markdown",
   "id": "851f4e25",
   "metadata": {},
   "source": [
    "#### Lebih Kecil (<)"
   ]
  },
  {
   "cell_type": "code",
   "execution_count": 57,
   "id": "17ac734c",
   "metadata": {},
   "outputs": [
    {
     "name": "stdout",
     "output_type": "stream",
     "text": [
      "True\n"
     ]
    }
   ],
   "source": [
    "a = 0<9\n",
    "print(a)"
   ]
  },
  {
   "cell_type": "markdown",
   "id": "89064be9",
   "metadata": {},
   "source": [
    "####  Lebih Besar Sama Dengan (>=)"
   ]
  },
  {
   "cell_type": "code",
   "execution_count": 58,
   "id": "3ee8bd43",
   "metadata": {},
   "outputs": [
    {
     "name": "stdout",
     "output_type": "stream",
     "text": [
      "True\n"
     ]
    }
   ],
   "source": [
    "a = 9>=0\n",
    "print(a)"
   ]
  },
  {
   "cell_type": "markdown",
   "id": "3884a226",
   "metadata": {},
   "source": [
    "#### Lebih Kecil Sama Dengan (<=),"
   ]
  },
  {
   "cell_type": "code",
   "execution_count": 59,
   "id": "8dbe837c",
   "metadata": {},
   "outputs": [
    {
     "name": "stdout",
     "output_type": "stream",
     "text": [
      "True\n"
     ]
    }
   ],
   "source": [
    "a = 0<=9\n",
    "print(a)"
   ]
  },
  {
   "cell_type": "markdown",
   "id": "9d072042",
   "metadata": {},
   "source": [
    "#### Sama Dengan (==)"
   ]
  },
  {
   "cell_type": "code",
   "execution_count": 60,
   "id": "2d11e789",
   "metadata": {},
   "outputs": [
    {
     "name": "stdout",
     "output_type": "stream",
     "text": [
      "True\n"
     ]
    }
   ],
   "source": [
    "a = 0==0\n",
    "print(a)"
   ]
  },
  {
   "cell_type": "markdown",
   "id": "8e406b35",
   "metadata": {},
   "source": [
    "#### Tidak Sama Dengan (!=)"
   ]
  },
  {
   "cell_type": "code",
   "execution_count": 61,
   "id": "70c920f3",
   "metadata": {},
   "outputs": [
    {
     "name": "stdout",
     "output_type": "stream",
     "text": [
      "True\n"
     ]
    }
   ],
   "source": [
    "a = 0!=9\n",
    "print(a)"
   ]
  },
  {
   "cell_type": "markdown",
   "id": "80bfe747",
   "metadata": {},
   "source": [
    "### CONTOH 2 \n",
    "#### mencoba membandingkan dengan contoh 1"
   ]
  },
  {
   "cell_type": "markdown",
   "id": "651f8755",
   "metadata": {},
   "source": [
    "#### Lebih Besar (>)"
   ]
  },
  {
   "cell_type": "code",
   "execution_count": 62,
   "id": "19ef739f",
   "metadata": {},
   "outputs": [
    {
     "name": "stdout",
     "output_type": "stream",
     "text": [
      "False\n"
     ]
    }
   ],
   "source": [
    "a = 0>9\n",
    "print(a)"
   ]
  },
  {
   "cell_type": "markdown",
   "id": "8e799027",
   "metadata": {},
   "source": [
    "#### Lebih Kecil (<)"
   ]
  },
  {
   "cell_type": "code",
   "execution_count": 63,
   "id": "259c30ba",
   "metadata": {},
   "outputs": [
    {
     "name": "stdout",
     "output_type": "stream",
     "text": [
      "False\n"
     ]
    }
   ],
   "source": [
    "a = 9<0\n",
    "print(a)"
   ]
  },
  {
   "cell_type": "markdown",
   "id": "8e5512e7",
   "metadata": {},
   "source": [
    "#### Lebih Besar Sama Dengan (>=)"
   ]
  },
  {
   "cell_type": "code",
   "execution_count": 64,
   "id": "b3af327d",
   "metadata": {},
   "outputs": [
    {
     "name": "stdout",
     "output_type": "stream",
     "text": [
      "False\n"
     ]
    }
   ],
   "source": [
    "a = 0>=9\n",
    "print(a)"
   ]
  },
  {
   "cell_type": "markdown",
   "id": "eb549e0d",
   "metadata": {},
   "source": [
    "#### Lebih Kecil Sama Dengan (<=)"
   ]
  },
  {
   "cell_type": "code",
   "execution_count": 65,
   "id": "73354a37",
   "metadata": {},
   "outputs": [
    {
     "name": "stdout",
     "output_type": "stream",
     "text": [
      "False\n"
     ]
    }
   ],
   "source": [
    "a = 9<=0\n",
    "print(a)"
   ]
  },
  {
   "cell_type": "markdown",
   "id": "f1476861",
   "metadata": {},
   "source": [
    "#### Sama Dengan (==)"
   ]
  },
  {
   "cell_type": "code",
   "execution_count": 66,
   "id": "8126ce84",
   "metadata": {},
   "outputs": [
    {
     "name": "stdout",
     "output_type": "stream",
     "text": [
      "False\n"
     ]
    }
   ],
   "source": [
    "a = 0==9\n",
    "print(a)"
   ]
  },
  {
   "cell_type": "markdown",
   "id": "77435372",
   "metadata": {},
   "source": [
    "#### Tidak Sama Dengan (!=)"
   ]
  },
  {
   "cell_type": "code",
   "execution_count": 67,
   "id": "d93a0b6a",
   "metadata": {},
   "outputs": [
    {
     "name": "stdout",
     "output_type": "stream",
     "text": [
      "False\n"
     ]
    }
   ],
   "source": [
    "a = 0!=0\n",
    "print(a)"
   ]
  },
  {
   "cell_type": "markdown",
   "id": "bc5e2774",
   "metadata": {},
   "source": [
    "# 5.9 Operator Logika di Python\n"
   ]
  },
  {
   "cell_type": "code",
   "execution_count": 68,
   "id": "8f58a20d",
   "metadata": {},
   "outputs": [
    {
     "name": "stdout",
     "output_type": "stream",
     "text": [
      "True\n"
     ]
    }
   ],
   "source": [
    "nilai1 = 10\n",
    "nilai2 = 15\n",
    "print(nilai1>5 and nilai2<20)\n",
    "#10>5 dan 15<20\n",
    "#benar dan benar = salah"
   ]
  },
  {
   "cell_type": "code",
   "execution_count": 69,
   "id": "fbec345b",
   "metadata": {},
   "outputs": [
    {
     "name": "stdout",
     "output_type": "stream",
     "text": [
      "False\n"
     ]
    }
   ],
   "source": [
    "print(nilai1<5 and nilai2<20)\n",
    "#10<5 dan 15<20\n",
    "#salah dan benar = salah"
   ]
  },
  {
   "cell_type": "code",
   "execution_count": 70,
   "id": "dce0353c",
   "metadata": {},
   "outputs": [
    {
     "name": "stdout",
     "output_type": "stream",
     "text": [
      "False\n"
     ]
    }
   ],
   "source": [
    "print(nilai1<5 and nilai2>20)\n",
    "#10<5 dan 15>20\n",
    "#salah dan salah = salah"
   ]
  },
  {
   "cell_type": "code",
   "execution_count": 71,
   "id": "9975fbb8",
   "metadata": {},
   "outputs": [
    {
     "name": "stdout",
     "output_type": "stream",
     "text": [
      "True\n"
     ]
    }
   ],
   "source": [
    "print(nilai1>5 or nilai2<20)\n",
    "#10>5 atau 15<20\n",
    "#benar atau benar = benar"
   ]
  },
  {
   "cell_type": "code",
   "execution_count": 72,
   "id": "d2da114e",
   "metadata": {},
   "outputs": [
    {
     "name": "stdout",
     "output_type": "stream",
     "text": [
      "True\n"
     ]
    }
   ],
   "source": [
    "print(nilai1<5 or nilai2<20)\n",
    "#10<5 atau 15<20\n",
    "#salah atau benar = benar"
   ]
  },
  {
   "cell_type": "code",
   "execution_count": 73,
   "id": "fe8bedfa",
   "metadata": {},
   "outputs": [
    {
     "name": "stdout",
     "output_type": "stream",
     "text": [
      "False\n"
     ]
    }
   ],
   "source": [
    "print(nilai1<5 or nilai2>20)\n",
    "#10<5 atau 15>20\n",
    "#salah atau salah = salah"
   ]
  },
  {
   "cell_type": "markdown",
   "id": "c55e01d6",
   "metadata": {},
   "source": [
    "# 5.10 Operator if di Python"
   ]
  },
  {
   "cell_type": "code",
   "execution_count": 76,
   "id": "0d431228",
   "metadata": {},
   "outputs": [
    {
     "name": "stdout",
     "output_type": "stream",
     "text": [
      "Cek Tinggi Minimal dan Maksimal Calon Paskibraka Nasional Bagi Wanita\n",
      "Masukkan tinggi badan anda (cm) : 165.5\n",
      "Tinggi badan anda mencukupi untuk kategori tinggi badan, lanjutkan perjalananmu!\n"
     ]
    }
   ],
   "source": [
    "print('Cek Tinggi Minimal dan Maksimal Calon Paskibraka Nasional Bagi Wanita')\n",
    "tinggi = float(input('Masukkan tinggi badan anda (cm) : '))\n",
    "if (tinggi >=180):\n",
    "     print('Mohon maaf anda belum bisa lolos pada kategori tinggi badan')\n",
    "if (tinggi <180 and tinggi >=170):\n",
    "     print('Selamat! Anda lolos kategori tinggi badan')\n",
    "if (tinggi <170 and tinggi >=165):\n",
    "     print('Tinggi badan anda mencukupi untuk kategori tinggi badan, lanjutkan perjalananmu!')\n",
    "if tinggi < 165 :\n",
    "    print('Mohon maaf tinggi badan anda belum mencukupi kategori lolos seleksi')"
   ]
  },
  {
   "cell_type": "code",
   "execution_count": 77,
   "id": "f1efbaa8",
   "metadata": {},
   "outputs": [
    {
     "name": "stdout",
     "output_type": "stream",
     "text": [
      "Cek Tinggi Minimal dan Maksimal Calon Paskibraka Nasional Bagi Wanita\n",
      "Masukkan tinggi badan anda (cm): 164.9\n",
      "Mohon maaf tinggi badan anda belum mencukupi kategori lolos seleksi\n"
     ]
    }
   ],
   "source": [
    "print('Cek Tinggi Minimal dan Maksimal Calon Paskibraka Nasional Bagi Wanita')\n",
    "tinggi = float(input('Masukkan tinggi badan anda (cm): '))\n",
    "if (tinggi >=180):\n",
    "     print('Mohon maaf anda belum bisa lolos pada kategori tinggi badan')\n",
    "elif (tinggi >=170):\n",
    "     print('Selamat! Anda lolos kategori tinggi badan')\n",
    "elif (tinggi >=165):\n",
    "     print('Tinggi badan anda mencukupi untuk kategori tinggi badan, lanjutkan perjalananmu!')\n",
    "else :\n",
    "    print('Mohon maaf tinggi badan anda belum mencukupi kategori lolos seleksi')"
   ]
  }
 ],
 "metadata": {
  "kernelspec": {
   "display_name": "Python 3 (ipykernel)",
   "language": "python",
   "name": "python3"
  },
  "language_info": {
   "codemirror_mode": {
    "name": "ipython",
    "version": 3
   },
   "file_extension": ".py",
   "mimetype": "text/x-python",
   "name": "python",
   "nbconvert_exporter": "python",
   "pygments_lexer": "ipython3",
   "version": "3.9.13"
  }
 },
 "nbformat": 4,
 "nbformat_minor": 5
}
